{
  "cells": [
    {
      "cell_type": "markdown",
      "metadata": {
        "id": "view-in-github",
        "colab_type": "text"
      },
      "source": [
        "<a href=\"https://colab.research.google.com/github/RiccardoRubini93/SWA_DQ/blob/main/Check_File_Structure.ipynb\" target=\"_parent\"><img src=\"https://colab.research.google.com/assets/colab-badge.svg\" alt=\"Open In Colab\"/></a>"
      ]
    },
    {
      "cell_type": "markdown",
      "metadata": {
        "id": "nk6Rb17lzGBH"
      },
      "source": [
        "Authentication in GCP with current user credentials"
      ]
    },
    {
      "cell_type": "code",
      "execution_count": 5,
      "metadata": {
        "colab": {
          "base_uri": "https://localhost:8080/"
        },
        "id": "TeLszfTxy7t9",
        "outputId": "208bf335-54bb-48c0-ce18-906c8b1407ab"
      },
      "outputs": [
        {
          "output_type": "stream",
          "name": "stdout",
          "text": [
            "Authenticated\n"
          ]
        }
      ],
      "source": [
        "from google.colab import auth\n",
        "\n",
        "auth.authenticate_user()\n",
        "\n",
        "print('Authenticated')"
      ]
    },
    {
      "cell_type": "markdown",
      "metadata": {
        "id": "O2ayHzb_zR5D"
      },
      "source": [
        "Get GCS object info"
      ]
    },
    {
      "cell_type": "code",
      "execution_count": 6,
      "metadata": {
        "id": "_gzt2iRo8n2p"
      },
      "outputs": [],
      "source": [
        "from io import BytesIO, StringIO\n",
        "from google.cloud import storage\n",
        "\n",
        "def get_byte_fileobj(project: str,\n",
        "                     bucket: str,\n",
        "                     path: str) -> BytesIO:\n",
        "    \"\"\"\n",
        "    Retrieve data from a given blob on Google Storage and pass it as a file object.\n",
        "    :param path: path within the bucket\n",
        "    :param project: name of the project\n",
        "    :param bucket_name: name of the bucket\n",
        "    :return: file object (BytesIO)\n",
        "    \"\"\"\n",
        "    blob = _get_blob(bucket, path, project)\n",
        "    byte_stream = BytesIO()\n",
        "    blob.download_to_file(byte_stream)\n",
        "    byte_stream.seek(0)\n",
        "    return byte_stream\n",
        "\n",
        "def get_bytestring(project: str,\n",
        "                   bucket: str,\n",
        "                   path: str) -> bytes:\n",
        "    \"\"\"\n",
        "    Retrieve data from a given blob on Google Storage and pass it as a byte-string.\n",
        "    :param path: path within the bucket\n",
        "    :param project: name of the project\n",
        "    :param bucket_name: name of the bucket\n",
        "    :return: byte-string (needs to be decoded)\n",
        "    \"\"\"\n",
        "    blob = _get_blob(bucket, path, project)\n",
        "    s = blob.download_as_string()\n",
        "    return s\n",
        "\n",
        "\n",
        "def _get_blob(bucket_name, path, project):\n",
        "\n",
        "    storage_client = storage.Client()\n",
        "    bucket = storage_client.get_bucket(bucket_name)\n",
        "    blob = bucket.blob(path)\n",
        "    return blob"
      ]
    },
    {
      "cell_type": "code",
      "execution_count": 7,
      "metadata": {
        "id": "PnQtSWCczXIx"
      },
      "outputs": [],
      "source": [
        "import pandas as pd\n",
        "import gcsfs\n",
        "import traceback\n",
        "from google.cloud import storage\n",
        "\n",
        "########### This version prints both RIGHTLY FORMATTED THEN ERRORS\n",
        "\n",
        "def list_blobs(bucket_name):\n",
        "    \"\"\"Lists all the blobs in the bucket.\"\"\"\n",
        "    # bucket_name = \"your-bucket-name\" --> provided as input of the function\n",
        "    project = \"advanced-analytics-278408\"\n",
        "    storage_client = storage.Client()\n",
        "\n",
        "    # Note: Client.list_blobs requires at least package version 1.17.0.\n",
        "    blobs = storage_client.list_blobs(bucket_name)\n",
        "\n",
        "    # Note: The call returns a response only when the iterator is consumed.\n",
        "    # https://gcsfs.readthedocs.io/en/latest/#credentials\n",
        "    for blob in blobs:\n",
        "        file_name = \"gs://\" + bucket_name +  blob.name\n",
        "        path = blob.name\n",
        "        if file_name.endswith('.csv'):\n",
        "          print(\"############################################## File under analysis: \" + file_name)\n",
        "          print(\"\")\n",
        "          #df = dd.read_csv(file_name)\n",
        "          fileobj = get_byte_fileobj(project, bucket_name, path)\n",
        "          try:\n",
        "            df = pd.read_csv(fileobj, sep ='\\t' )\n",
        "            print(df.info())\n",
        "          except Exception as e:\n",
        "            print(\"\")\n",
        "            print(\"##############  ERROR ##############\")\n",
        "            print(\"\")\n",
        "            print(e)\n",
        "            print(\"\")\n",
        "            print(\"##############  ERROR ##############\")\n",
        "            print(\"\")"
      ]
    },
    {
      "cell_type": "code",
      "execution_count": 9,
      "metadata": {
        "colab": {
          "base_uri": "https://localhost:8080/",
          "height": 678
        },
        "id": "KCIDTB8HOouX",
        "outputId": "771203c1-6782-4c60-ae6a-b3271f5263b6"
      },
      "outputs": [
        {
          "output_type": "stream",
          "name": "stdout",
          "text": [
            "1 out of total read files 5 - ############################################## File under analysis: gs://data_exchange__crm_prodraw/02_SAP_P60/0201/v1/2023/0201__crm_master_MAIN__dd__20230117/0201__crm_master_MAIN__dd__20230117__15360517.csv\n",
            "\n",
            "##############  ERROR ##############\n",
            "\n",
            "Error tokenizing data. C error: EOF inside string starting at row 301\n",
            "301\n",
            "0000242502\tMumbai\tIN\t\tfalse\t400018\t\t\"Poonam Chambers, \"\"G\"\" Block, Dr.\t\t\t\t\tfalse\t\t\t\t\t\tR3BP\tX\tZZ\tTOUR\tAM\tGovan Travels\t\t\t\t\n",
            "\n",
            "##############  ERROR ##############\n",
            "\n",
            "2 out of total read files 9 - ############################################## File under analysis: gs://data_exchange__crm_prodraw/02_SAP_P60/0201/v1/2023/0201__crm_master_MAIN__dd__20230117/0201__crm_master_MAIN__dd__20230117__153621666.csv\n",
            "\n",
            "##############  ERROR ##############\n",
            "\n",
            "Error tokenizing data. C error: EOF inside string starting at row 815\n",
            "815\n",
            "0000242871\tWoronesch\tRU\t\tfalse\t394000\t\t\"Pr. Revolutzie , \"\" ZUM\"\" Worone\t\t\t\t\tfalse\t\t\t\t\t\tR3BP\tX\tZZ\tTOUR\tAM\tL' Ark\t\t\t\t\n",
            "\n",
            "##############  ERROR ##############\n",
            "\n"
          ]
        },
        {
          "output_type": "error",
          "ename": "KeyboardInterrupt",
          "evalue": "ignored",
          "traceback": [
            "\u001b[0;31m---------------------------------------------------------------------------\u001b[0m",
            "\u001b[0;31mKeyboardInterrupt\u001b[0m                         Traceback (most recent call last)",
            "\u001b[0;32m<ipython-input-9-fa8633e920c8>\u001b[0m in \u001b[0;36m<module>\u001b[0;34m\u001b[0m\n\u001b[0;32m----> 1\u001b[0;31m \u001b[0mlist_blobs_errors\u001b[0m\u001b[0;34m(\u001b[0m\u001b[0;34m\"data_exchange__crm_prod\"\u001b[0m\u001b[0;34m)\u001b[0m\u001b[0;34m\u001b[0m\u001b[0;34m\u001b[0m\u001b[0m\n\u001b[0m",
            "\u001b[0;32m<ipython-input-3-6df6450b9581>\u001b[0m in \u001b[0;36mlist_blobs_errors\u001b[0;34m(bucket_name)\u001b[0m\n\u001b[1;32m     27\u001b[0m           \u001b[0;31m#print(\"\")\u001b[0m\u001b[0;34m\u001b[0m\u001b[0;34m\u001b[0m\u001b[0;34m\u001b[0m\u001b[0m\n\u001b[1;32m     28\u001b[0m           \u001b[0;31m#df = dd.read_csv(file_name)\u001b[0m\u001b[0;34m\u001b[0m\u001b[0;34m\u001b[0m\u001b[0;34m\u001b[0m\u001b[0m\n\u001b[0;32m---> 29\u001b[0;31m           \u001b[0mfileobj\u001b[0m \u001b[0;34m=\u001b[0m \u001b[0mget_byte_fileobj\u001b[0m\u001b[0;34m(\u001b[0m\u001b[0mproject\u001b[0m\u001b[0;34m,\u001b[0m \u001b[0mbucket_name\u001b[0m\u001b[0;34m,\u001b[0m \u001b[0mpath\u001b[0m\u001b[0;34m)\u001b[0m\u001b[0;34m\u001b[0m\u001b[0;34m\u001b[0m\u001b[0m\n\u001b[0m\u001b[1;32m     30\u001b[0m           \u001b[0;32mtry\u001b[0m\u001b[0;34m:\u001b[0m\u001b[0;34m\u001b[0m\u001b[0;34m\u001b[0m\u001b[0m\n\u001b[1;32m     31\u001b[0m             \u001b[0mdf\u001b[0m \u001b[0;34m=\u001b[0m \u001b[0mpd\u001b[0m\u001b[0;34m.\u001b[0m\u001b[0mread_csv\u001b[0m\u001b[0;34m(\u001b[0m\u001b[0mfileobj\u001b[0m\u001b[0;34m,\u001b[0m \u001b[0msep\u001b[0m \u001b[0;34m=\u001b[0m\u001b[0;34m'\\t'\u001b[0m \u001b[0;34m)\u001b[0m\u001b[0;34m\u001b[0m\u001b[0;34m\u001b[0m\u001b[0m\n",
            "\u001b[0;32m<ipython-input-6-666303a63342>\u001b[0m in \u001b[0;36mget_byte_fileobj\u001b[0;34m(project, bucket, path)\u001b[0m\n\u001b[1;32m     14\u001b[0m     \u001b[0mblob\u001b[0m \u001b[0;34m=\u001b[0m \u001b[0m_get_blob\u001b[0m\u001b[0;34m(\u001b[0m\u001b[0mbucket\u001b[0m\u001b[0;34m,\u001b[0m \u001b[0mpath\u001b[0m\u001b[0;34m,\u001b[0m \u001b[0mproject\u001b[0m\u001b[0;34m)\u001b[0m\u001b[0;34m\u001b[0m\u001b[0;34m\u001b[0m\u001b[0m\n\u001b[1;32m     15\u001b[0m     \u001b[0mbyte_stream\u001b[0m \u001b[0;34m=\u001b[0m \u001b[0mBytesIO\u001b[0m\u001b[0;34m(\u001b[0m\u001b[0;34m)\u001b[0m\u001b[0;34m\u001b[0m\u001b[0;34m\u001b[0m\u001b[0m\n\u001b[0;32m---> 16\u001b[0;31m     \u001b[0mblob\u001b[0m\u001b[0;34m.\u001b[0m\u001b[0mdownload_to_file\u001b[0m\u001b[0;34m(\u001b[0m\u001b[0mbyte_stream\u001b[0m\u001b[0;34m)\u001b[0m\u001b[0;34m\u001b[0m\u001b[0;34m\u001b[0m\u001b[0m\n\u001b[0m\u001b[1;32m     17\u001b[0m     \u001b[0mbyte_stream\u001b[0m\u001b[0;34m.\u001b[0m\u001b[0mseek\u001b[0m\u001b[0;34m(\u001b[0m\u001b[0;36m0\u001b[0m\u001b[0;34m)\u001b[0m\u001b[0;34m\u001b[0m\u001b[0;34m\u001b[0m\u001b[0m\n\u001b[1;32m     18\u001b[0m     \u001b[0;32mreturn\u001b[0m \u001b[0mbyte_stream\u001b[0m\u001b[0;34m\u001b[0m\u001b[0;34m\u001b[0m\u001b[0m\n",
            "\u001b[0;32m/usr/local/lib/python3.8/dist-packages/google/cloud/storage/blob.py\u001b[0m in \u001b[0;36mdownload_to_file\u001b[0;34m(self, file_obj, client, start, end, raw_download, if_etag_match, if_etag_not_match, if_generation_match, if_generation_not_match, if_metageneration_match, if_metageneration_not_match, timeout, checksum, retry)\u001b[0m\n\u001b[1;32m   1127\u001b[0m         \u001b[0mclient\u001b[0m \u001b[0;34m=\u001b[0m \u001b[0mself\u001b[0m\u001b[0;34m.\u001b[0m\u001b[0m_require_client\u001b[0m\u001b[0;34m(\u001b[0m\u001b[0mclient\u001b[0m\u001b[0;34m)\u001b[0m\u001b[0;34m\u001b[0m\u001b[0;34m\u001b[0m\u001b[0m\n\u001b[1;32m   1128\u001b[0m \u001b[0;34m\u001b[0m\u001b[0m\n\u001b[0;32m-> 1129\u001b[0;31m         client.download_blob_to_file(\n\u001b[0m\u001b[1;32m   1130\u001b[0m             \u001b[0mself\u001b[0m\u001b[0;34m,\u001b[0m\u001b[0;34m\u001b[0m\u001b[0;34m\u001b[0m\u001b[0m\n\u001b[1;32m   1131\u001b[0m             \u001b[0mfile_obj\u001b[0m\u001b[0;34m=\u001b[0m\u001b[0mfile_obj\u001b[0m\u001b[0;34m,\u001b[0m\u001b[0;34m\u001b[0m\u001b[0;34m\u001b[0m\u001b[0m\n",
            "\u001b[0;32m/usr/local/lib/python3.8/dist-packages/google/cloud/storage/client.py\u001b[0m in \u001b[0;36mdownload_blob_to_file\u001b[0;34m(self, blob_or_uri, file_obj, start, end, raw_download, if_etag_match, if_etag_not_match, if_generation_match, if_generation_not_match, if_metageneration_match, if_metageneration_not_match, timeout, checksum, retry)\u001b[0m\n\u001b[1;32m   1084\u001b[0m         \u001b[0mtransport\u001b[0m \u001b[0;34m=\u001b[0m \u001b[0mself\u001b[0m\u001b[0;34m.\u001b[0m\u001b[0m_http\u001b[0m\u001b[0;34m\u001b[0m\u001b[0;34m\u001b[0m\u001b[0m\n\u001b[1;32m   1085\u001b[0m         \u001b[0;32mtry\u001b[0m\u001b[0;34m:\u001b[0m\u001b[0;34m\u001b[0m\u001b[0;34m\u001b[0m\u001b[0m\n\u001b[0;32m-> 1086\u001b[0;31m             blob_or_uri._do_download(\n\u001b[0m\u001b[1;32m   1087\u001b[0m                 \u001b[0mtransport\u001b[0m\u001b[0;34m,\u001b[0m\u001b[0;34m\u001b[0m\u001b[0;34m\u001b[0m\u001b[0m\n\u001b[1;32m   1088\u001b[0m                 \u001b[0mfile_obj\u001b[0m\u001b[0;34m,\u001b[0m\u001b[0;34m\u001b[0m\u001b[0;34m\u001b[0m\u001b[0m\n",
            "\u001b[0;32m/usr/local/lib/python3.8/dist-packages/google/cloud/storage/blob.py\u001b[0m in \u001b[0;36m_do_download\u001b[0;34m(self, transport, file_obj, download_url, headers, start, end, raw_download, timeout, checksum, retry)\u001b[0m\n\u001b[1;32m    982\u001b[0m             )\n\u001b[1;32m    983\u001b[0m             \u001b[0mdownload\u001b[0m\u001b[0;34m.\u001b[0m\u001b[0m_retry_strategy\u001b[0m \u001b[0;34m=\u001b[0m \u001b[0mretry_strategy\u001b[0m\u001b[0;34m\u001b[0m\u001b[0;34m\u001b[0m\u001b[0m\n\u001b[0;32m--> 984\u001b[0;31m             \u001b[0mresponse\u001b[0m \u001b[0;34m=\u001b[0m \u001b[0mdownload\u001b[0m\u001b[0;34m.\u001b[0m\u001b[0mconsume\u001b[0m\u001b[0;34m(\u001b[0m\u001b[0mtransport\u001b[0m\u001b[0;34m,\u001b[0m \u001b[0mtimeout\u001b[0m\u001b[0;34m=\u001b[0m\u001b[0mtimeout\u001b[0m\u001b[0;34m)\u001b[0m\u001b[0;34m\u001b[0m\u001b[0;34m\u001b[0m\u001b[0m\n\u001b[0m\u001b[1;32m    985\u001b[0m             \u001b[0mself\u001b[0m\u001b[0;34m.\u001b[0m\u001b[0m_extract_headers_from_download\u001b[0m\u001b[0;34m(\u001b[0m\u001b[0mresponse\u001b[0m\u001b[0;34m)\u001b[0m\u001b[0;34m\u001b[0m\u001b[0;34m\u001b[0m\u001b[0m\n\u001b[1;32m    986\u001b[0m         \u001b[0;32melse\u001b[0m\u001b[0;34m:\u001b[0m\u001b[0;34m\u001b[0m\u001b[0;34m\u001b[0m\u001b[0m\n",
            "\u001b[0;32m/usr/local/lib/python3.8/dist-packages/google/resumable_media/requests/download.py\u001b[0m in \u001b[0;36mconsume\u001b[0;34m(self, transport, timeout)\u001b[0m\n\u001b[1;32m    235\u001b[0m             \u001b[0;32mreturn\u001b[0m \u001b[0mresult\u001b[0m\u001b[0;34m\u001b[0m\u001b[0;34m\u001b[0m\u001b[0m\n\u001b[1;32m    236\u001b[0m \u001b[0;34m\u001b[0m\u001b[0m\n\u001b[0;32m--> 237\u001b[0;31m         return _request_helpers.wait_and_retry(\n\u001b[0m\u001b[1;32m    238\u001b[0m             \u001b[0mretriable_request\u001b[0m\u001b[0;34m,\u001b[0m \u001b[0mself\u001b[0m\u001b[0;34m.\u001b[0m\u001b[0m_get_status_code\u001b[0m\u001b[0;34m,\u001b[0m \u001b[0mself\u001b[0m\u001b[0;34m.\u001b[0m\u001b[0m_retry_strategy\u001b[0m\u001b[0;34m\u001b[0m\u001b[0;34m\u001b[0m\u001b[0m\n\u001b[1;32m    239\u001b[0m         )\n",
            "\u001b[0;32m/usr/local/lib/python3.8/dist-packages/google/resumable_media/requests/_request_helpers.py\u001b[0m in \u001b[0;36mwait_and_retry\u001b[0;34m(func, get_status_code, retry_strategy)\u001b[0m\n\u001b[1;32m    146\u001b[0m         \u001b[0merror\u001b[0m \u001b[0;34m=\u001b[0m \u001b[0;32mNone\u001b[0m\u001b[0;34m\u001b[0m\u001b[0;34m\u001b[0m\u001b[0m\n\u001b[1;32m    147\u001b[0m         \u001b[0;32mtry\u001b[0m\u001b[0;34m:\u001b[0m\u001b[0;34m\u001b[0m\u001b[0;34m\u001b[0m\u001b[0m\n\u001b[0;32m--> 148\u001b[0;31m             \u001b[0mresponse\u001b[0m \u001b[0;34m=\u001b[0m \u001b[0mfunc\u001b[0m\u001b[0;34m(\u001b[0m\u001b[0;34m)\u001b[0m\u001b[0;34m\u001b[0m\u001b[0;34m\u001b[0m\u001b[0m\n\u001b[0m\u001b[1;32m    149\u001b[0m         \u001b[0;32mexcept\u001b[0m \u001b[0m_CONNECTION_ERROR_CLASSES\u001b[0m \u001b[0;32mas\u001b[0m \u001b[0me\u001b[0m\u001b[0;34m:\u001b[0m\u001b[0;34m\u001b[0m\u001b[0;34m\u001b[0m\u001b[0m\n\u001b[1;32m    150\u001b[0m             \u001b[0merror\u001b[0m \u001b[0;34m=\u001b[0m \u001b[0me\u001b[0m  \u001b[0;31m# Fall through to retry, if there are retries left.\u001b[0m\u001b[0;34m\u001b[0m\u001b[0;34m\u001b[0m\u001b[0m\n",
            "\u001b[0;32m/usr/local/lib/python3.8/dist-packages/google/resumable_media/requests/download.py\u001b[0m in \u001b[0;36mretriable_request\u001b[0;34m()\u001b[0m\n\u001b[1;32m    208\u001b[0m                     \u001b[0murl\u001b[0m \u001b[0;34m=\u001b[0m \u001b[0m_helpers\u001b[0m\u001b[0;34m.\u001b[0m\u001b[0madd_query_parameters\u001b[0m\u001b[0;34m(\u001b[0m\u001b[0mself\u001b[0m\u001b[0;34m.\u001b[0m\u001b[0mmedia_url\u001b[0m\u001b[0;34m,\u001b[0m \u001b[0mquery_param\u001b[0m\u001b[0;34m)\u001b[0m\u001b[0;34m\u001b[0m\u001b[0;34m\u001b[0m\u001b[0m\n\u001b[1;32m    209\u001b[0m \u001b[0;34m\u001b[0m\u001b[0m\n\u001b[0;32m--> 210\u001b[0;31m             \u001b[0mresult\u001b[0m \u001b[0;34m=\u001b[0m \u001b[0mtransport\u001b[0m\u001b[0;34m.\u001b[0m\u001b[0mrequest\u001b[0m\u001b[0;34m(\u001b[0m\u001b[0mmethod\u001b[0m\u001b[0;34m,\u001b[0m \u001b[0murl\u001b[0m\u001b[0;34m,\u001b[0m \u001b[0;34m**\u001b[0m\u001b[0mrequest_kwargs\u001b[0m\u001b[0;34m)\u001b[0m\u001b[0;34m\u001b[0m\u001b[0;34m\u001b[0m\u001b[0m\n\u001b[0m\u001b[1;32m    211\u001b[0m \u001b[0;34m\u001b[0m\u001b[0m\n\u001b[1;32m    212\u001b[0m             \u001b[0;31m# If a generation hasn't been specified, and this is the first response we get, let's record the\u001b[0m\u001b[0;34m\u001b[0m\u001b[0;34m\u001b[0m\u001b[0;34m\u001b[0m\u001b[0m\n",
            "\u001b[0;32m/usr/local/lib/python3.8/dist-packages/google/auth/transport/requests.py\u001b[0m in \u001b[0;36mrequest\u001b[0;34m(self, method, url, data, headers, max_allowed_time, timeout, **kwargs)\u001b[0m\n\u001b[1;32m    547\u001b[0m \u001b[0;34m\u001b[0m\u001b[0m\n\u001b[1;32m    548\u001b[0m         \u001b[0;32mwith\u001b[0m \u001b[0mTimeoutGuard\u001b[0m\u001b[0;34m(\u001b[0m\u001b[0mremaining_time\u001b[0m\u001b[0;34m)\u001b[0m \u001b[0;32mas\u001b[0m \u001b[0mguard\u001b[0m\u001b[0;34m:\u001b[0m\u001b[0;34m\u001b[0m\u001b[0;34m\u001b[0m\u001b[0m\n\u001b[0;32m--> 549\u001b[0;31m             response = super(AuthorizedSession, self).request(\n\u001b[0m\u001b[1;32m    550\u001b[0m                 \u001b[0mmethod\u001b[0m\u001b[0;34m,\u001b[0m\u001b[0;34m\u001b[0m\u001b[0;34m\u001b[0m\u001b[0m\n\u001b[1;32m    551\u001b[0m                 \u001b[0murl\u001b[0m\u001b[0;34m,\u001b[0m\u001b[0;34m\u001b[0m\u001b[0;34m\u001b[0m\u001b[0m\n",
            "\u001b[0;32m/usr/local/lib/python3.8/dist-packages/requests/sessions.py\u001b[0m in \u001b[0;36mrequest\u001b[0;34m(self, method, url, params, data, headers, cookies, files, auth, timeout, allow_redirects, proxies, hooks, stream, verify, cert, json)\u001b[0m\n\u001b[1;32m    540\u001b[0m         }\n\u001b[1;32m    541\u001b[0m         \u001b[0msend_kwargs\u001b[0m\u001b[0;34m.\u001b[0m\u001b[0mupdate\u001b[0m\u001b[0;34m(\u001b[0m\u001b[0msettings\u001b[0m\u001b[0;34m)\u001b[0m\u001b[0;34m\u001b[0m\u001b[0;34m\u001b[0m\u001b[0m\n\u001b[0;32m--> 542\u001b[0;31m         \u001b[0mresp\u001b[0m \u001b[0;34m=\u001b[0m \u001b[0mself\u001b[0m\u001b[0;34m.\u001b[0m\u001b[0msend\u001b[0m\u001b[0;34m(\u001b[0m\u001b[0mprep\u001b[0m\u001b[0;34m,\u001b[0m \u001b[0;34m**\u001b[0m\u001b[0msend_kwargs\u001b[0m\u001b[0;34m)\u001b[0m\u001b[0;34m\u001b[0m\u001b[0;34m\u001b[0m\u001b[0m\n\u001b[0m\u001b[1;32m    543\u001b[0m \u001b[0;34m\u001b[0m\u001b[0m\n\u001b[1;32m    544\u001b[0m         \u001b[0;32mreturn\u001b[0m \u001b[0mresp\u001b[0m\u001b[0;34m\u001b[0m\u001b[0;34m\u001b[0m\u001b[0m\n",
            "\u001b[0;32m/usr/local/lib/python3.8/dist-packages/requests/sessions.py\u001b[0m in \u001b[0;36msend\u001b[0;34m(self, request, **kwargs)\u001b[0m\n\u001b[1;32m    653\u001b[0m \u001b[0;34m\u001b[0m\u001b[0m\n\u001b[1;32m    654\u001b[0m         \u001b[0;31m# Send the request\u001b[0m\u001b[0;34m\u001b[0m\u001b[0;34m\u001b[0m\u001b[0;34m\u001b[0m\u001b[0m\n\u001b[0;32m--> 655\u001b[0;31m         \u001b[0mr\u001b[0m \u001b[0;34m=\u001b[0m \u001b[0madapter\u001b[0m\u001b[0;34m.\u001b[0m\u001b[0msend\u001b[0m\u001b[0;34m(\u001b[0m\u001b[0mrequest\u001b[0m\u001b[0;34m,\u001b[0m \u001b[0;34m**\u001b[0m\u001b[0mkwargs\u001b[0m\u001b[0;34m)\u001b[0m\u001b[0;34m\u001b[0m\u001b[0;34m\u001b[0m\u001b[0m\n\u001b[0m\u001b[1;32m    656\u001b[0m \u001b[0;34m\u001b[0m\u001b[0m\n\u001b[1;32m    657\u001b[0m         \u001b[0;31m# Total elapsed time of the request (approximately)\u001b[0m\u001b[0;34m\u001b[0m\u001b[0;34m\u001b[0m\u001b[0;34m\u001b[0m\u001b[0m\n",
            "\u001b[0;32m/usr/local/lib/python3.8/dist-packages/requests/adapters.py\u001b[0m in \u001b[0;36msend\u001b[0;34m(self, request, stream, timeout, verify, cert, proxies)\u001b[0m\n\u001b[1;32m    437\u001b[0m         \u001b[0;32mtry\u001b[0m\u001b[0;34m:\u001b[0m\u001b[0;34m\u001b[0m\u001b[0;34m\u001b[0m\u001b[0m\n\u001b[1;32m    438\u001b[0m             \u001b[0;32mif\u001b[0m \u001b[0;32mnot\u001b[0m \u001b[0mchunked\u001b[0m\u001b[0;34m:\u001b[0m\u001b[0;34m\u001b[0m\u001b[0;34m\u001b[0m\u001b[0m\n\u001b[0;32m--> 439\u001b[0;31m                 resp = conn.urlopen(\n\u001b[0m\u001b[1;32m    440\u001b[0m                     \u001b[0mmethod\u001b[0m\u001b[0;34m=\u001b[0m\u001b[0mrequest\u001b[0m\u001b[0;34m.\u001b[0m\u001b[0mmethod\u001b[0m\u001b[0;34m,\u001b[0m\u001b[0;34m\u001b[0m\u001b[0;34m\u001b[0m\u001b[0m\n\u001b[1;32m    441\u001b[0m                     \u001b[0murl\u001b[0m\u001b[0;34m=\u001b[0m\u001b[0murl\u001b[0m\u001b[0;34m,\u001b[0m\u001b[0;34m\u001b[0m\u001b[0;34m\u001b[0m\u001b[0m\n",
            "\u001b[0;32m/usr/local/lib/python3.8/dist-packages/urllib3/connectionpool.py\u001b[0m in \u001b[0;36murlopen\u001b[0;34m(self, method, url, body, headers, retries, redirect, assert_same_host, timeout, pool_timeout, release_conn, chunked, body_pos, **response_kw)\u001b[0m\n\u001b[1;32m    701\u001b[0m \u001b[0;34m\u001b[0m\u001b[0m\n\u001b[1;32m    702\u001b[0m             \u001b[0;31m# Make the request on the httplib connection object.\u001b[0m\u001b[0;34m\u001b[0m\u001b[0;34m\u001b[0m\u001b[0;34m\u001b[0m\u001b[0m\n\u001b[0;32m--> 703\u001b[0;31m             httplib_response = self._make_request(\n\u001b[0m\u001b[1;32m    704\u001b[0m                 \u001b[0mconn\u001b[0m\u001b[0;34m,\u001b[0m\u001b[0;34m\u001b[0m\u001b[0;34m\u001b[0m\u001b[0m\n\u001b[1;32m    705\u001b[0m                 \u001b[0mmethod\u001b[0m\u001b[0;34m,\u001b[0m\u001b[0;34m\u001b[0m\u001b[0;34m\u001b[0m\u001b[0m\n",
            "\u001b[0;32m/usr/local/lib/python3.8/dist-packages/urllib3/connectionpool.py\u001b[0m in \u001b[0;36m_make_request\u001b[0;34m(self, conn, method, url, timeout, chunked, **httplib_request_kw)\u001b[0m\n\u001b[1;32m    447\u001b[0m                     \u001b[0;31m# Python 3 (including for exceptions like SystemExit).\u001b[0m\u001b[0;34m\u001b[0m\u001b[0;34m\u001b[0m\u001b[0;34m\u001b[0m\u001b[0m\n\u001b[1;32m    448\u001b[0m                     \u001b[0;31m# Otherwise it looks like a bug in the code.\u001b[0m\u001b[0;34m\u001b[0m\u001b[0;34m\u001b[0m\u001b[0;34m\u001b[0m\u001b[0m\n\u001b[0;32m--> 449\u001b[0;31m                     \u001b[0msix\u001b[0m\u001b[0;34m.\u001b[0m\u001b[0mraise_from\u001b[0m\u001b[0;34m(\u001b[0m\u001b[0me\u001b[0m\u001b[0;34m,\u001b[0m \u001b[0;32mNone\u001b[0m\u001b[0;34m)\u001b[0m\u001b[0;34m\u001b[0m\u001b[0;34m\u001b[0m\u001b[0m\n\u001b[0m\u001b[1;32m    450\u001b[0m         \u001b[0;32mexcept\u001b[0m \u001b[0;34m(\u001b[0m\u001b[0mSocketTimeout\u001b[0m\u001b[0;34m,\u001b[0m \u001b[0mBaseSSLError\u001b[0m\u001b[0;34m,\u001b[0m \u001b[0mSocketError\u001b[0m\u001b[0;34m)\u001b[0m \u001b[0;32mas\u001b[0m \u001b[0me\u001b[0m\u001b[0;34m:\u001b[0m\u001b[0;34m\u001b[0m\u001b[0;34m\u001b[0m\u001b[0m\n\u001b[1;32m    451\u001b[0m             \u001b[0mself\u001b[0m\u001b[0;34m.\u001b[0m\u001b[0m_raise_timeout\u001b[0m\u001b[0;34m(\u001b[0m\u001b[0merr\u001b[0m\u001b[0;34m=\u001b[0m\u001b[0me\u001b[0m\u001b[0;34m,\u001b[0m \u001b[0murl\u001b[0m\u001b[0;34m=\u001b[0m\u001b[0murl\u001b[0m\u001b[0;34m,\u001b[0m \u001b[0mtimeout_value\u001b[0m\u001b[0;34m=\u001b[0m\u001b[0mread_timeout\u001b[0m\u001b[0;34m)\u001b[0m\u001b[0;34m\u001b[0m\u001b[0;34m\u001b[0m\u001b[0m\n",
            "\u001b[0;32m/usr/local/lib/python3.8/dist-packages/urllib3/packages/six.py\u001b[0m in \u001b[0;36mraise_from\u001b[0;34m(value, from_value)\u001b[0m\n",
            "\u001b[0;32m/usr/local/lib/python3.8/dist-packages/urllib3/connectionpool.py\u001b[0m in \u001b[0;36m_make_request\u001b[0;34m(self, conn, method, url, timeout, chunked, **httplib_request_kw)\u001b[0m\n\u001b[1;32m    442\u001b[0m                 \u001b[0;31m# Python 3\u001b[0m\u001b[0;34m\u001b[0m\u001b[0;34m\u001b[0m\u001b[0;34m\u001b[0m\u001b[0m\n\u001b[1;32m    443\u001b[0m                 \u001b[0;32mtry\u001b[0m\u001b[0;34m:\u001b[0m\u001b[0;34m\u001b[0m\u001b[0;34m\u001b[0m\u001b[0m\n\u001b[0;32m--> 444\u001b[0;31m                     \u001b[0mhttplib_response\u001b[0m \u001b[0;34m=\u001b[0m \u001b[0mconn\u001b[0m\u001b[0;34m.\u001b[0m\u001b[0mgetresponse\u001b[0m\u001b[0;34m(\u001b[0m\u001b[0;34m)\u001b[0m\u001b[0;34m\u001b[0m\u001b[0;34m\u001b[0m\u001b[0m\n\u001b[0m\u001b[1;32m    445\u001b[0m                 \u001b[0;32mexcept\u001b[0m \u001b[0mBaseException\u001b[0m \u001b[0;32mas\u001b[0m \u001b[0me\u001b[0m\u001b[0;34m:\u001b[0m\u001b[0;34m\u001b[0m\u001b[0;34m\u001b[0m\u001b[0m\n\u001b[1;32m    446\u001b[0m                     \u001b[0;31m# Remove the TypeError from the exception chain in\u001b[0m\u001b[0;34m\u001b[0m\u001b[0;34m\u001b[0m\u001b[0;34m\u001b[0m\u001b[0m\n",
            "\u001b[0;32m/usr/lib/python3.8/http/client.py\u001b[0m in \u001b[0;36mgetresponse\u001b[0;34m(self)\u001b[0m\n\u001b[1;32m   1346\u001b[0m         \u001b[0;32mtry\u001b[0m\u001b[0;34m:\u001b[0m\u001b[0;34m\u001b[0m\u001b[0;34m\u001b[0m\u001b[0m\n\u001b[1;32m   1347\u001b[0m             \u001b[0;32mtry\u001b[0m\u001b[0;34m:\u001b[0m\u001b[0;34m\u001b[0m\u001b[0;34m\u001b[0m\u001b[0m\n\u001b[0;32m-> 1348\u001b[0;31m                 \u001b[0mresponse\u001b[0m\u001b[0;34m.\u001b[0m\u001b[0mbegin\u001b[0m\u001b[0;34m(\u001b[0m\u001b[0;34m)\u001b[0m\u001b[0;34m\u001b[0m\u001b[0;34m\u001b[0m\u001b[0m\n\u001b[0m\u001b[1;32m   1349\u001b[0m             \u001b[0;32mexcept\u001b[0m \u001b[0mConnectionError\u001b[0m\u001b[0;34m:\u001b[0m\u001b[0;34m\u001b[0m\u001b[0;34m\u001b[0m\u001b[0m\n\u001b[1;32m   1350\u001b[0m                 \u001b[0mself\u001b[0m\u001b[0;34m.\u001b[0m\u001b[0mclose\u001b[0m\u001b[0;34m(\u001b[0m\u001b[0;34m)\u001b[0m\u001b[0;34m\u001b[0m\u001b[0;34m\u001b[0m\u001b[0m\n",
            "\u001b[0;32m/usr/lib/python3.8/http/client.py\u001b[0m in \u001b[0;36mbegin\u001b[0;34m(self)\u001b[0m\n\u001b[1;32m    314\u001b[0m         \u001b[0;31m# read until we get a non-100 response\u001b[0m\u001b[0;34m\u001b[0m\u001b[0;34m\u001b[0m\u001b[0;34m\u001b[0m\u001b[0m\n\u001b[1;32m    315\u001b[0m         \u001b[0;32mwhile\u001b[0m \u001b[0;32mTrue\u001b[0m\u001b[0;34m:\u001b[0m\u001b[0;34m\u001b[0m\u001b[0;34m\u001b[0m\u001b[0m\n\u001b[0;32m--> 316\u001b[0;31m             \u001b[0mversion\u001b[0m\u001b[0;34m,\u001b[0m \u001b[0mstatus\u001b[0m\u001b[0;34m,\u001b[0m \u001b[0mreason\u001b[0m \u001b[0;34m=\u001b[0m \u001b[0mself\u001b[0m\u001b[0;34m.\u001b[0m\u001b[0m_read_status\u001b[0m\u001b[0;34m(\u001b[0m\u001b[0;34m)\u001b[0m\u001b[0;34m\u001b[0m\u001b[0;34m\u001b[0m\u001b[0m\n\u001b[0m\u001b[1;32m    317\u001b[0m             \u001b[0;32mif\u001b[0m \u001b[0mstatus\u001b[0m \u001b[0;34m!=\u001b[0m \u001b[0mCONTINUE\u001b[0m\u001b[0;34m:\u001b[0m\u001b[0;34m\u001b[0m\u001b[0;34m\u001b[0m\u001b[0m\n\u001b[1;32m    318\u001b[0m                 \u001b[0;32mbreak\u001b[0m\u001b[0;34m\u001b[0m\u001b[0;34m\u001b[0m\u001b[0m\n",
            "\u001b[0;32m/usr/lib/python3.8/http/client.py\u001b[0m in \u001b[0;36m_read_status\u001b[0;34m(self)\u001b[0m\n\u001b[1;32m    275\u001b[0m \u001b[0;34m\u001b[0m\u001b[0m\n\u001b[1;32m    276\u001b[0m     \u001b[0;32mdef\u001b[0m \u001b[0m_read_status\u001b[0m\u001b[0;34m(\u001b[0m\u001b[0mself\u001b[0m\u001b[0;34m)\u001b[0m\u001b[0;34m:\u001b[0m\u001b[0;34m\u001b[0m\u001b[0;34m\u001b[0m\u001b[0m\n\u001b[0;32m--> 277\u001b[0;31m         \u001b[0mline\u001b[0m \u001b[0;34m=\u001b[0m \u001b[0mstr\u001b[0m\u001b[0;34m(\u001b[0m\u001b[0mself\u001b[0m\u001b[0;34m.\u001b[0m\u001b[0mfp\u001b[0m\u001b[0;34m.\u001b[0m\u001b[0mreadline\u001b[0m\u001b[0;34m(\u001b[0m\u001b[0m_MAXLINE\u001b[0m \u001b[0;34m+\u001b[0m \u001b[0;36m1\u001b[0m\u001b[0;34m)\u001b[0m\u001b[0;34m,\u001b[0m \u001b[0;34m\"iso-8859-1\"\u001b[0m\u001b[0;34m)\u001b[0m\u001b[0;34m\u001b[0m\u001b[0;34m\u001b[0m\u001b[0m\n\u001b[0m\u001b[1;32m    278\u001b[0m         \u001b[0;32mif\u001b[0m \u001b[0mlen\u001b[0m\u001b[0;34m(\u001b[0m\u001b[0mline\u001b[0m\u001b[0;34m)\u001b[0m \u001b[0;34m>\u001b[0m \u001b[0m_MAXLINE\u001b[0m\u001b[0;34m:\u001b[0m\u001b[0;34m\u001b[0m\u001b[0;34m\u001b[0m\u001b[0m\n\u001b[1;32m    279\u001b[0m             \u001b[0;32mraise\u001b[0m \u001b[0mLineTooLong\u001b[0m\u001b[0;34m(\u001b[0m\u001b[0;34m\"status line\"\u001b[0m\u001b[0;34m)\u001b[0m\u001b[0;34m\u001b[0m\u001b[0;34m\u001b[0m\u001b[0m\n",
            "\u001b[0;32m/usr/lib/python3.8/socket.py\u001b[0m in \u001b[0;36mreadinto\u001b[0;34m(self, b)\u001b[0m\n\u001b[1;32m    667\u001b[0m         \u001b[0;32mwhile\u001b[0m \u001b[0;32mTrue\u001b[0m\u001b[0;34m:\u001b[0m\u001b[0;34m\u001b[0m\u001b[0;34m\u001b[0m\u001b[0m\n\u001b[1;32m    668\u001b[0m             \u001b[0;32mtry\u001b[0m\u001b[0;34m:\u001b[0m\u001b[0;34m\u001b[0m\u001b[0;34m\u001b[0m\u001b[0m\n\u001b[0;32m--> 669\u001b[0;31m                 \u001b[0;32mreturn\u001b[0m \u001b[0mself\u001b[0m\u001b[0;34m.\u001b[0m\u001b[0m_sock\u001b[0m\u001b[0;34m.\u001b[0m\u001b[0mrecv_into\u001b[0m\u001b[0;34m(\u001b[0m\u001b[0mb\u001b[0m\u001b[0;34m)\u001b[0m\u001b[0;34m\u001b[0m\u001b[0;34m\u001b[0m\u001b[0m\n\u001b[0m\u001b[1;32m    670\u001b[0m             \u001b[0;32mexcept\u001b[0m \u001b[0mtimeout\u001b[0m\u001b[0;34m:\u001b[0m\u001b[0;34m\u001b[0m\u001b[0;34m\u001b[0m\u001b[0m\n\u001b[1;32m    671\u001b[0m                 \u001b[0mself\u001b[0m\u001b[0;34m.\u001b[0m\u001b[0m_timeout_occurred\u001b[0m \u001b[0;34m=\u001b[0m \u001b[0;32mTrue\u001b[0m\u001b[0;34m\u001b[0m\u001b[0;34m\u001b[0m\u001b[0m\n",
            "\u001b[0;32m/usr/lib/python3.8/ssl.py\u001b[0m in \u001b[0;36mrecv_into\u001b[0;34m(self, buffer, nbytes, flags)\u001b[0m\n\u001b[1;32m   1239\u001b[0m                   \u001b[0;34m\"non-zero flags not allowed in calls to recv_into() on %s\"\u001b[0m \u001b[0;34m%\u001b[0m\u001b[0;34m\u001b[0m\u001b[0;34m\u001b[0m\u001b[0m\n\u001b[1;32m   1240\u001b[0m                   self.__class__)\n\u001b[0;32m-> 1241\u001b[0;31m             \u001b[0;32mreturn\u001b[0m \u001b[0mself\u001b[0m\u001b[0;34m.\u001b[0m\u001b[0mread\u001b[0m\u001b[0;34m(\u001b[0m\u001b[0mnbytes\u001b[0m\u001b[0;34m,\u001b[0m \u001b[0mbuffer\u001b[0m\u001b[0;34m)\u001b[0m\u001b[0;34m\u001b[0m\u001b[0;34m\u001b[0m\u001b[0m\n\u001b[0m\u001b[1;32m   1242\u001b[0m         \u001b[0;32melse\u001b[0m\u001b[0;34m:\u001b[0m\u001b[0;34m\u001b[0m\u001b[0;34m\u001b[0m\u001b[0m\n\u001b[1;32m   1243\u001b[0m             \u001b[0;32mreturn\u001b[0m \u001b[0msuper\u001b[0m\u001b[0;34m(\u001b[0m\u001b[0;34m)\u001b[0m\u001b[0;34m.\u001b[0m\u001b[0mrecv_into\u001b[0m\u001b[0;34m(\u001b[0m\u001b[0mbuffer\u001b[0m\u001b[0;34m,\u001b[0m \u001b[0mnbytes\u001b[0m\u001b[0;34m,\u001b[0m \u001b[0mflags\u001b[0m\u001b[0;34m)\u001b[0m\u001b[0;34m\u001b[0m\u001b[0;34m\u001b[0m\u001b[0m\n",
            "\u001b[0;32m/usr/lib/python3.8/ssl.py\u001b[0m in \u001b[0;36mread\u001b[0;34m(self, len, buffer)\u001b[0m\n\u001b[1;32m   1097\u001b[0m         \u001b[0;32mtry\u001b[0m\u001b[0;34m:\u001b[0m\u001b[0;34m\u001b[0m\u001b[0;34m\u001b[0m\u001b[0m\n\u001b[1;32m   1098\u001b[0m             \u001b[0;32mif\u001b[0m \u001b[0mbuffer\u001b[0m \u001b[0;32mis\u001b[0m \u001b[0;32mnot\u001b[0m \u001b[0;32mNone\u001b[0m\u001b[0;34m:\u001b[0m\u001b[0;34m\u001b[0m\u001b[0;34m\u001b[0m\u001b[0m\n\u001b[0;32m-> 1099\u001b[0;31m                 \u001b[0;32mreturn\u001b[0m \u001b[0mself\u001b[0m\u001b[0;34m.\u001b[0m\u001b[0m_sslobj\u001b[0m\u001b[0;34m.\u001b[0m\u001b[0mread\u001b[0m\u001b[0;34m(\u001b[0m\u001b[0mlen\u001b[0m\u001b[0;34m,\u001b[0m \u001b[0mbuffer\u001b[0m\u001b[0;34m)\u001b[0m\u001b[0;34m\u001b[0m\u001b[0;34m\u001b[0m\u001b[0m\n\u001b[0m\u001b[1;32m   1100\u001b[0m             \u001b[0;32melse\u001b[0m\u001b[0;34m:\u001b[0m\u001b[0;34m\u001b[0m\u001b[0;34m\u001b[0m\u001b[0m\n\u001b[1;32m   1101\u001b[0m                 \u001b[0;32mreturn\u001b[0m \u001b[0mself\u001b[0m\u001b[0;34m.\u001b[0m\u001b[0m_sslobj\u001b[0m\u001b[0;34m.\u001b[0m\u001b[0mread\u001b[0m\u001b[0;34m(\u001b[0m\u001b[0mlen\u001b[0m\u001b[0;34m)\u001b[0m\u001b[0;34m\u001b[0m\u001b[0;34m\u001b[0m\u001b[0m\n",
            "\u001b[0;31mKeyboardInterrupt\u001b[0m: "
          ]
        }
      ],
      "source": [
        "list_blobs_errors(\"data_exchange__crm_prod\")"
      ]
    },
    {
      "cell_type": "code",
      "execution_count": 8,
      "metadata": {
        "colab": {
          "base_uri": "https://localhost:8080/"
        },
        "id": "rQtOfH4pOg0f",
        "outputId": "3b0be7e0-52bd-432e-e627-cdc32c7bcbdb"
      },
      "outputs": [
        {
          "output_type": "stream",
          "name": "stdout",
          "text": [
            "Looking in indexes: https://pypi.org/simple, https://us-python.pkg.dev/colab-wheels/public/simple/\n",
            "Requirement already satisfied: gcsfs in /usr/local/lib/python3.8/dist-packages (2023.1.0)\n",
            "Requirement already satisfied: google-auth>=1.2 in /usr/local/lib/python3.8/dist-packages (from gcsfs) (2.16.1)\n",
            "Requirement already satisfied: aiohttp!=4.0.0a0,!=4.0.0a1 in /usr/local/lib/python3.8/dist-packages (from gcsfs) (3.8.4)\n",
            "Requirement already satisfied: google-auth-oauthlib in /usr/local/lib/python3.8/dist-packages (from gcsfs) (0.4.6)\n",
            "Requirement already satisfied: google-cloud-storage in /usr/local/lib/python3.8/dist-packages (from gcsfs) (2.7.0)\n",
            "Requirement already satisfied: requests in /usr/local/lib/python3.8/dist-packages (from gcsfs) (2.25.1)\n",
            "Requirement already satisfied: fsspec==2023.1.0 in /usr/local/lib/python3.8/dist-packages (from gcsfs) (2023.1.0)\n",
            "Requirement already satisfied: decorator>4.1.2 in /usr/local/lib/python3.8/dist-packages (from gcsfs) (4.4.2)\n",
            "Requirement already satisfied: charset-normalizer<4.0,>=2.0 in /usr/local/lib/python3.8/dist-packages (from aiohttp!=4.0.0a0,!=4.0.0a1->gcsfs) (3.0.1)\n",
            "Requirement already satisfied: frozenlist>=1.1.1 in /usr/local/lib/python3.8/dist-packages (from aiohttp!=4.0.0a0,!=4.0.0a1->gcsfs) (1.3.3)\n",
            "Requirement already satisfied: aiosignal>=1.1.2 in /usr/local/lib/python3.8/dist-packages (from aiohttp!=4.0.0a0,!=4.0.0a1->gcsfs) (1.3.1)\n",
            "Requirement already satisfied: attrs>=17.3.0 in /usr/local/lib/python3.8/dist-packages (from aiohttp!=4.0.0a0,!=4.0.0a1->gcsfs) (22.2.0)\n",
            "Requirement already satisfied: multidict<7.0,>=4.5 in /usr/local/lib/python3.8/dist-packages (from aiohttp!=4.0.0a0,!=4.0.0a1->gcsfs) (6.0.4)\n",
            "Requirement already satisfied: yarl<2.0,>=1.0 in /usr/local/lib/python3.8/dist-packages (from aiohttp!=4.0.0a0,!=4.0.0a1->gcsfs) (1.8.2)\n",
            "Requirement already satisfied: async-timeout<5.0,>=4.0.0a3 in /usr/local/lib/python3.8/dist-packages (from aiohttp!=4.0.0a0,!=4.0.0a1->gcsfs) (4.0.2)\n",
            "Requirement already satisfied: six>=1.9.0 in /usr/local/lib/python3.8/dist-packages (from google-auth>=1.2->gcsfs) (1.15.0)\n",
            "Requirement already satisfied: rsa<5,>=3.1.4 in /usr/local/lib/python3.8/dist-packages (from google-auth>=1.2->gcsfs) (4.9)\n",
            "Requirement already satisfied: cachetools<6.0,>=2.0.0 in /usr/local/lib/python3.8/dist-packages (from google-auth>=1.2->gcsfs) (5.3.0)\n",
            "Requirement already satisfied: pyasn1-modules>=0.2.1 in /usr/local/lib/python3.8/dist-packages (from google-auth>=1.2->gcsfs) (0.2.8)\n",
            "Requirement already satisfied: requests-oauthlib>=0.7.0 in /usr/local/lib/python3.8/dist-packages (from google-auth-oauthlib->gcsfs) (1.3.1)\n",
            "Requirement already satisfied: google-resumable-media>=2.3.2 in /usr/local/lib/python3.8/dist-packages (from google-cloud-storage->gcsfs) (2.4.1)\n",
            "Requirement already satisfied: google-cloud-core<3.0dev,>=2.3.0 in /usr/local/lib/python3.8/dist-packages (from google-cloud-storage->gcsfs) (2.3.2)\n",
            "Requirement already satisfied: google-api-core!=2.0.*,!=2.1.*,!=2.2.*,!=2.3.0,<3.0.0dev,>=1.31.5 in /usr/local/lib/python3.8/dist-packages (from google-cloud-storage->gcsfs) (2.11.0)\n",
            "Requirement already satisfied: urllib3<1.27,>=1.21.1 in /usr/local/lib/python3.8/dist-packages (from requests->gcsfs) (1.26.14)\n",
            "Requirement already satisfied: idna<3,>=2.5 in /usr/local/lib/python3.8/dist-packages (from requests->gcsfs) (2.10)\n",
            "Requirement already satisfied: certifi>=2017.4.17 in /usr/local/lib/python3.8/dist-packages (from requests->gcsfs) (2022.12.7)\n",
            "Requirement already satisfied: chardet<5,>=3.0.2 in /usr/local/lib/python3.8/dist-packages (from requests->gcsfs) (4.0.0)\n",
            "Requirement already satisfied: googleapis-common-protos<2.0dev,>=1.56.2 in /usr/local/lib/python3.8/dist-packages (from google-api-core!=2.0.*,!=2.1.*,!=2.2.*,!=2.3.0,<3.0.0dev,>=1.31.5->google-cloud-storage->gcsfs) (1.58.0)\n",
            "Requirement already satisfied: protobuf!=3.20.0,!=3.20.1,!=4.21.0,!=4.21.1,!=4.21.2,!=4.21.3,!=4.21.4,!=4.21.5,<5.0.0dev,>=3.19.5 in /usr/local/lib/python3.8/dist-packages (from google-api-core!=2.0.*,!=2.1.*,!=2.2.*,!=2.3.0,<3.0.0dev,>=1.31.5->google-cloud-storage->gcsfs) (3.19.6)\n",
            "Requirement already satisfied: google-crc32c<2.0dev,>=1.0 in /usr/local/lib/python3.8/dist-packages (from google-resumable-media>=2.3.2->google-cloud-storage->gcsfs) (1.5.0)\n",
            "Requirement already satisfied: pyasn1<0.5.0,>=0.4.6 in /usr/local/lib/python3.8/dist-packages (from pyasn1-modules>=0.2.1->google-auth>=1.2->gcsfs) (0.4.8)\n",
            "Requirement already satisfied: oauthlib>=3.0.0 in /usr/local/lib/python3.8/dist-packages (from requests-oauthlib>=0.7.0->google-auth-oauthlib->gcsfs) (3.2.2)\n"
          ]
        }
      ],
      "source": [
        "pip install gcsfs"
      ]
    },
    {
      "cell_type": "code",
      "execution_count": null,
      "metadata": {
        "id": "fDAhCizwGB73"
      },
      "outputs": [],
      "source": [
        "import pandas as pd\n",
        "import gcsfs\n",
        "import traceback\n",
        "from google.cloud import storage\n",
        "\n",
        "########### This version prints both RIGHTLY FORMATTED THEN ERRORS\n",
        "\n",
        "def list_blobs_errors(bucket_name):\n",
        "    \"\"\"Lists all the blobs in the bucket.\"\"\"\n",
        "    # bucket_name = \"your-bucket-name\" --> provided as input of the function\n",
        "    project = \"advanced-analytics-278408\"\n",
        "    storage_client = storage.Client()\n",
        "\n",
        "    # Note: Client.list_blobs requires at least package version 1.17.0.\n",
        "    blobs = storage_client.list_blobs(bucket_name)\n",
        "\n",
        "    # Note: The call returns a response only when the iterator is consumed.\n",
        "    # https://gcsfs.readthedocs.io/en/latest/#credentials\n",
        "    error_count = 0\n",
        "    total_read_files = 0\n",
        "    for blob in blobs:\n",
        "        total_read_files = total_read_files +1\n",
        "        file_name = \"gs://\" + bucket_name +  blob.name\n",
        "        path = blob.name\n",
        "        if file_name.endswith('.csv'):\n",
        "          #print(\"############################################## File under analysis: \" + file_name)\n",
        "          #print(\"\")\n",
        "          #df = dd.read_csv(file_name)\n",
        "          fileobj = get_byte_fileobj(project, bucket_name, path)\n",
        "          try:\n",
        "            df = pd.read_csv(fileobj, sep ='\\t')\n",
        "            #print(df.info())\n",
        "          except Exception as e:\n",
        "            error_count = error_count + 1\n",
        "            print(str(error_count) + \" out of total read files \" + str(total_read_files) + \" - ############################################## File under analysis: \" + file_name)\n",
        "            print(\"\")\n",
        "            print(\"##############  ERROR ##############\")\n",
        "            print(\"\")\n",
        "            print(e)\n",
        "            error_string = str(e)\n",
        "            if \"Error tokenizing data. C error: EOF inside string starting at row \" in error_string:\n",
        "              error_line = error_string.replace(\"Error tokenizing data. C error: EOF inside string starting at row \",\"\")\n",
        "              print(error_line)\n",
        "              line = int(error_line)\n",
        "              with blob.open(\"r\") as f:\n",
        "                #print(f.read())\n",
        "                file_text=f.read()\n",
        "                error_line = file_text.split('\\n')[line]\n",
        "                print(error_line)\n",
        "            print(\"\")\n",
        "            print(\"##############  ERROR ##############\")\n",
        "            print(\"\")"
      ]
    },
    {
      "cell_type": "code",
      "execution_count": null,
      "metadata": {
        "id": "RNpu6csxVydD"
      },
      "outputs": [],
      "source": [
        "def test_single_file(project, bucket_name, path):\n",
        "          fileobj = get_byte_fileobj(project, bucket_name, path)\n",
        "          blob = _get_blob(bucket_name, path, project)\n",
        "          print(\"############################################## File under analysis: gs://\" + bucket_name + path)\n",
        "          try:\n",
        "            df = pd.read_csv(fileobj, sep ='\\t' )\n",
        "            #print(df.info())\n",
        "          except Exception as e:\n",
        "            print(\"\")\n",
        "            print(\"##############  ERROR ##############\")\n",
        "            print(\"\")\n",
        "            print(e)\n",
        "            error_string = str(e)\n",
        "            if \"Error tokenizing data. C error: EOF inside string starting at row \" in error_string:\n",
        "              error_line = error_string.replace(\"Error tokenizing data. C error: EOF inside string starting at row \",\"\")\n",
        "              print(error_line)\n",
        "              line = int(error_line)\n",
        "              with blob.open(\"r\") as f:\n",
        "                #print(f.read())\n",
        "                file_text=f.read()\n",
        "                error_line = file_text.split('\\n')[line]\n",
        "                print(error_line)\n",
        "            print(\"\")\n",
        "            print(\"##############  ERROR ##############\")\n",
        "            print(\"\")"
      ]
    },
    {
      "cell_type": "code",
      "execution_count": 12,
      "metadata": {
        "id": "TXN0gh3wZqcd"
      },
      "outputs": [],
      "source": [
        "def test_single_file_tokenization(project, bucket_name, path):\n",
        "          fileobj = get_byte_fileobj(project, bucket_name, path)\n",
        "          blob = _get_blob(bucket_name, path, project)\n",
        "          print(\"############################################## File under analysis: gs://\" + bucket_name + path)\n",
        "          #try:\n",
        "            #df = pd.read_csv(fileobj, sep ='\\t' )\n",
        "            #print(df.info())\n",
        "          #except Exception as e:\n",
        "           # print(\"\")\n",
        "           # print(\"##############  ERROR ##############\")\n",
        "           # print(\"\")\n",
        "           # print(e)\n",
        "            #error_string = str(e)\n",
        "          with blob.open(\"r\") as f:\n",
        "               #print(f.read())\n",
        "               file_text=f.read()\n",
        "               all_lines_tokenized = file_text.split('\\n')\n",
        "               print(\"Total lines: \" + str(len(all_lines_tokenized)))\n",
        "               first_line_tokenized = all_lines_tokenized[0].split(\"\\t\")\n",
        "               header_token_count = len(first_line_tokenized)\n",
        "               print(\"Fields in the first line: \"+ str(len(first_line_tokenized)))\n",
        "               field_order = 0\n",
        "               for field in first_line_tokenized:\n",
        "                 field_order = field_order+1\n",
        "                 print(str(field_order) + \"\\t\" + field)\n",
        "               line_count = 0\n",
        "               for line in all_lines_tokenized:\n",
        "                 field_order_current = 0\n",
        "                 line_count = line_count = line_count +1\n",
        "                 current_line_tokenized = line.split(\"\\t\")\n",
        "                 if len(current_line_tokenized) != header_token_count:\n",
        "                   print(\"Line \" + str(line_count) + \" --> has a different number of fields (expected \"+str(header_token_count)+\") found: \" + str(len(line.split(\"\\t\"))))\n",
        "                   for field in current_line_tokenized:\n",
        "                     field_order_current = field_order_current+1\n",
        "                     print(str(field_order) + \"\\t\" + field)\n",
        "          print(\"\")\n",
        "          print(\"##############  ERROR ##############\")\n",
        "          print(\"\")"
      ]
    },
    {
      "cell_type": "code",
      "execution_count": 13,
      "metadata": {
        "colab": {
          "base_uri": "https://localhost:8080/"
        },
        "id": "SQgugkk-Wso6",
        "outputId": "00cceca8-3ad3-4563-8ce5-3a36218fe79e"
      },
      "outputs": [
        {
          "output_type": "stream",
          "name": "stdout",
          "text": [
            "############################################## File under analysis: gs://data_exchange__crm_prodraw/02_SAP_P60/0201/v1/2023/0201__crm_master_MAIN__dd__20230117/0201__crm_master_MAIN__dd__20230117__153835912.csv\n",
            "Total lines: 1002\n",
            "Fields in the first line: 28\n",
            "1\tidnum\n",
            "2\taddress_city\n",
            "3\taddress_cntry\n",
            "4\taddress_district\n",
            "5\taddress_inval\n",
            "6\taddress_pstcd\n",
            "7\taddress_state\n",
            "8\taddress_stret\n",
            "9\taddress_stret2\n",
            "10\taddress_stret3\n",
            "11\tcommunication_email\n",
            "12\tphone_number\n",
            "13\tperson_delet\n",
            "14\tperson_bdate\n",
            "15\tperson_corla\n",
            "16\tperson_origin\n",
            "17\tperson_sex\n",
            "18\tmail_domain\n",
            "19\tbu_group\n",
            "20\tclassification_is_customer\n",
            "21\tclassification_industry\n",
            "22\tclassification_account_group\n",
            "23\tclassification_kukla\n",
            "24\tname_org1\n",
            "25\tname_org2\n",
            "26\tklabc\n",
            "27\tlocal_cluster_id\n",
            "28\tlocal_cluster_name\n",
            "Line 1002 --> has a different number of fields (expected 28) found: 1\n",
            "28\t\n",
            "\n",
            "##############  ERROR ##############\n",
            "\n"
          ]
        }
      ],
      "source": [
        "project = \"advanced-analytics-278408\"\n",
        "bucket_name = \"data_exchange__crm_prod\"\n",
        "path= \"raw/02_SAP_P60/0201/v1/2023/0201__crm_master_MAIN__dd__20230117/0201__crm_master_MAIN__dd__20230117__153835912.csv\"\n",
        "test_single_file_tokenization(project, bucket_name, path)\n",
        "\n"
      ]
    },
    {
      "cell_type": "code",
      "source": [
        "def check_for_string_in_blob(project, bucket_name, path,tgt_string):\n",
        "          fileobj = get_byte_fileobj(project, bucket_name, path)\n",
        "          blob = _get_blob(bucket_name, path, project)\n",
        "          with blob.open(\"r\") as f:\n",
        "               #print(f.read())\n",
        "               file_text=f.read()\n",
        "          if tgt_string in file_text:\n",
        "            #print(f'String found in {path}')\n",
        "            return file_text.count(tgt_string)\n",
        "          else:\n",
        "            return 0\n",
        "          \n",
        "\n",
        "          "
      ],
      "metadata": {
        "id": "0IPqoQdjDGEq"
      },
      "execution_count": 34,
      "outputs": []
    },
    {
      "cell_type": "code",
      "source": [
        "#get all blob in a bucket\n",
        "project_id = 'advanced-analytics-278408'\n",
        "client = storage.Client(project_id)\n",
        "\n",
        "bucket = 'data_exchange__crm_prod'\n",
        "\n",
        "count = 0\n",
        "file_cnt  = 0\n",
        "\n",
        "\n",
        "for blob in client.list_blobs(bucket, prefix='raw/02_SAP_P60/0201/v1/2023/0201__crm_master_MAIN__dd__20230117'):\n",
        "  #print(blob.name)\n",
        "  file_cnt += 1\n",
        "  #print(f\"File count {file_cnt}\")\n",
        "  path = blob.name\n",
        "  tgt_string = 'ZCNS'\n",
        "  out = check_for_string_in_blob(project_id,bucket,path,tgt_string)\n",
        "  \n",
        "  if out > 0 : \n",
        "    count += 1\n",
        "    print(f\"{count} on {file_cnt} files have the target string in the text. Occurencies {out}. Blob name : {blob.name}\")\n"
      ],
      "metadata": {
        "colab": {
          "base_uri": "https://localhost:8080/"
        },
        "id": "kwhZPWfiEf0V",
        "outputId": "44d5cd70-25a8-4d9d-8f77-a2fcf72494f7"
      },
      "execution_count": 35,
      "outputs": [
        {
          "output_type": "stream",
          "name": "stdout",
          "text": [
            "1 on 3 files have the target string in the text. Occurencies 709. Blob name : raw/02_SAP_P60/0201/v1/2023/0201__crm_master_MAIN__dd__20230117/0201__crm_master_MAIN__dd__20230117__153606736.csv\n",
            "2 on 132 files have the target string in the text. Occurencies 277. Blob name : raw/02_SAP_P60/0201/v1/2023/0201__crm_master_MAIN__dd__20230117/0201__crm_master_MAIN__dd__20230117__154357660.csv\n",
            "3 on 136 files have the target string in the text. Occurencies 85. Blob name : raw/02_SAP_P60/0201/v1/2023/0201__crm_master_MAIN__dd__20230117/0201__crm_master_MAIN__dd__20230117__161551941.csv\n",
            "4 on 137 files have the target string in the text. Occurencies 82. Blob name : raw/02_SAP_P60/0201/v1/2023/0201__crm_master_MAIN__dd__20230117/0201__crm_master_MAIN__dd__20230117__16155211.csv\n",
            "5 on 138 files have the target string in the text. Occurencies 81. Blob name : raw/02_SAP_P60/0201/v1/2023/0201__crm_master_MAIN__dd__20230117/0201__crm_master_MAIN__dd__20230117__161552455.csv\n",
            "6 on 139 files have the target string in the text. Occurencies 86. Blob name : raw/02_SAP_P60/0201/v1/2023/0201__crm_master_MAIN__dd__20230117/0201__crm_master_MAIN__dd__20230117__161552478.csv\n",
            "7 on 140 files have the target string in the text. Occurencies 81. Blob name : raw/02_SAP_P60/0201/v1/2023/0201__crm_master_MAIN__dd__20230117/0201__crm_master_MAIN__dd__20230117__161552842.csv\n",
            "8 on 141 files have the target string in the text. Occurencies 83. Blob name : raw/02_SAP_P60/0201/v1/2023/0201__crm_master_MAIN__dd__20230117/0201__crm_master_MAIN__dd__20230117__16155331.csv\n",
            "9 on 142 files have the target string in the text. Occurencies 82. Blob name : raw/02_SAP_P60/0201/v1/2023/0201__crm_master_MAIN__dd__20230117/0201__crm_master_MAIN__dd__20230117__161553371.csv\n",
            "10 on 143 files have the target string in the text. Occurencies 72. Blob name : raw/02_SAP_P60/0201/v1/2023/0201__crm_master_MAIN__dd__20230117/0201__crm_master_MAIN__dd__20230117__161553529.csv\n",
            "11 on 144 files have the target string in the text. Occurencies 85. Blob name : raw/02_SAP_P60/0201/v1/2023/0201__crm_master_MAIN__dd__20230117/0201__crm_master_MAIN__dd__20230117__161553736.csv\n",
            "12 on 145 files have the target string in the text. Occurencies 85. Blob name : raw/02_SAP_P60/0201/v1/2023/0201__crm_master_MAIN__dd__20230117/0201__crm_master_MAIN__dd__20230117__16155596.csv\n",
            "13 on 146 files have the target string in the text. Occurencies 104. Blob name : raw/02_SAP_P60/0201/v1/2023/0201__crm_master_MAIN__dd__20230117/0201__crm_master_MAIN__dd__20230117__171548556.csv\n",
            "14 on 147 files have the target string in the text. Occurencies 97. Blob name : raw/02_SAP_P60/0201/v1/2023/0201__crm_master_MAIN__dd__20230117/0201__crm_master_MAIN__dd__20230117__171548903.csv\n",
            "15 on 148 files have the target string in the text. Occurencies 103. Blob name : raw/02_SAP_P60/0201/v1/2023/0201__crm_master_MAIN__dd__20230117/0201__crm_master_MAIN__dd__20230117__171549367.csv\n",
            "16 on 149 files have the target string in the text. Occurencies 94. Blob name : raw/02_SAP_P60/0201/v1/2023/0201__crm_master_MAIN__dd__20230117/0201__crm_master_MAIN__dd__20230117__171549577.csv\n",
            "17 on 150 files have the target string in the text. Occurencies 80. Blob name : raw/02_SAP_P60/0201/v1/2023/0201__crm_master_MAIN__dd__20230117/0201__crm_master_MAIN__dd__20230117__171549955.csv\n",
            "18 on 151 files have the target string in the text. Occurencies 105. Blob name : raw/02_SAP_P60/0201/v1/2023/0201__crm_master_MAIN__dd__20230117/0201__crm_master_MAIN__dd__20230117__171551423.csv\n",
            "19 on 152 files have the target string in the text. Occurencies 101. Blob name : raw/02_SAP_P60/0201/v1/2023/0201__crm_master_MAIN__dd__20230117/0201__crm_master_MAIN__dd__20230117__171551442.csv\n",
            "20 on 153 files have the target string in the text. Occurencies 106. Blob name : raw/02_SAP_P60/0201/v1/2023/0201__crm_master_MAIN__dd__20230117/0201__crm_master_MAIN__dd__20230117__171551940.csv\n",
            "21 on 154 files have the target string in the text. Occurencies 106. Blob name : raw/02_SAP_P60/0201/v1/2023/0201__crm_master_MAIN__dd__20230117/0201__crm_master_MAIN__dd__20230117__171551993.csv\n",
            "22 on 155 files have the target string in the text. Occurencies 70. Blob name : raw/02_SAP_P60/0201/v1/2023/0201__crm_master_MAIN__dd__20230117/0201__crm_master_MAIN__dd__20230117__171552323.csv\n",
            "23 on 156 files have the target string in the text. Occurencies 104. Blob name : raw/02_SAP_P60/0201/v1/2023/0201__crm_master_MAIN__dd__20230117/0201__crm_master_MAIN__dd__20230117__181600218.csv\n",
            "24 on 157 files have the target string in the text. Occurencies 99. Blob name : raw/02_SAP_P60/0201/v1/2023/0201__crm_master_MAIN__dd__20230117/0201__crm_master_MAIN__dd__20230117__18160024.csv\n",
            "25 on 158 files have the target string in the text. Occurencies 101. Blob name : raw/02_SAP_P60/0201/v1/2023/0201__crm_master_MAIN__dd__20230117/0201__crm_master_MAIN__dd__20230117__181600388.csv\n",
            "26 on 159 files have the target string in the text. Occurencies 89. Blob name : raw/02_SAP_P60/0201/v1/2023/0201__crm_master_MAIN__dd__20230117/0201__crm_master_MAIN__dd__20230117__181600712.csv\n",
            "27 on 160 files have the target string in the text. Occurencies 104. Blob name : raw/02_SAP_P60/0201/v1/2023/0201__crm_master_MAIN__dd__20230117/0201__crm_master_MAIN__dd__20230117__181600761.csv\n",
            "28 on 161 files have the target string in the text. Occurencies 101. Blob name : raw/02_SAP_P60/0201/v1/2023/0201__crm_master_MAIN__dd__20230117/0201__crm_master_MAIN__dd__20230117__181601156.csv\n",
            "29 on 162 files have the target string in the text. Occurencies 103. Blob name : raw/02_SAP_P60/0201/v1/2023/0201__crm_master_MAIN__dd__20230117/0201__crm_master_MAIN__dd__20230117__181601413.csv\n",
            "30 on 163 files have the target string in the text. Occurencies 102. Blob name : raw/02_SAP_P60/0201/v1/2023/0201__crm_master_MAIN__dd__20230117/0201__crm_master_MAIN__dd__20230117__18160169.csv\n",
            "31 on 164 files have the target string in the text. Occurencies 101. Blob name : raw/02_SAP_P60/0201/v1/2023/0201__crm_master_MAIN__dd__20230117/0201__crm_master_MAIN__dd__20230117__181601700.csv\n",
            "32 on 165 files have the target string in the text. Occurencies 103. Blob name : raw/02_SAP_P60/0201/v1/2023/0201__crm_master_MAIN__dd__20230117/0201__crm_master_MAIN__dd__20230117__181603123.csv\n",
            "33 on 166 files have the target string in the text. Occurencies 90. Blob name : raw/02_SAP_P60/0201/v1/2023/0201__crm_master_MAIN__dd__20230117/0201__crm_master_MAIN__dd__20230117__191553204.csv\n",
            "34 on 167 files have the target string in the text. Occurencies 91. Blob name : raw/02_SAP_P60/0201/v1/2023/0201__crm_master_MAIN__dd__20230117/0201__crm_master_MAIN__dd__20230117__191553351.csv\n",
            "35 on 168 files have the target string in the text. Occurencies 91. Blob name : raw/02_SAP_P60/0201/v1/2023/0201__crm_master_MAIN__dd__20230117/0201__crm_master_MAIN__dd__20230117__191553565.csv\n",
            "36 on 169 files have the target string in the text. Occurencies 76. Blob name : raw/02_SAP_P60/0201/v1/2023/0201__crm_master_MAIN__dd__20230117/0201__crm_master_MAIN__dd__20230117__191553732.csv\n",
            "37 on 170 files have the target string in the text. Occurencies 89. Blob name : raw/02_SAP_P60/0201/v1/2023/0201__crm_master_MAIN__dd__20230117/0201__crm_master_MAIN__dd__20230117__19155375.csv\n",
            "38 on 171 files have the target string in the text. Occurencies 88. Blob name : raw/02_SAP_P60/0201/v1/2023/0201__crm_master_MAIN__dd__20230117/0201__crm_master_MAIN__dd__20230117__191553925.csv\n",
            "39 on 172 files have the target string in the text. Occurencies 91. Blob name : raw/02_SAP_P60/0201/v1/2023/0201__crm_master_MAIN__dd__20230117/0201__crm_master_MAIN__dd__20230117__19155420.csv\n",
            "40 on 173 files have the target string in the text. Occurencies 91. Blob name : raw/02_SAP_P60/0201/v1/2023/0201__crm_master_MAIN__dd__20230117/0201__crm_master_MAIN__dd__20230117__191554274.csv\n",
            "41 on 174 files have the target string in the text. Occurencies 90. Blob name : raw/02_SAP_P60/0201/v1/2023/0201__crm_master_MAIN__dd__20230117/0201__crm_master_MAIN__dd__20230117__191554377.csv\n",
            "42 on 175 files have the target string in the text. Occurencies 90. Blob name : raw/02_SAP_P60/0201/v1/2023/0201__crm_master_MAIN__dd__20230117/0201__crm_master_MAIN__dd__20230117__191554607.csv\n",
            "43 on 176 files have the target string in the text. Occurencies 65. Blob name : raw/02_SAP_P60/0201/v1/2023/0201__crm_master_MAIN__dd__20230117/0201__crm_master_MAIN__dd__20230117__201546648.csv\n",
            "44 on 177 files have the target string in the text. Occurencies 57. Blob name : raw/02_SAP_P60/0201/v1/2023/0201__crm_master_MAIN__dd__20230117/0201__crm_master_MAIN__dd__20230117__201546686.csv\n",
            "45 on 178 files have the target string in the text. Occurencies 68. Blob name : raw/02_SAP_P60/0201/v1/2023/0201__crm_master_MAIN__dd__20230117/0201__crm_master_MAIN__dd__20230117__201546930.csv\n",
            "46 on 179 files have the target string in the text. Occurencies 66. Blob name : raw/02_SAP_P60/0201/v1/2023/0201__crm_master_MAIN__dd__20230117/0201__crm_master_MAIN__dd__20230117__201548321.csv\n",
            "47 on 180 files have the target string in the text. Occurencies 67. Blob name : raw/02_SAP_P60/0201/v1/2023/0201__crm_master_MAIN__dd__20230117/0201__crm_master_MAIN__dd__20230117__201548323.csv\n",
            "48 on 181 files have the target string in the text. Occurencies 68. Blob name : raw/02_SAP_P60/0201/v1/2023/0201__crm_master_MAIN__dd__20230117/0201__crm_master_MAIN__dd__20230117__201548638.csv\n",
            "49 on 182 files have the target string in the text. Occurencies 68. Blob name : raw/02_SAP_P60/0201/v1/2023/0201__crm_master_MAIN__dd__20230117/0201__crm_master_MAIN__dd__20230117__201548669.csv\n",
            "50 on 183 files have the target string in the text. Occurencies 68. Blob name : raw/02_SAP_P60/0201/v1/2023/0201__crm_master_MAIN__dd__20230117/0201__crm_master_MAIN__dd__20230117__201548965.csv\n",
            "51 on 184 files have the target string in the text. Occurencies 68. Blob name : raw/02_SAP_P60/0201/v1/2023/0201__crm_master_MAIN__dd__20230117/0201__crm_master_MAIN__dd__20230117__201548991.csv\n",
            "52 on 185 files have the target string in the text. Occurencies 68. Blob name : raw/02_SAP_P60/0201/v1/2023/0201__crm_master_MAIN__dd__20230117/0201__crm_master_MAIN__dd__20230117__201549267.csv\n",
            "53 on 186 files have the target string in the text. Occurencies 79. Blob name : raw/02_SAP_P60/0201/v1/2023/0201__crm_master_MAIN__dd__20230117/0201__crm_master_MAIN__dd__20230117__211607368.csv\n",
            "54 on 187 files have the target string in the text. Occurencies 80. Blob name : raw/02_SAP_P60/0201/v1/2023/0201__crm_master_MAIN__dd__20230117/0201__crm_master_MAIN__dd__20230117__211607660.csv\n",
            "55 on 188 files have the target string in the text. Occurencies 80. Blob name : raw/02_SAP_P60/0201/v1/2023/0201__crm_master_MAIN__dd__20230117/0201__crm_master_MAIN__dd__20230117__21160911.csv\n",
            "56 on 189 files have the target string in the text. Occurencies 66. Blob name : raw/02_SAP_P60/0201/v1/2023/0201__crm_master_MAIN__dd__20230117/0201__crm_master_MAIN__dd__20230117__211609460.csv\n",
            "57 on 190 files have the target string in the text. Occurencies 80. Blob name : raw/02_SAP_P60/0201/v1/2023/0201__crm_master_MAIN__dd__20230117/0201__crm_master_MAIN__dd__20230117__211609507.csv\n",
            "58 on 191 files have the target string in the text. Occurencies 80. Blob name : raw/02_SAP_P60/0201/v1/2023/0201__crm_master_MAIN__dd__20230117/0201__crm_master_MAIN__dd__20230117__211609868.csv\n",
            "59 on 192 files have the target string in the text. Occurencies 80. Blob name : raw/02_SAP_P60/0201/v1/2023/0201__crm_master_MAIN__dd__20230117/0201__crm_master_MAIN__dd__20230117__211610194.csv\n",
            "60 on 193 files have the target string in the text. Occurencies 80. Blob name : raw/02_SAP_P60/0201/v1/2023/0201__crm_master_MAIN__dd__20230117/0201__crm_master_MAIN__dd__20230117__211610506.csv\n",
            "61 on 194 files have the target string in the text. Occurencies 80. Blob name : raw/02_SAP_P60/0201/v1/2023/0201__crm_master_MAIN__dd__20230117/0201__crm_master_MAIN__dd__20230117__21161110.csv\n",
            "62 on 195 files have the target string in the text. Occurencies 66. Blob name : raw/02_SAP_P60/0201/v1/2023/0201__crm_master_MAIN__dd__20230117/0201__crm_master_MAIN__dd__20230117__221546456.csv\n",
            "63 on 196 files have the target string in the text. Occurencies 67. Blob name : raw/02_SAP_P60/0201/v1/2023/0201__crm_master_MAIN__dd__20230117/0201__crm_master_MAIN__dd__20230117__221546801.csv\n",
            "64 on 197 files have the target string in the text. Occurencies 66. Blob name : raw/02_SAP_P60/0201/v1/2023/0201__crm_master_MAIN__dd__20230117/0201__crm_master_MAIN__dd__20230117__221547200.csv\n",
            "65 on 198 files have the target string in the text. Occurencies 67. Blob name : raw/02_SAP_P60/0201/v1/2023/0201__crm_master_MAIN__dd__20230117/0201__crm_master_MAIN__dd__20230117__221547203.csv\n",
            "66 on 199 files have the target string in the text. Occurencies 66. Blob name : raw/02_SAP_P60/0201/v1/2023/0201__crm_master_MAIN__dd__20230117/0201__crm_master_MAIN__dd__20230117__221547505.csv\n",
            "67 on 200 files have the target string in the text. Occurencies 67. Blob name : raw/02_SAP_P60/0201/v1/2023/0201__crm_master_MAIN__dd__20230117/0201__crm_master_MAIN__dd__20230117__221547525.csv\n",
            "68 on 201 files have the target string in the text. Occurencies 67. Blob name : raw/02_SAP_P60/0201/v1/2023/0201__crm_master_MAIN__dd__20230117/0201__crm_master_MAIN__dd__20230117__221547842.csv\n",
            "69 on 202 files have the target string in the text. Occurencies 60. Blob name : raw/02_SAP_P60/0201/v1/2023/0201__crm_master_MAIN__dd__20230117/0201__crm_master_MAIN__dd__20230117__221547910.csv\n",
            "70 on 203 files have the target string in the text. Occurencies 67. Blob name : raw/02_SAP_P60/0201/v1/2023/0201__crm_master_MAIN__dd__20230117/0201__crm_master_MAIN__dd__20230117__221549259.csv\n",
            "71 on 204 files have the target string in the text. Occurencies 67. Blob name : raw/02_SAP_P60/0201/v1/2023/0201__crm_master_MAIN__dd__20230117/0201__crm_master_MAIN__dd__20230117__221549281.csv\n",
            "72 on 205 files have the target string in the text. Occurencies 53. Blob name : raw/02_SAP_P60/0201/v1/2023/0201__crm_master_MAIN__dd__20230117/0201__crm_master_MAIN__dd__20230117__234549862.csv\n",
            "73 on 206 files have the target string in the text. Occurencies 66. Blob name : raw/02_SAP_P60/0201/v1/2023/0201__crm_master_MAIN__dd__20230117/0201__crm_master_MAIN__dd__20230117__234550327.csv\n",
            "74 on 207 files have the target string in the text. Occurencies 66. Blob name : raw/02_SAP_P60/0201/v1/2023/0201__crm_master_MAIN__dd__20230117/0201__crm_master_MAIN__dd__20230117__234550456.csv\n",
            "75 on 208 files have the target string in the text. Occurencies 65. Blob name : raw/02_SAP_P60/0201/v1/2023/0201__crm_master_MAIN__dd__20230117/0201__crm_master_MAIN__dd__20230117__23455071.csv\n",
            "76 on 209 files have the target string in the text. Occurencies 66. Blob name : raw/02_SAP_P60/0201/v1/2023/0201__crm_master_MAIN__dd__20230117/0201__crm_master_MAIN__dd__20230117__234550718.csv\n",
            "77 on 210 files have the target string in the text. Occurencies 64. Blob name : raw/02_SAP_P60/0201/v1/2023/0201__crm_master_MAIN__dd__20230117/0201__crm_master_MAIN__dd__20230117__234550895.csv\n",
            "78 on 211 files have the target string in the text. Occurencies 65. Blob name : raw/02_SAP_P60/0201/v1/2023/0201__crm_master_MAIN__dd__20230117/0201__crm_master_MAIN__dd__20230117__234551229.csv\n",
            "79 on 212 files have the target string in the text. Occurencies 66. Blob name : raw/02_SAP_P60/0201/v1/2023/0201__crm_master_MAIN__dd__20230117/0201__crm_master_MAIN__dd__20230117__23455164.csv\n",
            "80 on 213 files have the target string in the text. Occurencies 66. Blob name : raw/02_SAP_P60/0201/v1/2023/0201__crm_master_MAIN__dd__20230117/0201__crm_master_MAIN__dd__20230117__234552663.csv\n",
            "81 on 214 files have the target string in the text. Occurencies 66. Blob name : raw/02_SAP_P60/0201/v1/2023/0201__crm_master_MAIN__dd__20230117/0201__crm_master_MAIN__dd__20230117__234552671.csv\n"
          ]
        }
      ]
    },
    {
      "cell_type": "markdown",
      "source": [],
      "metadata": {
        "id": "dhXvpK2yDqzC"
      }
    }
  ],
  "metadata": {
    "colab": {
      "provenance": [],
      "include_colab_link": true
    },
    "kernelspec": {
      "display_name": "Python 3",
      "name": "python3"
    },
    "language_info": {
      "name": "python"
    }
  },
  "nbformat": 4,
  "nbformat_minor": 0
}