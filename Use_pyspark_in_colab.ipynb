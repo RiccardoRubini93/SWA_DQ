{
  "nbformat": 4,
  "nbformat_minor": 0,
  "metadata": {
    "colab": {
      "provenance": [],
      "authorship_tag": "ABX9TyPipGgeGIXXdU5oReFZANws",
      "include_colab_link": true
    },
    "kernelspec": {
      "name": "python3",
      "display_name": "Python 3"
    },
    "language_info": {
      "name": "python"
    }
  },
  "cells": [
    {
      "cell_type": "markdown",
      "metadata": {
        "id": "view-in-github",
        "colab_type": "text"
      },
      "source": [
        "<a href=\"https://colab.research.google.com/github/RiccardoRubini93/SWA_DQ/blob/main/Use_pyspark_in_colab.ipynb\" target=\"_parent\"><img src=\"https://colab.research.google.com/assets/colab-badge.svg\" alt=\"Open In Colab\"/></a>"
      ]
    },
    {
      "cell_type": "code",
      "source": [
        "!apt-get install openjdk-8-jdk-headless -qq > /dev/null"
      ],
      "metadata": {
        "id": "_fn0vm1Wp8ch"
      },
      "execution_count": 14,
      "outputs": []
    },
    {
      "cell_type": "code",
      "source": [
        "!wget -q https://archive.apache.org/dist/spark/spark-3.0.0/spark-3.0.0-bin-hadoop3.2.tgz"
      ],
      "metadata": {
        "id": "fTMhiKG_qBdx"
      },
      "execution_count": 15,
      "outputs": []
    },
    {
      "cell_type": "code",
      "source": [
        "!tar xf spark-3.0.0-bin-hadoop3.2.tgz"
      ],
      "metadata": {
        "id": "SK82mRPdqCqo"
      },
      "execution_count": 16,
      "outputs": []
    },
    {
      "cell_type": "code",
      "source": [
        "!ls -al"
      ],
      "metadata": {
        "colab": {
          "base_uri": "https://localhost:8080/"
        },
        "id": "NfYBxofargC9",
        "outputId": "89d55458-0489-4bfb-fec5-01a394f5bae9"
      },
      "execution_count": 18,
      "outputs": [
        {
          "output_type": "stream",
          "name": "stdout",
          "text": [
            "total 511568\n",
            "drwxr-xr-x  1 root root      4096 Feb 26 21:42 .\n",
            "drwxr-xr-x  1 root root      4096 Feb 26 21:36 ..\n",
            "drwxr-xr-x  4 root root      4096 Feb 23 14:37 .config\n",
            "drwxr-xr-x  1 root root      4096 Feb 23 14:38 sample_data\n",
            "drwxr-xr-x 13 1000 1000      4096 Jun  6  2020 spark-3.0.0-bin-hadoop3.2\n",
            "-rw-r--r--  1 root root 224453229 Jun  6  2020 spark-3.0.0-bin-hadoop3.2.tgz\n",
            "drwxr-xr-x 13  501 1000      4096 Feb 10 20:40 spark-3.3.2-bin-hadoop3\n",
            "-rw-r--r--  1 root root 299360284 Feb 10 21:28 spark-3.3.2-bin-hadoop3.tgz\n"
          ]
        }
      ]
    },
    {
      "cell_type": "code",
      "source": [
        "import os\n",
        "os.environ[\"JAVA_HOME\"] = \"/usr/lib/jvm/java-8-openjdk-amd64\"\n",
        "os.environ[\"SPARK_HOME\"] = \"/content/spark-3.0.0-bin-hadoop3.2\""
      ],
      "metadata": {
        "id": "fIf-ft6Fqz2F"
      },
      "execution_count": 19,
      "outputs": []
    },
    {
      "cell_type": "code",
      "source": [
        "!pip install -q findspark"
      ],
      "metadata": {
        "id": "yp_URLVMq6PE"
      },
      "execution_count": 20,
      "outputs": []
    },
    {
      "cell_type": "code",
      "source": [
        "import findspark\n",
        "findspark.init()"
      ],
      "metadata": {
        "id": "x-aJPJgMq8nz"
      },
      "execution_count": 21,
      "outputs": []
    },
    {
      "cell_type": "code",
      "source": [
        "from pyspark.sql import SparkSession\n",
        "spark = SparkSession.builder\\\n",
        "        .master(\"local\")\\\n",
        "        .appName(\"Colab\")\\\n",
        "        .config('spark.ui.port', '4050')\\\n",
        "        .getOrCreate()"
      ],
      "metadata": {
        "id": "eLwbssM2q8td"
      },
      "execution_count": 22,
      "outputs": []
    },
    {
      "cell_type": "code",
      "source": [
        "#connect to GCP \n",
        "from google.colab import auth\n",
        "auth.authenticate_user()"
      ],
      "metadata": {
        "id": "KY4M073tq8wq"
      },
      "execution_count": 28,
      "outputs": []
    },
    {
      "cell_type": "code",
      "source": [
        "#cpy file locally \n",
        "\n",
        "!gsutil cp gs://swarovski-advanced-analytics-data-ingestion-test/raw/50_adyen/5004__ad_payment/v2/2023/5004__ad_payment_SwarovskiCOMAT__dd_part__2023-01-01T08:43:26+01:00.json .\n"
      ],
      "metadata": {
        "colab": {
          "base_uri": "https://localhost:8080/"
        },
        "id": "pIQa3eJcsH6C",
        "outputId": "29ee26ed-3523-4f95-9983-2d4833e41331"
      },
      "execution_count": 34,
      "outputs": [
        {
          "output_type": "stream",
          "name": "stdout",
          "text": [
            "Copying gs://swarovski-advanced-analytics-data-ingestion-test/raw/50_adyen/5004__ad_payment/v2/2023/5004__ad_payment_SwarovskiCOMAT__dd_part__2023-01-01T08:43:26+01:00.json...\n",
            "- [1 files][  379.0 B/  379.0 B]                                                \n",
            "Operation completed over 1 objects/379.0 B.                                      \n"
          ]
        }
      ]
    },
    {
      "cell_type": "code",
      "source": [
        "!mkdir tmp"
      ],
      "metadata": {
        "id": "euxAwNBEv8Gu"
      },
      "execution_count": 38,
      "outputs": []
    },
    {
      "cell_type": "code",
      "source": [
        "!mv /tmp/5004__ad_payment_SwarovskiCOMAT__dd_part__2023-01-01T08:43:26+01:00.json /tmp/test.json "
      ],
      "metadata": {
        "id": "OkoGLQkXwVhU"
      },
      "execution_count": 42,
      "outputs": []
    },
    {
      "cell_type": "code",
      "source": [
        "#load json in spark df\n",
        "\n",
        "df = spark.read.json(\"/tmp/test.json\")"
      ],
      "metadata": {
        "id": "Tj_Y43pduD_9"
      },
      "execution_count": 43,
      "outputs": []
    },
    {
      "cell_type": "code",
      "source": [
        "df.printSchema()"
      ],
      "metadata": {
        "colab": {
          "base_uri": "https://localhost:8080/"
        },
        "id": "iVzs0CKvwb1S",
        "outputId": "578f6769-fbea-42cd-bf92-00d9e746123e"
      },
      "execution_count": 44,
      "outputs": [
        {
          "output_type": "stream",
          "name": "stdout",
          "text": [
            "root\n",
            " |-- acquirerresponse: string (nullable = true)\n",
            " |-- alias: string (nullable = true)\n",
            " |-- amountcurrency: string (nullable = true)\n",
            " |-- amountvalue: long (nullable = true)\n",
            " |-- cardbin: string (nullable = true)\n",
            " |-- cardsummary: string (nullable = true)\n",
            " |-- expirymonth: string (nullable = true)\n",
            " |-- expiryyear: string (nullable = true)\n",
            " |-- issuercountry: string (nullable = true)\n",
            " |-- merchantaccountcode: string (nullable = true)\n",
            " |-- merchantreference: string (nullable = true)\n",
            " |-- pspreference: string (nullable = true)\n",
            " |-- shoppercountry: string (nullable = true)\n",
            " |-- shopperinteraction: string (nullable = true)\n",
            " |-- store: string (nullable = true)\n",
            " |-- timestamp: timestamp (nullable = true)\n",
            "\n"
          ]
        }
      ]
    },
    {
      "cell_type": "code",
      "source": [
        "df.show()"
      ],
      "metadata": {
        "colab": {
          "base_uri": "https://localhost:8080/"
        },
        "id": "IsFtB579w-mr",
        "outputId": "4d23b851-110e-4b61-93eb-e9fee5cd5ad4"
      },
      "execution_count": 45,
      "outputs": [
        {
          "output_type": "stream",
          "name": "stdout",
          "text": [
            "+----------------+-----+--------------+-----------+-------+-----------+-----------+----------+-------------+-------------------+------------------+----------------+--------------+------------------+-----+-------------------+\n",
            "|acquirerresponse|alias|amountcurrency|amountvalue|cardbin|cardsummary|expirymonth|expiryyear|issuercountry|merchantaccountcode| merchantreference|    pspreference|shoppercountry|shopperinteraction|store|          timestamp|\n",
            "+----------------+-----+--------------+-----------+-------+-----------+-----------+----------+-------------+-------------------+------------------+----------------+--------------+------------------+-----+-------------------+\n",
            "|                |     |           EUR|       6395|       |           |           |          |           AT|     SwarovskiCOMAT|10AT00000521396P01|B82N6KVF8K5SGHG2|              |         Ecommerce|     |2023-01-01 07:43:26|\n",
            "+----------------+-----+--------------+-----------+-------+-----------+-----------+----------+-------------+-------------------+------------------+----------------+--------------+------------------+-----+-------------------+\n",
            "\n"
          ]
        }
      ]
    },
    {
      "cell_type": "code",
      "source": [],
      "metadata": {
        "id": "TVmiXIDcxBxf"
      },
      "execution_count": null,
      "outputs": []
    }
  ]
}