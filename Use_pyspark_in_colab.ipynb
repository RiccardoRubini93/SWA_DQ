{
  "nbformat": 4,
  "nbformat_minor": 0,
  "metadata": {
    "colab": {
      "provenance": [],
      "authorship_tag": "ABX9TyO1W7avGZpyVajfu6JKFOrm",
      "include_colab_link": true
    },
    "kernelspec": {
      "name": "python3",
      "display_name": "Python 3"
    },
    "language_info": {
      "name": "python"
    }
  },
  "cells": [
    {
      "cell_type": "markdown",
      "metadata": {
        "id": "view-in-github",
        "colab_type": "text"
      },
      "source": [
        "<a href=\"https://colab.research.google.com/github/RiccardoRubini93/SWA_DQ/blob/main/Use_pyspark_in_colab.ipynb\" target=\"_parent\"><img src=\"https://colab.research.google.com/assets/colab-badge.svg\" alt=\"Open In Colab\"/></a>"
      ]
    },
    {
      "cell_type": "code",
      "source": [
        "!apt-get install openjdk-8-jdk-headless -qq > /dev/null"
      ],
      "metadata": {
        "id": "_fn0vm1Wp8ch"
      },
      "execution_count": 1,
      "outputs": []
    },
    {
      "cell_type": "code",
      "source": [
        "!wget -q https://archive.apache.org/dist/spark/spark-3.0.0/spark-3.0.0-bin-hadoop3.2.tgz"
      ],
      "metadata": {
        "id": "fTMhiKG_qBdx"
      },
      "execution_count": 2,
      "outputs": []
    },
    {
      "cell_type": "code",
      "source": [
        "!tar xf spark-3.0.0-bin-hadoop3.2.tgz"
      ],
      "metadata": {
        "id": "SK82mRPdqCqo"
      },
      "execution_count": 3,
      "outputs": []
    },
    {
      "cell_type": "code",
      "source": [
        "!ls -al"
      ],
      "metadata": {
        "colab": {
          "base_uri": "https://localhost:8080/"
        },
        "id": "NfYBxofargC9",
        "outputId": "cd79ca1d-f590-4b2b-8e67-c1e45c84b057"
      },
      "execution_count": 4,
      "outputs": [
        {
          "output_type": "stream",
          "name": "stdout",
          "text": [
            "total 219216\n",
            "drwxr-xr-x  1 root root      4096 Feb 27 07:26 .\n",
            "drwxr-xr-x  1 root root      4096 Feb 27 07:25 ..\n",
            "drwxr-xr-x  4 root root      4096 Feb 23 14:37 .config\n",
            "drwxr-xr-x  1 root root      4096 Feb 23 14:38 sample_data\n",
            "drwxr-xr-x 13 1000 1000      4096 Jun  6  2020 spark-3.0.0-bin-hadoop3.2\n",
            "-rw-r--r--  1 root root 224453229 Jun  6  2020 spark-3.0.0-bin-hadoop3.2.tgz\n"
          ]
        }
      ]
    },
    {
      "cell_type": "code",
      "source": [
        "import os\n",
        "os.environ[\"JAVA_HOME\"] = \"/usr/lib/jvm/java-8-openjdk-amd64\"\n",
        "os.environ[\"SPARK_HOME\"] = \"/content/spark-3.0.0-bin-hadoop3.2\""
      ],
      "metadata": {
        "id": "fIf-ft6Fqz2F"
      },
      "execution_count": 5,
      "outputs": []
    },
    {
      "cell_type": "code",
      "source": [
        "!pip install -q findspark"
      ],
      "metadata": {
        "id": "yp_URLVMq6PE"
      },
      "execution_count": 6,
      "outputs": []
    },
    {
      "cell_type": "code",
      "source": [
        "import findspark\n",
        "findspark.init()"
      ],
      "metadata": {
        "id": "x-aJPJgMq8nz"
      },
      "execution_count": 7,
      "outputs": []
    },
    {
      "cell_type": "code",
      "source": [
        "from pyspark.sql import SparkSession\n",
        "spark = SparkSession.builder\\\n",
        "        .master(\"local\")\\\n",
        "        .appName(\"Colab\")\\\n",
        "        .config('spark.ui.port', '4050')\\\n",
        "        .getOrCreate()"
      ],
      "metadata": {
        "id": "eLwbssM2q8td"
      },
      "execution_count": 8,
      "outputs": []
    },
    {
      "cell_type": "code",
      "source": [
        "spark"
      ],
      "metadata": {
        "colab": {
          "base_uri": "https://localhost:8080/",
          "height": 219
        },
        "id": "cA6Ma538x-x3",
        "outputId": "29526ef4-354e-4128-a2b8-a4a46841a83e"
      },
      "execution_count": 10,
      "outputs": [
        {
          "output_type": "execute_result",
          "data": {
            "text/plain": [
              "<pyspark.sql.session.SparkSession at 0x7fb7ac51c7c0>"
            ],
            "text/html": [
              "\n",
              "            <div>\n",
              "                <p><b>SparkSession - in-memory</b></p>\n",
              "                \n",
              "        <div>\n",
              "            <p><b>SparkContext</b></p>\n",
              "\n",
              "            <p><a href=\"http://54f560155245:4050\">Spark UI</a></p>\n",
              "\n",
              "            <dl>\n",
              "              <dt>Version</dt>\n",
              "                <dd><code>v3.0.0</code></dd>\n",
              "              <dt>Master</dt>\n",
              "                <dd><code>local</code></dd>\n",
              "              <dt>AppName</dt>\n",
              "                <dd><code>Colab</code></dd>\n",
              "            </dl>\n",
              "        </div>\n",
              "        \n",
              "            </div>\n",
              "        "
            ]
          },
          "metadata": {},
          "execution_count": 10
        }
      ]
    },
    {
      "cell_type": "code",
      "source": [
        "!wget https://bin.equinox.io/c/4VmDzA7iaHb/ngrok-stable-linux-amd64.zip\n",
        "!unzip ngrok-stable-linux-amd64.zip\n",
        "get_ipython().system_raw('./ngrok http 4050 &')\n",
        "!curl -s http://localhost:4040/api/tunnels"
      ],
      "metadata": {
        "colab": {
          "base_uri": "https://localhost:8080/"
        },
        "id": "ncV9zYgeyG3c",
        "outputId": "384d4165-8fc6-40af-f88d-ea0bab37d1be"
      },
      "execution_count": 12,
      "outputs": [
        {
          "output_type": "stream",
          "name": "stdout",
          "text": [
            "--2023-02-27 07:33:57--  https://bin.equinox.io/c/4VmDzA7iaHb/ngrok-stable-linux-amd64.zip\n",
            "Resolving bin.equinox.io (bin.equinox.io)... 52.202.168.65, 54.161.241.46, 54.237.133.81, ...\n",
            "Connecting to bin.equinox.io (bin.equinox.io)|52.202.168.65|:443... connected.\n",
            "HTTP request sent, awaiting response... 200 OK\n",
            "Length: 13921656 (13M) [application/octet-stream]\n",
            "Saving to: ‘ngrok-stable-linux-amd64.zip.1’\n",
            "\n",
            "ngrok-stable-linux- 100%[===================>]  13.28M  5.90MB/s    in 2.2s    \n",
            "\n",
            "2023-02-27 07:34:00 (5.90 MB/s) - ‘ngrok-stable-linux-amd64.zip.1’ saved [13921656/13921656]\n",
            "\n",
            "Archive:  ngrok-stable-linux-amd64.zip\n",
            "replace ngrok? [y]es, [n]o, [A]ll, [N]one, [r]ename: y\n",
            "  inflating: ngrok                   \n",
            "{\"tunnels\":[{\"name\":\"command_line\",\"uri\":\"/api/tunnels/command_line\",\"public_url\":\"https://f94d-34-80-77-107.ngrok.io\",\"proto\":\"https\",\"config\":{\"addr\":\"http://localhost:4050\",\"inspect\":true},\"metrics\":{\"conns\":{\"count\":0,\"gauge\":0,\"rate1\":0,\"rate5\":0,\"rate15\":0,\"p50\":0,\"p90\":0,\"p95\":0,\"p99\":0},\"http\":{\"count\":0,\"rate1\":0,\"rate5\":0,\"rate15\":0,\"p50\":0,\"p90\":0,\"p95\":0,\"p99\":0}}},{\"name\":\"command_line (http)\",\"uri\":\"/api/tunnels/command_line%20%28http%29\",\"public_url\":\"http://f94d-34-80-77-107.ngrok.io\",\"proto\":\"http\",\"config\":{\"addr\":\"http://localhost:4050\",\"inspect\":true},\"metrics\":{\"conns\":{\"count\":0,\"gauge\":0,\"rate1\":0,\"rate5\":0,\"rate15\":0,\"p50\":0,\"p90\":0,\"p95\":0,\"p99\":0},\"http\":{\"count\":0,\"rate1\":0,\"rate5\":0,\"rate15\":0,\"p50\":0,\"p90\":0,\"p95\":0,\"p99\":0}}}],\"uri\":\"/api/tunnels\"}\n"
          ]
        }
      ]
    },
    {
      "cell_type": "code",
      "source": [
        "#connect to GCP \n",
        "from google.colab import auth\n",
        "auth.authenticate_user()"
      ],
      "metadata": {
        "id": "KY4M073tq8wq"
      },
      "execution_count": 9,
      "outputs": []
    },
    {
      "cell_type": "code",
      "source": [
        "#copy file locally \n",
        "\n",
        "!gsutil cp gs://swarovski-advanced-analytics-data-ingestion-test/raw/50_adyen/5004__ad_payment/v2/2023/5004__ad_payment_SwarovskiCOMAT__dd_part__2023-01-01T08:43:26+01:00.json .\n"
      ],
      "metadata": {
        "colab": {
          "base_uri": "https://localhost:8080/"
        },
        "id": "pIQa3eJcsH6C",
        "outputId": "29ee26ed-3523-4f95-9983-2d4833e41331"
      },
      "execution_count": 34,
      "outputs": [
        {
          "output_type": "stream",
          "name": "stdout",
          "text": [
            "Copying gs://swarovski-advanced-analytics-data-ingestion-test/raw/50_adyen/5004__ad_payment/v2/2023/5004__ad_payment_SwarovskiCOMAT__dd_part__2023-01-01T08:43:26+01:00.json...\n",
            "- [1 files][  379.0 B/  379.0 B]                                                \n",
            "Operation completed over 1 objects/379.0 B.                                      \n"
          ]
        }
      ]
    },
    {
      "cell_type": "code",
      "source": [
        "!mkdir tmp"
      ],
      "metadata": {
        "id": "euxAwNBEv8Gu"
      },
      "execution_count": 38,
      "outputs": []
    },
    {
      "cell_type": "code",
      "source": [
        "!mv /tmp/5004__ad_payment_SwarovskiCOMAT__dd_part__2023-01-01T08:43:26+01:00.json /tmp/test.json "
      ],
      "metadata": {
        "id": "OkoGLQkXwVhU"
      },
      "execution_count": 42,
      "outputs": []
    },
    {
      "cell_type": "code",
      "source": [
        "#load json in spark df\n",
        "\n",
        "df = spark.read.json(\"/tmp/test.json\")"
      ],
      "metadata": {
        "id": "Tj_Y43pduD_9"
      },
      "execution_count": 43,
      "outputs": []
    },
    {
      "cell_type": "code",
      "source": [
        "df.printSchema()"
      ],
      "metadata": {
        "colab": {
          "base_uri": "https://localhost:8080/"
        },
        "id": "iVzs0CKvwb1S",
        "outputId": "578f6769-fbea-42cd-bf92-00d9e746123e"
      },
      "execution_count": 44,
      "outputs": [
        {
          "output_type": "stream",
          "name": "stdout",
          "text": [
            "root\n",
            " |-- acquirerresponse: string (nullable = true)\n",
            " |-- alias: string (nullable = true)\n",
            " |-- amountcurrency: string (nullable = true)\n",
            " |-- amountvalue: long (nullable = true)\n",
            " |-- cardbin: string (nullable = true)\n",
            " |-- cardsummary: string (nullable = true)\n",
            " |-- expirymonth: string (nullable = true)\n",
            " |-- expiryyear: string (nullable = true)\n",
            " |-- issuercountry: string (nullable = true)\n",
            " |-- merchantaccountcode: string (nullable = true)\n",
            " |-- merchantreference: string (nullable = true)\n",
            " |-- pspreference: string (nullable = true)\n",
            " |-- shoppercountry: string (nullable = true)\n",
            " |-- shopperinteraction: string (nullable = true)\n",
            " |-- store: string (nullable = true)\n",
            " |-- timestamp: timestamp (nullable = true)\n",
            "\n"
          ]
        }
      ]
    },
    {
      "cell_type": "code",
      "source": [
        "df.show()"
      ],
      "metadata": {
        "colab": {
          "base_uri": "https://localhost:8080/"
        },
        "id": "IsFtB579w-mr",
        "outputId": "4d23b851-110e-4b61-93eb-e9fee5cd5ad4"
      },
      "execution_count": 45,
      "outputs": [
        {
          "output_type": "stream",
          "name": "stdout",
          "text": [
            "+----------------+-----+--------------+-----------+-------+-----------+-----------+----------+-------------+-------------------+------------------+----------------+--------------+------------------+-----+-------------------+\n",
            "|acquirerresponse|alias|amountcurrency|amountvalue|cardbin|cardsummary|expirymonth|expiryyear|issuercountry|merchantaccountcode| merchantreference|    pspreference|shoppercountry|shopperinteraction|store|          timestamp|\n",
            "+----------------+-----+--------------+-----------+-------+-----------+-----------+----------+-------------+-------------------+------------------+----------------+--------------+------------------+-----+-------------------+\n",
            "|                |     |           EUR|       6395|       |           |           |          |           AT|     SwarovskiCOMAT|10AT00000521396P01|B82N6KVF8K5SGHG2|              |         Ecommerce|     |2023-01-01 07:43:26|\n",
            "+----------------+-----+--------------+-----------+-------+-----------+-----------+----------+-------------+-------------------+------------------+----------------+--------------+------------------+-----+-------------------+\n",
            "\n"
          ]
        }
      ]
    }
  ]
}