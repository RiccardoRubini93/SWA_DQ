{
  "nbformat": 4,
  "nbformat_minor": 0,
  "metadata": {
    "colab": {
      "provenance": [],
      "authorship_tag": "ABX9TyMwSY5p0+tQs3FYh9/bFx4m",
      "include_colab_link": true
    },
    "kernelspec": {
      "name": "python3",
      "display_name": "Python 3"
    },
    "language_info": {
      "name": "python"
    }
  },
  "cells": [
    {
      "cell_type": "markdown",
      "metadata": {
        "id": "view-in-github",
        "colab_type": "text"
      },
      "source": [
        "<a href=\"https://colab.research.google.com/github/RiccardoRubini93/SWA_DQ/blob/main/create_9899_big_query_test_v2.ipynb\" target=\"_parent\"><img src=\"https://colab.research.google.com/assets/colab-badge.svg\" alt=\"Open In Colab\"/></a>"
      ]
    },
    {
      "cell_type": "code",
      "execution_count": 1,
      "metadata": {
        "colab": {
          "base_uri": "https://localhost:8080/"
        },
        "id": "eYIhaz2MkouB",
        "outputId": "1093aa6f-c264-4c84-9de0-32f550954ed7"
      },
      "outputs": [
        {
          "output_type": "stream",
          "name": "stdout",
          "text": [
            "Authenticated\n"
          ]
        }
      ],
      "source": [
        "from google.colab import auth\n",
        "auth.authenticate_user()\n",
        "print('Authenticated')"
      ]
    },
    {
      "cell_type": "code",
      "source": [
        "project_id = \"advanced-analytics-278408\"\n",
        "from google.cloud import bigquery\n",
        "client = bigquery.Client(project=project_id)"
      ],
      "metadata": {
        "id": "BXbN-T4ElQ76"
      },
      "execution_count": 2,
      "outputs": []
    },
    {
      "cell_type": "code",
      "source": [
        "#define array on which we need to loop\n",
        "\n",
        "query_schema_list = '''\n",
        "        SELECT\n",
        "        ARRAY_AGG(CONCAT(project_id,\".\", \tdataset_id,\".\",table_id ))  \n",
        "        FROM\n",
        "        advanced-analytics-278408.data__1st_layer.9891__monitoring_information_and_params\n",
        "        WHERE is_to_be_monitored= TRUE\n",
        "        '''\n",
        "\n",
        "schema_list = client.query(query_schema_list).to_dataframe()\n",
        "schema_list.head()"
      ],
      "metadata": {
        "id": "K6vIjpcImO7U",
        "colab": {
          "base_uri": "https://localhost:8080/",
          "height": 80
        },
        "outputId": "486d8ad2-6d98-483a-e4ec-bb3724f14cb3"
      },
      "execution_count": 3,
      "outputs": [
        {
          "output_type": "execute_result",
          "data": {
            "text/plain": [
              "                                                 f0_\n",
              "0  [advanced-analytics-278408.data__1st_layer.989..."
            ],
            "text/html": [
              "\n",
              "  <div id=\"df-7ec87be3-5a15-4cbe-8132-27df39f9b334\">\n",
              "    <div class=\"colab-df-container\">\n",
              "      <div>\n",
              "<style scoped>\n",
              "    .dataframe tbody tr th:only-of-type {\n",
              "        vertical-align: middle;\n",
              "    }\n",
              "\n",
              "    .dataframe tbody tr th {\n",
              "        vertical-align: top;\n",
              "    }\n",
              "\n",
              "    .dataframe thead th {\n",
              "        text-align: right;\n",
              "    }\n",
              "</style>\n",
              "<table border=\"1\" class=\"dataframe\">\n",
              "  <thead>\n",
              "    <tr style=\"text-align: right;\">\n",
              "      <th></th>\n",
              "      <th>f0_</th>\n",
              "    </tr>\n",
              "  </thead>\n",
              "  <tbody>\n",
              "    <tr>\n",
              "      <th>0</th>\n",
              "      <td>[advanced-analytics-278408.data__1st_layer.989...</td>\n",
              "    </tr>\n",
              "  </tbody>\n",
              "</table>\n",
              "</div>\n",
              "      <button class=\"colab-df-convert\" onclick=\"convertToInteractive('df-7ec87be3-5a15-4cbe-8132-27df39f9b334')\"\n",
              "              title=\"Convert this dataframe to an interactive table.\"\n",
              "              style=\"display:none;\">\n",
              "        \n",
              "  <svg xmlns=\"http://www.w3.org/2000/svg\" height=\"24px\"viewBox=\"0 0 24 24\"\n",
              "       width=\"24px\">\n",
              "    <path d=\"M0 0h24v24H0V0z\" fill=\"none\"/>\n",
              "    <path d=\"M18.56 5.44l.94 2.06.94-2.06 2.06-.94-2.06-.94-.94-2.06-.94 2.06-2.06.94zm-11 1L8.5 8.5l.94-2.06 2.06-.94-2.06-.94L8.5 2.5l-.94 2.06-2.06.94zm10 10l.94 2.06.94-2.06 2.06-.94-2.06-.94-.94-2.06-.94 2.06-2.06.94z\"/><path d=\"M17.41 7.96l-1.37-1.37c-.4-.4-.92-.59-1.43-.59-.52 0-1.04.2-1.43.59L10.3 9.45l-7.72 7.72c-.78.78-.78 2.05 0 2.83L4 21.41c.39.39.9.59 1.41.59.51 0 1.02-.2 1.41-.59l7.78-7.78 2.81-2.81c.8-.78.8-2.07 0-2.86zM5.41 20L4 18.59l7.72-7.72 1.47 1.35L5.41 20z\"/>\n",
              "  </svg>\n",
              "      </button>\n",
              "      \n",
              "  <style>\n",
              "    .colab-df-container {\n",
              "      display:flex;\n",
              "      flex-wrap:wrap;\n",
              "      gap: 12px;\n",
              "    }\n",
              "\n",
              "    .colab-df-convert {\n",
              "      background-color: #E8F0FE;\n",
              "      border: none;\n",
              "      border-radius: 50%;\n",
              "      cursor: pointer;\n",
              "      display: none;\n",
              "      fill: #1967D2;\n",
              "      height: 32px;\n",
              "      padding: 0 0 0 0;\n",
              "      width: 32px;\n",
              "    }\n",
              "\n",
              "    .colab-df-convert:hover {\n",
              "      background-color: #E2EBFA;\n",
              "      box-shadow: 0px 1px 2px rgba(60, 64, 67, 0.3), 0px 1px 3px 1px rgba(60, 64, 67, 0.15);\n",
              "      fill: #174EA6;\n",
              "    }\n",
              "\n",
              "    [theme=dark] .colab-df-convert {\n",
              "      background-color: #3B4455;\n",
              "      fill: #D2E3FC;\n",
              "    }\n",
              "\n",
              "    [theme=dark] .colab-df-convert:hover {\n",
              "      background-color: #434B5C;\n",
              "      box-shadow: 0px 1px 3px 1px rgba(0, 0, 0, 0.15);\n",
              "      filter: drop-shadow(0px 1px 2px rgba(0, 0, 0, 0.3));\n",
              "      fill: #FFFFFF;\n",
              "    }\n",
              "  </style>\n",
              "\n",
              "      <script>\n",
              "        const buttonEl =\n",
              "          document.querySelector('#df-7ec87be3-5a15-4cbe-8132-27df39f9b334 button.colab-df-convert');\n",
              "        buttonEl.style.display =\n",
              "          google.colab.kernel.accessAllowed ? 'block' : 'none';\n",
              "\n",
              "        async function convertToInteractive(key) {\n",
              "          const element = document.querySelector('#df-7ec87be3-5a15-4cbe-8132-27df39f9b334');\n",
              "          const dataTable =\n",
              "            await google.colab.kernel.invokeFunction('convertToInteractive',\n",
              "                                                     [key], {});\n",
              "          if (!dataTable) return;\n",
              "\n",
              "          const docLinkHtml = 'Like what you see? Visit the ' +\n",
              "            '<a target=\"_blank\" href=https://colab.research.google.com/notebooks/data_table.ipynb>data table notebook</a>'\n",
              "            + ' to learn more about interactive tables.';\n",
              "          element.innerHTML = '';\n",
              "          dataTable['output_type'] = 'display_data';\n",
              "          await google.colab.output.renderOutput(dataTable, element);\n",
              "          const docLink = document.createElement('div');\n",
              "          docLink.innerHTML = docLinkHtml;\n",
              "          element.appendChild(docLink);\n",
              "        }\n",
              "      </script>\n",
              "    </div>\n",
              "  </div>\n",
              "  "
            ]
          },
          "metadata": {},
          "execution_count": 3
        }
      ]
    },
    {
      "cell_type": "code",
      "source": [
        "query_date_loop = '''\n",
        "        SELECT\n",
        "        ARRAY_AGG(data_loop_field)  \n",
        "        FROM\n",
        "        advanced-analytics-278408.data__1st_layer.9891__monitoring_information_and_params\n",
        "        WHERE is_to_be_monitored= TRUE\n",
        "        '''\n",
        "\n",
        "date_loop_list = client.query(query_date_loop).to_dataframe()\n",
        "date_loop_list.head()"
      ],
      "metadata": {
        "colab": {
          "base_uri": "https://localhost:8080/",
          "height": 80
        },
        "id": "B3UMiw-FtQQ_",
        "outputId": "cb6f5e6a-cbe4-425b-e9d3-b8c32c9ef3ec"
      },
      "execution_count": 4,
      "outputs": [
        {
          "output_type": "execute_result",
          "data": {
            "text/plain": [
              "                                                 f0_\n",
              "0  [analysis_date, order_date, DATE, DATE, DATE, ..."
            ],
            "text/html": [
              "\n",
              "  <div id=\"df-962a87ab-e183-4284-8cbc-1d5b19489bef\">\n",
              "    <div class=\"colab-df-container\">\n",
              "      <div>\n",
              "<style scoped>\n",
              "    .dataframe tbody tr th:only-of-type {\n",
              "        vertical-align: middle;\n",
              "    }\n",
              "\n",
              "    .dataframe tbody tr th {\n",
              "        vertical-align: top;\n",
              "    }\n",
              "\n",
              "    .dataframe thead th {\n",
              "        text-align: right;\n",
              "    }\n",
              "</style>\n",
              "<table border=\"1\" class=\"dataframe\">\n",
              "  <thead>\n",
              "    <tr style=\"text-align: right;\">\n",
              "      <th></th>\n",
              "      <th>f0_</th>\n",
              "    </tr>\n",
              "  </thead>\n",
              "  <tbody>\n",
              "    <tr>\n",
              "      <th>0</th>\n",
              "      <td>[analysis_date, order_date, DATE, DATE, DATE, ...</td>\n",
              "    </tr>\n",
              "  </tbody>\n",
              "</table>\n",
              "</div>\n",
              "      <button class=\"colab-df-convert\" onclick=\"convertToInteractive('df-962a87ab-e183-4284-8cbc-1d5b19489bef')\"\n",
              "              title=\"Convert this dataframe to an interactive table.\"\n",
              "              style=\"display:none;\">\n",
              "        \n",
              "  <svg xmlns=\"http://www.w3.org/2000/svg\" height=\"24px\"viewBox=\"0 0 24 24\"\n",
              "       width=\"24px\">\n",
              "    <path d=\"M0 0h24v24H0V0z\" fill=\"none\"/>\n",
              "    <path d=\"M18.56 5.44l.94 2.06.94-2.06 2.06-.94-2.06-.94-.94-2.06-.94 2.06-2.06.94zm-11 1L8.5 8.5l.94-2.06 2.06-.94-2.06-.94L8.5 2.5l-.94 2.06-2.06.94zm10 10l.94 2.06.94-2.06 2.06-.94-2.06-.94-.94-2.06-.94 2.06-2.06.94z\"/><path d=\"M17.41 7.96l-1.37-1.37c-.4-.4-.92-.59-1.43-.59-.52 0-1.04.2-1.43.59L10.3 9.45l-7.72 7.72c-.78.78-.78 2.05 0 2.83L4 21.41c.39.39.9.59 1.41.59.51 0 1.02-.2 1.41-.59l7.78-7.78 2.81-2.81c.8-.78.8-2.07 0-2.86zM5.41 20L4 18.59l7.72-7.72 1.47 1.35L5.41 20z\"/>\n",
              "  </svg>\n",
              "      </button>\n",
              "      \n",
              "  <style>\n",
              "    .colab-df-container {\n",
              "      display:flex;\n",
              "      flex-wrap:wrap;\n",
              "      gap: 12px;\n",
              "    }\n",
              "\n",
              "    .colab-df-convert {\n",
              "      background-color: #E8F0FE;\n",
              "      border: none;\n",
              "      border-radius: 50%;\n",
              "      cursor: pointer;\n",
              "      display: none;\n",
              "      fill: #1967D2;\n",
              "      height: 32px;\n",
              "      padding: 0 0 0 0;\n",
              "      width: 32px;\n",
              "    }\n",
              "\n",
              "    .colab-df-convert:hover {\n",
              "      background-color: #E2EBFA;\n",
              "      box-shadow: 0px 1px 2px rgba(60, 64, 67, 0.3), 0px 1px 3px 1px rgba(60, 64, 67, 0.15);\n",
              "      fill: #174EA6;\n",
              "    }\n",
              "\n",
              "    [theme=dark] .colab-df-convert {\n",
              "      background-color: #3B4455;\n",
              "      fill: #D2E3FC;\n",
              "    }\n",
              "\n",
              "    [theme=dark] .colab-df-convert:hover {\n",
              "      background-color: #434B5C;\n",
              "      box-shadow: 0px 1px 3px 1px rgba(0, 0, 0, 0.15);\n",
              "      filter: drop-shadow(0px 1px 2px rgba(0, 0, 0, 0.3));\n",
              "      fill: #FFFFFF;\n",
              "    }\n",
              "  </style>\n",
              "\n",
              "      <script>\n",
              "        const buttonEl =\n",
              "          document.querySelector('#df-962a87ab-e183-4284-8cbc-1d5b19489bef button.colab-df-convert');\n",
              "        buttonEl.style.display =\n",
              "          google.colab.kernel.accessAllowed ? 'block' : 'none';\n",
              "\n",
              "        async function convertToInteractive(key) {\n",
              "          const element = document.querySelector('#df-962a87ab-e183-4284-8cbc-1d5b19489bef');\n",
              "          const dataTable =\n",
              "            await google.colab.kernel.invokeFunction('convertToInteractive',\n",
              "                                                     [key], {});\n",
              "          if (!dataTable) return;\n",
              "\n",
              "          const docLinkHtml = 'Like what you see? Visit the ' +\n",
              "            '<a target=\"_blank\" href=https://colab.research.google.com/notebooks/data_table.ipynb>data table notebook</a>'\n",
              "            + ' to learn more about interactive tables.';\n",
              "          element.innerHTML = '';\n",
              "          dataTable['output_type'] = 'display_data';\n",
              "          await google.colab.output.renderOutput(dataTable, element);\n",
              "          const docLink = document.createElement('div');\n",
              "          docLink.innerHTML = docLinkHtml;\n",
              "          element.appendChild(docLink);\n",
              "        }\n",
              "      </script>\n",
              "    </div>\n",
              "  </div>\n",
              "  "
            ]
          },
          "metadata": {},
          "execution_count": 4
        }
      ]
    },
    {
      "cell_type": "code",
      "source": [
        "query_id_loop = '''\n",
        "        SELECT\n",
        "        ARRAY_AGG(id_field)  \n",
        "        FROM\n",
        "        advanced-analytics-278408.data__1st_layer.9891__monitoring_information_and_params\n",
        "        WHERE is_to_be_monitored= TRUE\n",
        "        '''\n",
        "\n",
        "id_loop_list = client.query(query_id_loop).to_dataframe()\n",
        "id_loop_list.head()"
      ],
      "metadata": {
        "colab": {
          "base_uri": "https://localhost:8080/",
          "height": 80
        },
        "id": "66m3atdctgu2",
        "outputId": "103253a2-a79e-4139-f0ac-ef8ba2ee61f1"
      },
      "execution_count": 5,
      "outputs": [
        {
          "output_type": "execute_result",
          "data": {
            "text/plain": [
              "                                                 f0_\n",
              "0  [analysis_date_time, transaction_id, DATE, DAT..."
            ],
            "text/html": [
              "\n",
              "  <div id=\"df-2867c3e7-601b-42bc-ad58-fd0e53f0ff9b\">\n",
              "    <div class=\"colab-df-container\">\n",
              "      <div>\n",
              "<style scoped>\n",
              "    .dataframe tbody tr th:only-of-type {\n",
              "        vertical-align: middle;\n",
              "    }\n",
              "\n",
              "    .dataframe tbody tr th {\n",
              "        vertical-align: top;\n",
              "    }\n",
              "\n",
              "    .dataframe thead th {\n",
              "        text-align: right;\n",
              "    }\n",
              "</style>\n",
              "<table border=\"1\" class=\"dataframe\">\n",
              "  <thead>\n",
              "    <tr style=\"text-align: right;\">\n",
              "      <th></th>\n",
              "      <th>f0_</th>\n",
              "    </tr>\n",
              "  </thead>\n",
              "  <tbody>\n",
              "    <tr>\n",
              "      <th>0</th>\n",
              "      <td>[analysis_date_time, transaction_id, DATE, DAT...</td>\n",
              "    </tr>\n",
              "  </tbody>\n",
              "</table>\n",
              "</div>\n",
              "      <button class=\"colab-df-convert\" onclick=\"convertToInteractive('df-2867c3e7-601b-42bc-ad58-fd0e53f0ff9b')\"\n",
              "              title=\"Convert this dataframe to an interactive table.\"\n",
              "              style=\"display:none;\">\n",
              "        \n",
              "  <svg xmlns=\"http://www.w3.org/2000/svg\" height=\"24px\"viewBox=\"0 0 24 24\"\n",
              "       width=\"24px\">\n",
              "    <path d=\"M0 0h24v24H0V0z\" fill=\"none\"/>\n",
              "    <path d=\"M18.56 5.44l.94 2.06.94-2.06 2.06-.94-2.06-.94-.94-2.06-.94 2.06-2.06.94zm-11 1L8.5 8.5l.94-2.06 2.06-.94-2.06-.94L8.5 2.5l-.94 2.06-2.06.94zm10 10l.94 2.06.94-2.06 2.06-.94-2.06-.94-.94-2.06-.94 2.06-2.06.94z\"/><path d=\"M17.41 7.96l-1.37-1.37c-.4-.4-.92-.59-1.43-.59-.52 0-1.04.2-1.43.59L10.3 9.45l-7.72 7.72c-.78.78-.78 2.05 0 2.83L4 21.41c.39.39.9.59 1.41.59.51 0 1.02-.2 1.41-.59l7.78-7.78 2.81-2.81c.8-.78.8-2.07 0-2.86zM5.41 20L4 18.59l7.72-7.72 1.47 1.35L5.41 20z\"/>\n",
              "  </svg>\n",
              "      </button>\n",
              "      \n",
              "  <style>\n",
              "    .colab-df-container {\n",
              "      display:flex;\n",
              "      flex-wrap:wrap;\n",
              "      gap: 12px;\n",
              "    }\n",
              "\n",
              "    .colab-df-convert {\n",
              "      background-color: #E8F0FE;\n",
              "      border: none;\n",
              "      border-radius: 50%;\n",
              "      cursor: pointer;\n",
              "      display: none;\n",
              "      fill: #1967D2;\n",
              "      height: 32px;\n",
              "      padding: 0 0 0 0;\n",
              "      width: 32px;\n",
              "    }\n",
              "\n",
              "    .colab-df-convert:hover {\n",
              "      background-color: #E2EBFA;\n",
              "      box-shadow: 0px 1px 2px rgba(60, 64, 67, 0.3), 0px 1px 3px 1px rgba(60, 64, 67, 0.15);\n",
              "      fill: #174EA6;\n",
              "    }\n",
              "\n",
              "    [theme=dark] .colab-df-convert {\n",
              "      background-color: #3B4455;\n",
              "      fill: #D2E3FC;\n",
              "    }\n",
              "\n",
              "    [theme=dark] .colab-df-convert:hover {\n",
              "      background-color: #434B5C;\n",
              "      box-shadow: 0px 1px 3px 1px rgba(0, 0, 0, 0.15);\n",
              "      filter: drop-shadow(0px 1px 2px rgba(0, 0, 0, 0.3));\n",
              "      fill: #FFFFFF;\n",
              "    }\n",
              "  </style>\n",
              "\n",
              "      <script>\n",
              "        const buttonEl =\n",
              "          document.querySelector('#df-2867c3e7-601b-42bc-ad58-fd0e53f0ff9b button.colab-df-convert');\n",
              "        buttonEl.style.display =\n",
              "          google.colab.kernel.accessAllowed ? 'block' : 'none';\n",
              "\n",
              "        async function convertToInteractive(key) {\n",
              "          const element = document.querySelector('#df-2867c3e7-601b-42bc-ad58-fd0e53f0ff9b');\n",
              "          const dataTable =\n",
              "            await google.colab.kernel.invokeFunction('convertToInteractive',\n",
              "                                                     [key], {});\n",
              "          if (!dataTable) return;\n",
              "\n",
              "          const docLinkHtml = 'Like what you see? Visit the ' +\n",
              "            '<a target=\"_blank\" href=https://colab.research.google.com/notebooks/data_table.ipynb>data table notebook</a>'\n",
              "            + ' to learn more about interactive tables.';\n",
              "          element.innerHTML = '';\n",
              "          dataTable['output_type'] = 'display_data';\n",
              "          await google.colab.output.renderOutput(dataTable, element);\n",
              "          const docLink = document.createElement('div');\n",
              "          docLink.innerHTML = docLinkHtml;\n",
              "          element.appendChild(docLink);\n",
              "        }\n",
              "      </script>\n",
              "    </div>\n",
              "  </div>\n",
              "  "
            ]
          },
          "metadata": {},
          "execution_count": 5
        }
      ]
    },
    {
      "cell_type": "code",
      "source": [],
      "metadata": {
        "id": "fvFFj4JTsBnw",
        "outputId": "8298e6e6-d197-4575-c0ca-07e5c356f960",
        "colab": {
          "base_uri": "https://localhost:8080/",
          "height": 35
        }
      },
      "execution_count": 8,
      "outputs": [
        {
          "output_type": "execute_result",
          "data": {
            "text/plain": [
              "'transaction_id'"
            ],
            "application/vnd.google.colaboratory.intrinsic+json": {
              "type": "string"
            }
          },
          "metadata": {},
          "execution_count": 8
        }
      ]
    },
    {
      "cell_type": "code",
      "source": [
        "#create the initial table where to append the new data to\n",
        "\n",
        "from google.cloud.exceptions import NotFound\n",
        "\n",
        "table_id = \"advanced-analytics-278408.user__rubini_riccardo.9899_big_query_test_v3\"\n",
        "\n",
        "try:\n",
        "  client.get_table(table_id)  # Make an API request.\n",
        "  print(\"Table {} already exists.\".format(table_id))\n",
        "\n",
        "except NotFound:\n",
        "  print(\"Table {} is not found, creating it....\".format(table_id))\n",
        "  query_create_statement = f'''\n",
        "              create table {table_id} as (\n",
        "                select t1.*, t2.* FROM (with temp_tb as (select 'advanced-analytics-278408.data__1st_layer.9899__pipelines_target_tables_metadata' as full_table_id ,CAST(analysis_date as STRING) as order_date, count(distinct(analysis_date_time)) as transaction_id_cnt,count(*) as cnt FROM advanced-analytics-278408.data__1st_layer.9899__pipelines_target_tables_metadata group by analysis_date order by order_date desc ), aggregated_table as ( select full_table_id, array_agg(struct(order_date,transaction_id_cnt,cnt)) as day_list FROM temp_tb group by full_table_id), master_tb as (SELECT 'advanced-analytics-278408.data__1st_layer.9899__pipelines_target_tables_metadata' as full_table_id , count(*) as total_rows, CAST(min(analysis_date) AS STRING) as min_date, CAST(max(analysis_date) AS STRING) as max_date, count(distinct analysis_date_time) as id_distinct_count FROM advanced-analytics-278408.data__1st_layer.9899__pipelines_target_tables_metadata) select t1.full_table_id,t2.min_date,t2.max_date,t2.id_distinct_count,t2.total_rows,t1.day_list FROM aggregated_table t1 join master_tb t2 on (t1.full_table_id = t2.full_table_id)) AS t1 JOIN `advanced-analytics-278408.data__1st_layer.9891__monitoring_information_and_params` as t2 on t1.full_table_id = t2.complete_table_id\n",
        "              ); \n",
        "  '''\n",
        "  create_table_9899 = client.query(query_create_statement)\n",
        "  rows = create_table_9899.result()\n"
      ],
      "metadata": {
        "colab": {
          "base_uri": "https://localhost:8080/"
        },
        "id": "CmoPH4JotIVy",
        "outputId": "0da3f845-1a33-47ba-e4b2-3f79d997ba81"
      },
      "execution_count": 11,
      "outputs": [
        {
          "output_type": "stream",
          "name": "stdout",
          "text": [
            "Table advanced-analytics-278408.user__rubini_riccardo.9899_big_query_test_v3 is not found, creating it....\n"
          ]
        }
      ]
    },
    {
      "cell_type": "code",
      "source": [
        "print(schema_list.values[0][0][1])\n",
        "print(date_loop_list.values[0][0][1])\n",
        "print(id_loop_list.values[0][0][1])"
      ],
      "metadata": {
        "colab": {
          "base_uri": "https://localhost:8080/"
        },
        "id": "JcU1QSRNvOHP",
        "outputId": "3566175e-63b1-4e0f-f0df-368ec11e800e"
      },
      "execution_count": null,
      "outputs": [
        {
          "output_type": "stream",
          "name": "stdout",
          "text": [
            "advanced-analytics-278408.data__1st_layer.0005__customer_transactions_online_eur\n",
            "order_date\n",
            "transaction_id\n"
          ]
        }
      ]
    },
    {
      "cell_type": "code",
      "source": [
        "#loop over the lists previously defined to append the new columns\n",
        "\n",
        "#N = schema_list.values[0][0].shape[0]\n",
        "history_limit = 50\n",
        "\n",
        "N = 5\n",
        "\n",
        "for i in range(1,N):\n",
        "\n",
        "  print(f\"Step : {i} -- Writing info for : {schema_list.values[0][0][i]}\" )\n",
        "\n",
        "  string = f'''\n",
        "          select t1.*, t2.* FROM (with temp_tb as (select '{schema_list.values[0][0][i]}' as full_table_id ,\n",
        "          CAST({date_loop_list.values[0][0][i]} as STRING) as order_date, \n",
        "          count(distinct({id_loop_list.values[0][0][i]})) as transaction_id_cnt,\n",
        "          count(*) as cnt FROM {schema_list.values[0][0][i]} group by {date_loop_list.values[0][0][i]} order by {date_loop_list.values[0][0][i]} desc limit {history_limit}), \n",
        "          aggregated_table as ( select  full_table_id, array_agg(struct(order_date,transaction_id_cnt,cnt)) as day_list FROM  temp_tb  group by full_table_id), \n",
        "          master_tb as (SELECT '{schema_list.values[0][0][i]}' as full_table_id , count(*) as total_rows, CAST(min({date_loop_list.values[0][0][i]}) AS STRING) as min_date, \n",
        "          CAST(max({date_loop_list.values[0][0][i]}) AS STRING) as max_date, count(distinct {id_loop_list.values[0][0][i]}) as id_distinct_count \n",
        "          FROM {schema_list.values[0][0][i]}) select t1.full_table_id,t2.min_date,t2.max_date,t2.id_distinct_count,t2.total_rows,t1.day_list \n",
        "          FROM aggregated_table t1 join master_tb t2 on (t1.full_table_id = t2.full_table_id)) AS t1 \n",
        "          JOIN  `advanced-analytics-278408.data__1st_layer.9891__monitoring_information_and_params` as t2 \n",
        "          on t1.full_table_id = t2.complete_table_id;\n",
        "          '''\n",
        "  insert_string = 'insert into `advanced-analytics-278408.user__rubini_riccardo.9899_big_query_test_v3`' + string\n",
        "\n",
        "  insert_test_job = client.query(insert_string)\n",
        "  rows = insert_test_job.result()\n",
        "  \n",
        "    "
      ],
      "metadata": {
        "colab": {
          "base_uri": "https://localhost:8080/"
        },
        "id": "5Nl6tAAuuYix",
        "outputId": "db4c6f98-1d7f-4f33-8283-2d3345e10ba6"
      },
      "execution_count": 12,
      "outputs": [
        {
          "output_type": "stream",
          "name": "stdout",
          "text": [
            "Step : 1 -- Writing info for : advanced-analytics-278408.data__1st_layer.0005__customer_transactions_online_eur\n",
            "Step : 2 -- Writing info for : advanced-analytics-278408.Draft_Data_Model.0004__v3__traffic_transaction_adj\n",
            "Step : 3 -- Writing info for : advanced-analytics-278408.Draft_Data_Model.0006__cogs\n",
            "Step : 4 -- Writing info for : advanced-analytics-278408.Draft_Data_Model.0019__cogs_csl\n"
          ]
        }
      ]
    },
    {
      "cell_type": "code",
      "source": [
        "#cells that compute number of fields with description and a object with list of fields for each table\n",
        "\n",
        "query_info_extra = '''\n",
        "    create or replace table `advanced-analytics-278408.user__rubini_riccardo.9899_with_table_info` as (\n",
        "\n",
        "    with tb_9899_column_info as (\n",
        "      SELECT \n",
        "        concat(t1.table_catalog,'.',t1.table_schema,'.',t1.table_name) as full_table_id , array_agg(struct(t2.ordinal_position,t1.column_name,t1.data_type,t1.description)) as fields\n",
        "        FROM `advanced-analytics-278408.data__1st_layer.INFORMATION_SCHEMA.COLUMN_FIELD_PATHS` as t1\n",
        "        INNER JOIN \n",
        "        advanced-analytics-278408.data__1st_layer.INFORMATION_SCHEMA.COLUMNS as t2\n",
        "        ON (concat(t1.table_catalog,'.',t1.table_schema,'.',t1.table_name) = concat(t2.table_catalog,'.',t2.table_schema,'.',t2.table_name))\n",
        "        AND (t1.column_name = t2.column_name)\n",
        "        group by concat(t1.table_catalog,'.',t1.table_schema,'.',t1.table_name)\n",
        "        \n",
        "        union all \n",
        "\n",
        "        SELECT \n",
        "        concat(t1.table_catalog,'.',t1.table_schema,'.',t1.table_name) as full_table_id , array_agg(struct(t2.ordinal_position,t1.column_name,t1.data_type,t1.description)) as fields\n",
        "        FROM `advanced-analytics-278408.Draft_Data_Model.INFORMATION_SCHEMA.COLUMN_FIELD_PATHS` as t1\n",
        "        INNER JOIN \n",
        "        advanced-analytics-278408.Draft_Data_Model.INFORMATION_SCHEMA.COLUMNS as t2\n",
        "        ON (concat(t1.table_catalog,'.',t1.table_schema,'.',t1.table_name) = concat(t2.table_catalog,'.',t2.table_schema,'.',t2.table_name))\n",
        "        AND (t1.column_name = t2.column_name)\n",
        "        group by concat(t1.table_catalog,'.',t1.table_schema,'.',t1.table_name)\n",
        "\n",
        "    ),\n",
        "\n",
        "    tb_field_with_description as (\n",
        "    select \n",
        "              concat(table_catalog,'.',table_schema,'.',table_name) as full_table_id, \n",
        "              sum(case when description is not null then 1 else 0 end) as described_fields_count \n",
        "              from advanced-analytics-278408.data__1st_layer.INFORMATION_SCHEMA.COLUMN_FIELD_PATHS\n",
        "              group by concat(table_catalog,'.',table_schema,'.',table_name)\n",
        "              union all \n",
        "              select concat(table_catalog,'.',table_schema,'.',table_name) as full_table_id, \n",
        "              sum(case when description is not null then 1 else 0 end) as described_fields_count \n",
        "              from advanced-analytics-278408.Draft_Data_Model.INFORMATION_SCHEMA.COLUMN_FIELD_PATHS\n",
        "              group by concat(table_catalog,'.',table_schema,'.',table_name)\n",
        "    ),\n",
        "\n",
        "    tb_info_label as (\n",
        "      select \n",
        "      concat(table_catalog,'.',table_schema,'.',table_name) as full_table_id,\n",
        "      --array_agg(struct(split(trim(option_value,'[]'),'STRUCT'))) as labels\n",
        "      split(trim(option_value,'[]'),'STRUCT') as labels\n",
        "      from data__1st_layer.INFORMATION_SCHEMA.TABLE_OPTIONS\n",
        "      where option_name = 'labels'\n",
        "      --group by concat(table_catalog,'.',table_schema,'.',table_name)\n",
        "\n",
        "      union all\n",
        "\n",
        "      select \n",
        "      concat(table_catalog,'.',table_schema,'.',table_name) as full_table_id,\n",
        "      --array_agg(struct(split(trim(option_value,'[]'),'STRUCT'))) as labels\n",
        "      split(trim(option_value,'[]'),'STRUCT') as labels\n",
        "      from Draft_Data_Model.INFORMATION_SCHEMA.TABLE_OPTIONS\n",
        "      where option_name = 'labels'\n",
        "      --group by concat(table_catalog,'.',table_schema,'.',table_name)\n",
        "    )\n",
        "\n",
        "    select t1.*,t2.fields,t3.described_fields_count,t4.labels\n",
        "    from advanced-analytics-278408.user__rubini_riccardo.9899_big_query_test_v3 as t1\n",
        "    inner join tb_9899_column_info as t2\n",
        "    on (t1.full_table_id = t2.full_table_id)\n",
        "    inner join tb_field_with_description as t3\n",
        "    on (t1.full_table_id = t3.full_table_id)\n",
        "    left join tb_info_label as t4\n",
        "    on (t1.full_table_id = t4.full_table_id)\n",
        "    );\n",
        "\n",
        "'''\n",
        "job = client.query(query_info_extra)\n",
        "res = job.result()\n"
      ],
      "metadata": {
        "id": "2KWsOv6G0fHG"
      },
      "execution_count": 14,
      "outputs": []
    },
    {
      "cell_type": "code",
      "source": [
        "#join the newly created table with the metadata in the master \n",
        "#insert table into advanced-analytics-278408.data__1st_layer.9899__pipelines_target_tables_metadata\n",
        "\n",
        "final_table_id = 'advanced-analytics-278408.Draft_Data_Model.9899__pipelines_target_tables_metadata_v2'\n",
        "\n",
        "#define prefix to distinguish whether the table exist already or not\n",
        "\n",
        "insert = f'insert into {final_table_id}'\n",
        "create = f'create table {final_table_id} as  ('\n",
        "\n",
        "#define query to be run to populate the table\n",
        "\n",
        "sql_body = '''\n",
        "    select tc1.*, tc2.ddl, tc2.table_ddl_extracted_description\n",
        "\n",
        "FROM \n",
        "\n",
        "(select  t_meta_table.*, min_date, max_date, \t\n",
        "--id_distinct_count, \n",
        "t_meta_topic.day_list,\n",
        "t_meta_topic.fields,\n",
        "t_meta_topic.described_fields_count,\n",
        "complete_table_id, table_code, is_to_be_monitored, current_development_status, current_development_status_id, source_system_id, source_system_name, source_system_ownership_type, extraction_tool, extraction_script, extraction_is_scheduled, extraction_schedule_pattern, landing_zone, landing_zone_path, landing_zone_form, loading_tool, load_script, load_is_scheduled, load_schedule_pattern, load_form, is_dx_framework_applied, id_field, data_loop_field, data_loop_granularity, overall_documentation_URL, to_do_pending, notes \n",
        "\n",
        "from\n",
        "\n",
        "(SELECT CURRENT_DATE() AS analysis_date, CURRENT_DATETIME()AS analysis_date_time, project_id,   dataset_id,   table_id,   TIMESTAMP_MILLIS(creation_time) AS creation_datetime, TIMESTAMP_MILLIS(last_modified_time) AS last_modified_datetime,  column_count, row_count,      size_bytes, ROUND((size_bytes)/pow(10,6),2) as size_megabytes, ROUND((size_bytes)/pow(10,9),2) as size_gigabytes  , type AS table_type\n",
        "\n",
        "FROM (Select * FROM advanced-analytics-278408.Draft_Data_Model.__TABLES__ UNION ALL Select * FROM advanced-analytics-278408.data__1st_layer.__TABLES__) as t1\n",
        "\n",
        "JOIN (SELECT table_catalog,     table_schema,   table_name, max(ordinal_position) as column_count\n",
        "FROM  (Select * FROM `advanced-analytics-278408.Draft_Data_Model.INFORMATION_SCHEMA.COLUMNS` UNION ALL Select * FROM `advanced-analytics-278408.data__1st_layer.INFORMATION_SCHEMA.COLUMNS`) \n",
        "\n",
        "group by table_catalog,     table_schema,   table_name) as t2\n",
        "\n",
        "on t1.table_id = t2.table_name) as t_meta_table\n",
        "\n",
        "\n",
        "JOIN (SELECT * from advanced-analytics-278408.user__rubini_riccardo.9899_with_table_info ) as t_meta_topic\n",
        "\n",
        "on CONCAT(t_meta_table.project_id,\".\", \tt_meta_table.dataset_id,\".\",t_meta_table.table_id) = t_meta_topic.full_table_id\n",
        "\n",
        "\n",
        "order by table_id) as tc1 LEFT JOIN\n",
        "\n",
        "\n",
        "(SELECT CONCAT(table_catalog,\".\", table_schema,\".\", table_name) as unique_table_id, creation_time, ddl, CASE WHEN ddl like CONCAT(\"%)\",\"\",\"OPTIONS(\",\"\",\"  description=%\") THEN\n",
        "SPLIT(ddl, CONCAT(\")\",\"\",\"OPTIONS(\",\"\",\"  description=\"))[SAFE_OFFSET(ARRAY_LENGTH(SPLIT(ddl, CONCAT(\")\",\"\",\"OPTIONS(\",\"\",\"  description=\"))) - 1)]\n",
        "  ELSE \"Description not yet available\"\n",
        "  END AS table_ddl_extracted_description FROM `advanced-analytics-278408.data__1st_layer.INFORMATION_SCHEMA.TABLES`\n",
        "\n",
        "  union all\n",
        "  \n",
        "SELECT CONCAT(table_catalog,\".\", table_schema,\".\", table_name) as unique_table_id, creation_time, ddl, CASE WHEN ddl like CONCAT(\"%)\",\"\",\"OPTIONS(\",\"\",\"  description=%\") THEN\n",
        "SPLIT(ddl, CONCAT(\")\",\"\",\"OPTIONS(\",\"\",\"  description=\"))[SAFE_OFFSET(ARRAY_LENGTH(SPLIT(ddl, CONCAT(\")\",\"\",\"OPTIONS(\",\"\",\"  description=\"))) - 1)]\n",
        "  ELSE \"Description not yet available\"\n",
        "  END AS table_ddl_extracted_description FROM `advanced-analytics-278408.Draft_Data_Model.INFORMATION_SCHEMA.TABLES`) as tc2\n",
        "  \n",
        "  ON tc1.complete_table_id = tc2.unique_table_id    \n",
        "'''\n",
        "\n",
        "#check if table exsist, if not create one and insert data in the new table\n",
        "\n",
        "try:\n",
        "  client.get_table(final_table_id)  # Make an API request.\n",
        "  print(\"Table {} already exists, insert new rows....\".format(final_table_id))\n",
        "\n",
        "  #build query_string\n",
        "  query_string = insert + sql_body + ';'\n",
        "\n",
        "  job = client.query(query_string)\n",
        "  res = job.result()\n",
        "\n",
        "except NotFound:\n",
        "  print(\"Table {} is not found, creating it....\".format(final_table_id))\n",
        "  \n",
        "  #build query_string\n",
        "  query_string = create + sql_body + ');'\n",
        "\n",
        "  job = client.query(query_string)\n",
        "  res = job.result()\n",
        "\n"
      ],
      "metadata": {
        "colab": {
          "base_uri": "https://localhost:8080/"
        },
        "id": "vlAn1DnUD2Bm",
        "outputId": "e4575b51-00c8-4bad-c7bf-9b0a4cf9c0bd"
      },
      "execution_count": null,
      "outputs": [
        {
          "output_type": "stream",
          "name": "stdout",
          "text": [
            "Table advanced-analytics-278408.Draft_Data_Model.9899__pipelines_target_tables_metadata_v2 already exists, insert new rows....\n"
          ]
        }
      ]
    }
  ]
}