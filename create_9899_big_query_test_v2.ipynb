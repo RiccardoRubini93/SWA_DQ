{
  "nbformat": 4,
  "nbformat_minor": 0,
  "metadata": {
    "colab": {
      "provenance": [],
      "authorship_tag": "ABX9TyO4I+YnPob0jADklycH0lHz",
      "include_colab_link": true
    },
    "kernelspec": {
      "name": "python3",
      "display_name": "Python 3"
    },
    "language_info": {
      "name": "python"
    }
  },
  "cells": [
    {
      "cell_type": "markdown",
      "metadata": {
        "id": "view-in-github",
        "colab_type": "text"
      },
      "source": [
        "<a href=\"https://colab.research.google.com/github/RiccardoRubini93/SWA_DQ/blob/main/create_9899_big_query_test_v2.ipynb\" target=\"_parent\"><img src=\"https://colab.research.google.com/assets/colab-badge.svg\" alt=\"Open In Colab\"/></a>"
      ]
    },
    {
      "cell_type": "code",
      "execution_count": 1,
      "metadata": {
        "colab": {
          "base_uri": "https://localhost:8080/"
        },
        "id": "eYIhaz2MkouB",
        "outputId": "75385bb1-767c-492c-ae65-8a7b0b13dc9f"
      },
      "outputs": [
        {
          "output_type": "stream",
          "name": "stdout",
          "text": [
            "Authenticated\n"
          ]
        }
      ],
      "source": [
        "from google.colab import auth\n",
        "auth.authenticate_user()\n",
        "print('Authenticated')"
      ]
    },
    {
      "cell_type": "code",
      "source": [
        "project_id = \"advanced-analytics-278408\"\n",
        "from google.cloud import bigquery\n",
        "client = bigquery.Client(project=project_id)"
      ],
      "metadata": {
        "id": "BXbN-T4ElQ76"
      },
      "execution_count": 2,
      "outputs": []
    },
    {
      "cell_type": "code",
      "source": [
        "#define array on which we need to loop\n",
        "\n",
        "query_schema_list = '''\n",
        "        SELECT\n",
        "        ARRAY_AGG(CONCAT(project_id,\".\", \tdataset_id,\".\",table_id ))  \n",
        "        FROM\n",
        "        advanced-analytics-278408.data__1st_layer.9891__monitoring_information_and_params\n",
        "        WHERE is_to_be_monitored= TRUE\n",
        "        '''\n",
        "\n",
        "schema_list = client.query(query_schema_list).to_dataframe()\n",
        "schema_list.head()"
      ],
      "metadata": {
        "id": "K6vIjpcImO7U"
      },
      "execution_count": null,
      "outputs": []
    },
    {
      "cell_type": "code",
      "source": [
        "query_date_loop = '''\n",
        "        SELECT\n",
        "        ARRAY_AGG(data_loop_field)  \n",
        "        FROM\n",
        "        advanced-analytics-278408.data__1st_layer.9891__monitoring_information_and_params\n",
        "        WHERE is_to_be_monitored= TRUE\n",
        "        '''\n",
        "\n",
        "date_loop_list = client.query(query_date_loop).to_dataframe()\n",
        "date_loop_list.head()"
      ],
      "metadata": {
        "colab": {
          "base_uri": "https://localhost:8080/",
          "height": 80
        },
        "id": "B3UMiw-FtQQ_",
        "outputId": "5434bbde-8361-4de8-f746-2d0aee103c07"
      },
      "execution_count": 6,
      "outputs": [
        {
          "output_type": "execute_result",
          "data": {
            "text/plain": [
              "                                                 f0_\n",
              "0  [analysis_date, order_date, DATE, DATE, DATE, ..."
            ],
            "text/html": [
              "\n",
              "  <div id=\"df-d27bce46-2c88-47a2-a7a5-ca0017632673\">\n",
              "    <div class=\"colab-df-container\">\n",
              "      <div>\n",
              "<style scoped>\n",
              "    .dataframe tbody tr th:only-of-type {\n",
              "        vertical-align: middle;\n",
              "    }\n",
              "\n",
              "    .dataframe tbody tr th {\n",
              "        vertical-align: top;\n",
              "    }\n",
              "\n",
              "    .dataframe thead th {\n",
              "        text-align: right;\n",
              "    }\n",
              "</style>\n",
              "<table border=\"1\" class=\"dataframe\">\n",
              "  <thead>\n",
              "    <tr style=\"text-align: right;\">\n",
              "      <th></th>\n",
              "      <th>f0_</th>\n",
              "    </tr>\n",
              "  </thead>\n",
              "  <tbody>\n",
              "    <tr>\n",
              "      <th>0</th>\n",
              "      <td>[analysis_date, order_date, DATE, DATE, DATE, ...</td>\n",
              "    </tr>\n",
              "  </tbody>\n",
              "</table>\n",
              "</div>\n",
              "      <button class=\"colab-df-convert\" onclick=\"convertToInteractive('df-d27bce46-2c88-47a2-a7a5-ca0017632673')\"\n",
              "              title=\"Convert this dataframe to an interactive table.\"\n",
              "              style=\"display:none;\">\n",
              "        \n",
              "  <svg xmlns=\"http://www.w3.org/2000/svg\" height=\"24px\"viewBox=\"0 0 24 24\"\n",
              "       width=\"24px\">\n",
              "    <path d=\"M0 0h24v24H0V0z\" fill=\"none\"/>\n",
              "    <path d=\"M18.56 5.44l.94 2.06.94-2.06 2.06-.94-2.06-.94-.94-2.06-.94 2.06-2.06.94zm-11 1L8.5 8.5l.94-2.06 2.06-.94-2.06-.94L8.5 2.5l-.94 2.06-2.06.94zm10 10l.94 2.06.94-2.06 2.06-.94-2.06-.94-.94-2.06-.94 2.06-2.06.94z\"/><path d=\"M17.41 7.96l-1.37-1.37c-.4-.4-.92-.59-1.43-.59-.52 0-1.04.2-1.43.59L10.3 9.45l-7.72 7.72c-.78.78-.78 2.05 0 2.83L4 21.41c.39.39.9.59 1.41.59.51 0 1.02-.2 1.41-.59l7.78-7.78 2.81-2.81c.8-.78.8-2.07 0-2.86zM5.41 20L4 18.59l7.72-7.72 1.47 1.35L5.41 20z\"/>\n",
              "  </svg>\n",
              "      </button>\n",
              "      \n",
              "  <style>\n",
              "    .colab-df-container {\n",
              "      display:flex;\n",
              "      flex-wrap:wrap;\n",
              "      gap: 12px;\n",
              "    }\n",
              "\n",
              "    .colab-df-convert {\n",
              "      background-color: #E8F0FE;\n",
              "      border: none;\n",
              "      border-radius: 50%;\n",
              "      cursor: pointer;\n",
              "      display: none;\n",
              "      fill: #1967D2;\n",
              "      height: 32px;\n",
              "      padding: 0 0 0 0;\n",
              "      width: 32px;\n",
              "    }\n",
              "\n",
              "    .colab-df-convert:hover {\n",
              "      background-color: #E2EBFA;\n",
              "      box-shadow: 0px 1px 2px rgba(60, 64, 67, 0.3), 0px 1px 3px 1px rgba(60, 64, 67, 0.15);\n",
              "      fill: #174EA6;\n",
              "    }\n",
              "\n",
              "    [theme=dark] .colab-df-convert {\n",
              "      background-color: #3B4455;\n",
              "      fill: #D2E3FC;\n",
              "    }\n",
              "\n",
              "    [theme=dark] .colab-df-convert:hover {\n",
              "      background-color: #434B5C;\n",
              "      box-shadow: 0px 1px 3px 1px rgba(0, 0, 0, 0.15);\n",
              "      filter: drop-shadow(0px 1px 2px rgba(0, 0, 0, 0.3));\n",
              "      fill: #FFFFFF;\n",
              "    }\n",
              "  </style>\n",
              "\n",
              "      <script>\n",
              "        const buttonEl =\n",
              "          document.querySelector('#df-d27bce46-2c88-47a2-a7a5-ca0017632673 button.colab-df-convert');\n",
              "        buttonEl.style.display =\n",
              "          google.colab.kernel.accessAllowed ? 'block' : 'none';\n",
              "\n",
              "        async function convertToInteractive(key) {\n",
              "          const element = document.querySelector('#df-d27bce46-2c88-47a2-a7a5-ca0017632673');\n",
              "          const dataTable =\n",
              "            await google.colab.kernel.invokeFunction('convertToInteractive',\n",
              "                                                     [key], {});\n",
              "          if (!dataTable) return;\n",
              "\n",
              "          const docLinkHtml = 'Like what you see? Visit the ' +\n",
              "            '<a target=\"_blank\" href=https://colab.research.google.com/notebooks/data_table.ipynb>data table notebook</a>'\n",
              "            + ' to learn more about interactive tables.';\n",
              "          element.innerHTML = '';\n",
              "          dataTable['output_type'] = 'display_data';\n",
              "          await google.colab.output.renderOutput(dataTable, element);\n",
              "          const docLink = document.createElement('div');\n",
              "          docLink.innerHTML = docLinkHtml;\n",
              "          element.appendChild(docLink);\n",
              "        }\n",
              "      </script>\n",
              "    </div>\n",
              "  </div>\n",
              "  "
            ]
          },
          "metadata": {},
          "execution_count": 6
        }
      ]
    },
    {
      "cell_type": "code",
      "source": [
        "query_id_loop = '''\n",
        "        SELECT\n",
        "        ARRAY_AGG(id_field)  \n",
        "        FROM\n",
        "        advanced-analytics-278408.data__1st_layer.9891__monitoring_information_and_params\n",
        "        WHERE is_to_be_monitored= TRUE\n",
        "        '''\n",
        "\n",
        "id_loop_list = client.query(query_id_loop).to_dataframe()\n",
        "id_loop_list.head()"
      ],
      "metadata": {
        "colab": {
          "base_uri": "https://localhost:8080/",
          "height": 80
        },
        "id": "66m3atdctgu2",
        "outputId": "6dd5b13a-ab4a-4e18-97c4-f5977b636946"
      },
      "execution_count": 7,
      "outputs": [
        {
          "output_type": "execute_result",
          "data": {
            "text/plain": [
              "                                                 f0_\n",
              "0  [analysis_date_time, transaction_id, DATE, DAT..."
            ],
            "text/html": [
              "\n",
              "  <div id=\"df-65074782-f3ef-45b1-8150-f10a38bfb360\">\n",
              "    <div class=\"colab-df-container\">\n",
              "      <div>\n",
              "<style scoped>\n",
              "    .dataframe tbody tr th:only-of-type {\n",
              "        vertical-align: middle;\n",
              "    }\n",
              "\n",
              "    .dataframe tbody tr th {\n",
              "        vertical-align: top;\n",
              "    }\n",
              "\n",
              "    .dataframe thead th {\n",
              "        text-align: right;\n",
              "    }\n",
              "</style>\n",
              "<table border=\"1\" class=\"dataframe\">\n",
              "  <thead>\n",
              "    <tr style=\"text-align: right;\">\n",
              "      <th></th>\n",
              "      <th>f0_</th>\n",
              "    </tr>\n",
              "  </thead>\n",
              "  <tbody>\n",
              "    <tr>\n",
              "      <th>0</th>\n",
              "      <td>[analysis_date_time, transaction_id, DATE, DAT...</td>\n",
              "    </tr>\n",
              "  </tbody>\n",
              "</table>\n",
              "</div>\n",
              "      <button class=\"colab-df-convert\" onclick=\"convertToInteractive('df-65074782-f3ef-45b1-8150-f10a38bfb360')\"\n",
              "              title=\"Convert this dataframe to an interactive table.\"\n",
              "              style=\"display:none;\">\n",
              "        \n",
              "  <svg xmlns=\"http://www.w3.org/2000/svg\" height=\"24px\"viewBox=\"0 0 24 24\"\n",
              "       width=\"24px\">\n",
              "    <path d=\"M0 0h24v24H0V0z\" fill=\"none\"/>\n",
              "    <path d=\"M18.56 5.44l.94 2.06.94-2.06 2.06-.94-2.06-.94-.94-2.06-.94 2.06-2.06.94zm-11 1L8.5 8.5l.94-2.06 2.06-.94-2.06-.94L8.5 2.5l-.94 2.06-2.06.94zm10 10l.94 2.06.94-2.06 2.06-.94-2.06-.94-.94-2.06-.94 2.06-2.06.94z\"/><path d=\"M17.41 7.96l-1.37-1.37c-.4-.4-.92-.59-1.43-.59-.52 0-1.04.2-1.43.59L10.3 9.45l-7.72 7.72c-.78.78-.78 2.05 0 2.83L4 21.41c.39.39.9.59 1.41.59.51 0 1.02-.2 1.41-.59l7.78-7.78 2.81-2.81c.8-.78.8-2.07 0-2.86zM5.41 20L4 18.59l7.72-7.72 1.47 1.35L5.41 20z\"/>\n",
              "  </svg>\n",
              "      </button>\n",
              "      \n",
              "  <style>\n",
              "    .colab-df-container {\n",
              "      display:flex;\n",
              "      flex-wrap:wrap;\n",
              "      gap: 12px;\n",
              "    }\n",
              "\n",
              "    .colab-df-convert {\n",
              "      background-color: #E8F0FE;\n",
              "      border: none;\n",
              "      border-radius: 50%;\n",
              "      cursor: pointer;\n",
              "      display: none;\n",
              "      fill: #1967D2;\n",
              "      height: 32px;\n",
              "      padding: 0 0 0 0;\n",
              "      width: 32px;\n",
              "    }\n",
              "\n",
              "    .colab-df-convert:hover {\n",
              "      background-color: #E2EBFA;\n",
              "      box-shadow: 0px 1px 2px rgba(60, 64, 67, 0.3), 0px 1px 3px 1px rgba(60, 64, 67, 0.15);\n",
              "      fill: #174EA6;\n",
              "    }\n",
              "\n",
              "    [theme=dark] .colab-df-convert {\n",
              "      background-color: #3B4455;\n",
              "      fill: #D2E3FC;\n",
              "    }\n",
              "\n",
              "    [theme=dark] .colab-df-convert:hover {\n",
              "      background-color: #434B5C;\n",
              "      box-shadow: 0px 1px 3px 1px rgba(0, 0, 0, 0.15);\n",
              "      filter: drop-shadow(0px 1px 2px rgba(0, 0, 0, 0.3));\n",
              "      fill: #FFFFFF;\n",
              "    }\n",
              "  </style>\n",
              "\n",
              "      <script>\n",
              "        const buttonEl =\n",
              "          document.querySelector('#df-65074782-f3ef-45b1-8150-f10a38bfb360 button.colab-df-convert');\n",
              "        buttonEl.style.display =\n",
              "          google.colab.kernel.accessAllowed ? 'block' : 'none';\n",
              "\n",
              "        async function convertToInteractive(key) {\n",
              "          const element = document.querySelector('#df-65074782-f3ef-45b1-8150-f10a38bfb360');\n",
              "          const dataTable =\n",
              "            await google.colab.kernel.invokeFunction('convertToInteractive',\n",
              "                                                     [key], {});\n",
              "          if (!dataTable) return;\n",
              "\n",
              "          const docLinkHtml = 'Like what you see? Visit the ' +\n",
              "            '<a target=\"_blank\" href=https://colab.research.google.com/notebooks/data_table.ipynb>data table notebook</a>'\n",
              "            + ' to learn more about interactive tables.';\n",
              "          element.innerHTML = '';\n",
              "          dataTable['output_type'] = 'display_data';\n",
              "          await google.colab.output.renderOutput(dataTable, element);\n",
              "          const docLink = document.createElement('div');\n",
              "          docLink.innerHTML = docLinkHtml;\n",
              "          element.appendChild(docLink);\n",
              "        }\n",
              "      </script>\n",
              "    </div>\n",
              "  </div>\n",
              "  "
            ]
          },
          "metadata": {},
          "execution_count": 7
        }
      ]
    },
    {
      "cell_type": "code",
      "source": [
        "#check if table exist \n",
        "\n",
        "from google.cloud.exceptions import NotFound\n",
        "\n",
        "table_id = \"advanced-analytics-278408.user__rubini_riccardo.9899_big_query_test_v3\"\n",
        "\n",
        "try:\n",
        "    client.get_table(table_id)  # Make an API request.\n",
        "    print(\"Table {} already exists.\".format(table_id))\n",
        "except NotFound:\n",
        "    print(\"Table {} is not found.\".format(table_id))"
      ],
      "metadata": {
        "colab": {
          "base_uri": "https://localhost:8080/"
        },
        "id": "NHOwrnU5AAnM",
        "outputId": "5d9f85a2-4160-452f-923f-d1fd323337d5"
      },
      "execution_count": 45,
      "outputs": [
        {
          "output_type": "stream",
          "name": "stdout",
          "text": [
            "Table advanced-analytics-278408.user__rubini_riccardo.9899_big_query_test_v3 is not found.\n"
          ]
        }
      ]
    },
    {
      "cell_type": "code",
      "source": [
        "#create the initial table where to append the new data to\n",
        "\n",
        "from google.cloud.exceptions import NotFound\n",
        "\n",
        "table_id = \"advanced-analytics-278408.user__rubini_riccardo.9899_big_query_test_v3\"\n",
        "\n",
        "try:\n",
        "  client.get_table(table_id)  # Make an API request.\n",
        "  print(\"Table {} already exists.\".format(table_id))\n",
        "\n",
        "except NotFound:\n",
        "  print(\"Table {} is not found, creating it....\".format(table_id))\n",
        "  query_create_statement = f'''\n",
        "              create table {table_id} as (\n",
        "                select t1.*, t2.* FROM (with temp_tb as (select 'advanced-analytics-278408.data__1st_layer.9899__pipelines_target_tables_metadata' as full_table_id ,CAST(analysis_date as STRING) as order_date, count(distinct(analysis_date_time)) as transaction_id_cnt,count(*) as cnt FROM advanced-analytics-278408.data__1st_layer.9899__pipelines_target_tables_metadata group by analysis_date order by order_date desc ), aggregated_table as ( select full_table_id, array_agg(struct(order_date,transaction_id_cnt,cnt)) as day_list FROM temp_tb group by full_table_id), master_tb as (SELECT 'advanced-analytics-278408.data__1st_layer.9899__pipelines_target_tables_metadata' as full_table_id , count(*) as total_rows, CAST(min(analysis_date) AS STRING) as min_date, CAST(max(analysis_date) AS STRING) as max_date, count(distinct analysis_date_time) as id_distinct_count FROM advanced-analytics-278408.data__1st_layer.9899__pipelines_target_tables_metadata) select t1.full_table_id,t2.min_date,t2.max_date,t2.id_distinct_count,t2.total_rows,t1.day_list FROM aggregated_table t1 join master_tb t2 on (t1.full_table_id = t2.full_table_id)) AS t1 JOIN `advanced-analytics-278408.data__1st_layer.9891__monitoring_information_and_params` as t2 on t1.full_table_id = t2.complete_table_id\n",
        "              ); \n",
        "  '''\n",
        "  create_table_9899 = client.query(query_create_statement)\n",
        "  rows = create_table_9899.result()\n"
      ],
      "metadata": {
        "colab": {
          "base_uri": "https://localhost:8080/"
        },
        "id": "CmoPH4JotIVy",
        "outputId": "128c0b00-5acf-4f99-e9b0-8cb4df07e9d3"
      },
      "execution_count": 57,
      "outputs": [
        {
          "output_type": "stream",
          "name": "stdout",
          "text": [
            "Table advanced-analytics-278408.user__rubini_riccardo.9899_big_query_test_v3 is not found, creating it....\n"
          ]
        }
      ]
    },
    {
      "cell_type": "code",
      "source": [
        "print(schema_list.values[0][0][1])\n",
        "print(date_loop_list.values[0][0][1])\n",
        "print(id_loop_list.values[0][0][1])"
      ],
      "metadata": {
        "colab": {
          "base_uri": "https://localhost:8080/"
        },
        "id": "JcU1QSRNvOHP",
        "outputId": "3566175e-63b1-4e0f-f0df-368ec11e800e"
      },
      "execution_count": 21,
      "outputs": [
        {
          "output_type": "stream",
          "name": "stdout",
          "text": [
            "advanced-analytics-278408.data__1st_layer.0005__customer_transactions_online_eur\n",
            "order_date\n",
            "transaction_id\n"
          ]
        }
      ]
    },
    {
      "cell_type": "code",
      "source": [
        "#assemle test string to perform insert\n",
        "\n",
        "string = f'''\n",
        "select t1.*, t2.* FROM (with temp_tb as (select '{schema_list.values[0][0][1]}' as full_table_id ,\n",
        "CAST({date_loop_list.values[0][0][1]} as STRING) as order_date, \n",
        "count(distinct({id_loop_list.values[0][0][1]})) as transaction_id_cnt,\n",
        "count(*) as cnt FROM {schema_list.values[0][0][1]} group by {date_loop_list.values[0][0][1]} order by {date_loop_list.values[0][0][1]} limit 100), \n",
        "aggregated_table as ( select  full_table_id, array_agg(struct(order_date,transaction_id_cnt,cnt)) as day_list FROM  temp_tb  group by full_table_id), \n",
        "master_tb as (SELECT '{schema_list.values[0][0][1]}' as full_table_id , count(*) as total_rows, CAST(min({date_loop_list.values[0][0][1]}) AS STRING) as min_date, \n",
        "CAST(max({date_loop_list.values[0][0][1]}) AS STRING) as max_date, count(distinct {id_loop_list.values[0][0][1]}) as id_distinct_count \n",
        "FROM {schema_list.values[0][0][1]}) select t1.full_table_id,t2.min_date,t2.max_date,t2.id_distinct_count,t2.total_rows,t1.day_list \n",
        "FROM aggregated_table t1 join master_tb t2 on (t1.full_table_id = t2.full_table_id)) AS t1 \n",
        "JOIN  `advanced-analytics-278408.data__1st_layer.9891__monitoring_information_and_params` as t2 \n",
        "on t1.full_table_id = t2.complete_table_id;\n",
        "'''\n",
        "\n",
        "insert_string = 'insert into `advanced-analytics-278408.user__rubini_riccardo.9899_big_query_test_v3`' + string\n",
        "\n",
        "print(insert_string)\n",
        "\n",
        "insert_test_job = client.query(insert_string)"
      ],
      "metadata": {
        "colab": {
          "base_uri": "https://localhost:8080/"
        },
        "id": "BCd25ybCwB6a",
        "outputId": "6e59302b-dbb2-418e-b5b7-acbf108442c2"
      },
      "execution_count": 41,
      "outputs": [
        {
          "output_type": "stream",
          "name": "stdout",
          "text": [
            "insert into `advanced-analytics-278408.user__rubini_riccardo.9899_big_query_test_v3`\n",
            "select t1.*, t2.* FROM (with temp_tb as (select 'advanced-analytics-278408.data__1st_layer.0005__customer_transactions_online_eur' as full_table_id ,\n",
            "CAST(order_date as STRING) as order_date, \n",
            "count(distinct(transaction_id)) as transaction_id_cnt,\n",
            "count(*) as cnt FROM advanced-analytics-278408.data__1st_layer.0005__customer_transactions_online_eur group by order_date order by order_date limit 100), \n",
            "aggregated_table as ( select  full_table_id, array_agg(struct(order_date,transaction_id_cnt,cnt)) as day_list FROM  temp_tb  group by full_table_id), \n",
            "master_tb as (SELECT 'advanced-analytics-278408.data__1st_layer.0005__customer_transactions_online_eur' as full_table_id , count(*) as total_rows, CAST(min(order_date) AS STRING) as min_date, \n",
            "CAST(max(order_date) AS STRING) as max_date, count(distinct transaction_id) as id_distinct_count \n",
            "FROM advanced-analytics-278408.data__1st_layer.0005__customer_transactions_online_eur) select t1.full_table_id,t2.min_date,t2.max_date,t2.id_distinct_count,t2.total_rows,t1.day_list \n",
            "FROM aggregated_table t1 join master_tb t2 on (t1.full_table_id = t2.full_table_id)) AS t1 \n",
            "JOIN  `advanced-analytics-278408.data__1st_layer.9891__monitoring_information_and_params` as t2 \n",
            "on t1.full_table_id = t2.complete_table_id;\n",
            "\n"
          ]
        }
      ]
    },
    {
      "cell_type": "code",
      "source": [
        "#loop over the lists previously defined to append the new columns\n",
        "\n",
        "N = schema_list.values[0][0].shape[0]\n",
        "history_limit = 200\n",
        "\n",
        "for i in range(1,N):\n",
        "\n",
        "  print(f\"Step : {i} -- Writing info for : {schema_list.values[0][0][i]}\" )\n",
        "\n",
        "  string = f'''\n",
        "          select t1.*, t2.* FROM (with temp_tb as (select '{schema_list.values[0][0][i]}' as full_table_id ,\n",
        "          CAST({date_loop_list.values[0][0][i]} as STRING) as order_date, \n",
        "          count(distinct({id_loop_list.values[0][0][i]})) as transaction_id_cnt,\n",
        "          count(*) as cnt FROM {schema_list.values[0][0][i]} group by {date_loop_list.values[0][0][i]} order by {date_loop_list.values[0][0][i]} desc limit {history_limit}), \n",
        "          aggregated_table as ( select  full_table_id, array_agg(struct(order_date,transaction_id_cnt,cnt)) as day_list FROM  temp_tb  group by full_table_id), \n",
        "          master_tb as (SELECT '{schema_list.values[0][0][i]}' as full_table_id , count(*) as total_rows, CAST(min({date_loop_list.values[0][0][i]}) AS STRING) as min_date, \n",
        "          CAST(max({date_loop_list.values[0][0][i]}) AS STRING) as max_date, count(distinct {id_loop_list.values[0][0][i]}) as id_distinct_count \n",
        "          FROM {schema_list.values[0][0][i]}) select t1.full_table_id,t2.min_date,t2.max_date,t2.id_distinct_count,t2.total_rows,t1.day_list \n",
        "          FROM aggregated_table t1 join master_tb t2 on (t1.full_table_id = t2.full_table_id)) AS t1 \n",
        "          JOIN  `advanced-analytics-278408.data__1st_layer.9891__monitoring_information_and_params` as t2 \n",
        "          on t1.full_table_id = t2.complete_table_id;\n",
        "          '''\n",
        "  insert_string = 'insert into `advanced-analytics-278408.user__rubini_riccardo.9899_big_query_test_v3`' + string\n",
        "\n",
        "  insert_test_job = client.query(insert_string)\n",
        "  rows = insert_test_job.result()\n",
        "  \n",
        "    "
      ],
      "metadata": {
        "colab": {
          "base_uri": "https://localhost:8080/"
        },
        "id": "5Nl6tAAuuYix",
        "outputId": "2aacc0d7-bb00-4c13-90c8-5313b97de095"
      },
      "execution_count": 58,
      "outputs": [
        {
          "output_type": "stream",
          "name": "stdout",
          "text": [
            "Step : 1 -- Writing info for : advanced-analytics-278408.data__1st_layer.0005__customer_transactions_online_eur\n",
            "Step : 2 -- Writing info for : advanced-analytics-278408.Draft_Data_Model.0004__v3__traffic_transaction_adj\n",
            "Step : 3 -- Writing info for : advanced-analytics-278408.Draft_Data_Model.0006__cogs\n",
            "Step : 4 -- Writing info for : advanced-analytics-278408.Draft_Data_Model.0019__cogs_csl\n",
            "Step : 5 -- Writing info for : advanced-analytics-278408.Draft_Data_Model.0003__v4__store_master\n",
            "Step : 6 -- Writing info for : advanced-analytics-278408.Draft_Data_Model.0015__returns\n",
            "Step : 7 -- Writing info for : advanced-analytics-278408.Draft_Data_Model.0014__repairs\n",
            "Step : 8 -- Writing info for : advanced-analytics-278408.Draft_Data_Model.0005__online_sales_hist\n",
            "Step : 9 -- Writing info for : advanced-analytics-278408.Draft_Data_Model.0016__hr_learning\n",
            "Step : 10 -- Writing info for : advanced-analytics-278408.Draft_Data_Model.0017__retail_profit_loss\n",
            "Step : 11 -- Writing info for : advanced-analytics-278408.Draft_Data_Model.0018__capex\n",
            "Step : 12 -- Writing info for : advanced-analytics-278408.Draft_Data_Model.0021__esri_transaction\n",
            "Step : 13 -- Writing info for : advanced-analytics-278408.Draft_Data_Model.7201__daily_visit_count\n",
            "Step : 14 -- Writing info for : advanced-analytics-278408.Draft_Data_Model.7202__common_evening_location\n",
            "Step : 15 -- Writing info for : advanced-analytics-278408.Draft_Data_Model.7203__common_day_location\n",
            "Step : 16 -- Writing info for : advanced-analytics-278408.Draft_Data_Model.0002__product_master\n",
            "Step : 17 -- Writing info for : advanced-analytics-278408.Draft_Data_Model.0001__transactions\n",
            "Step : 18 -- Writing info for : advanced-analytics-278408.Draft_Data_Model.0028__net_sales_report\n",
            "Step : 19 -- Writing info for : advanced-analytics-278408.Draft_Data_Model.0032__profit_and_loss_fr_hier\n",
            "Step : 20 -- Writing info for : advanced-analytics-278408.Draft_Data_Model.0032__proift_and_loss_fr_exploration\n",
            "Step : 21 -- Writing info for : advanced-analytics-278408.Draft_Data_Model.0201__crm_main\n",
            "Step : 22 -- Writing info for : advanced-analytics-278408.Draft_Data_Model.0202__crm_id\n",
            "Step : 23 -- Writing info for : advanced-analytics-278408.Draft_Data_Model.0203__crm_loy\n",
            "Step : 24 -- Writing info for : advanced-analytics-278408.Draft_Data_Model.0204__crm_cards\n",
            "Step : 25 -- Writing info for : advanced-analytics-278408.Draft_Data_Model.0205__crm_attr\n",
            "Step : 26 -- Writing info for : advanced-analytics-278408.Draft_Data_Model.0207__crm_tier\n",
            "Step : 27 -- Writing info for : advanced-analytics-278408.Draft_Data_Model.1001__crm_interactions\n",
            "Step : 28 -- Writing info for : advanced-analytics-278408.Draft_Data_Model.1002__crm_interaction_campaigns\n",
            "Step : 29 -- Writing info for : advanced-analytics-278408.Draft_Data_Model.1003__crm_interaction_content\n",
            "Step : 30 -- Writing info for : advanced-analytics-278408.Draft_Data_Model.1004__crm_interaction_target_groups\n",
            "Step : 31 -- Writing info for : advanced-analytics-278408.Draft_Data_Model.1005__crm_interaction_summary\n",
            "Step : 32 -- Writing info for : advanced-analytics-278408.Draft_Data_Model.1901__workday_export\n",
            "Step : 33 -- Writing info for : advanced-analytics-278408.Draft_Data_Model.2504__digital_shelves_tracking\n",
            "Step : 34 -- Writing info for : advanced-analytics-278408.Draft_Data_Model.5004__ad_payment\n",
            "Step : 35 -- Writing info for : advanced-analytics-278408.Draft_Data_Model.6004__mm_eyeota\n",
            "Step : 36 -- Writing info for : advanced-analytics-278408.Draft_Data_Model.9001__emotion_cat\n",
            "Step : 37 -- Writing info for : advanced-analytics-278408.Draft_Data_Model.9002__negative_postings\n",
            "Step : 38 -- Writing info for : advanced-analytics-278408.Draft_Data_Model.9003__reach\n",
            "Step : 39 -- Writing info for : advanced-analytics-278408.Draft_Data_Model.9004__prevalent_emotions\n",
            "Step : 40 -- Writing info for : advanced-analytics-278408.Draft_Data_Model.9005__sentiment_trend\n",
            "Step : 41 -- Writing info for : advanced-analytics-278408.Draft_Data_Model.9006__top_neg_terms\n",
            "Step : 42 -- Writing info for : advanced-analytics-278408.Draft_Data_Model.9007__brand_overall_engagement\n",
            "Step : 43 -- Writing info for : advanced-analytics-278408.Draft_Data_Model.9008__brand_earned_engagement\n",
            "Step : 44 -- Writing info for : advanced-analytics-278408.Draft_Data_Model.9009__brand_owned_engagement\n",
            "Step : 45 -- Writing info for : advanced-analytics-278408.Draft_Data_Model.9010__brand_mentions\n",
            "Step : 46 -- Writing info for : advanced-analytics-278408.Draft_Data_Model.9011__product_overall_engagement\n",
            "Step : 47 -- Writing info for : advanced-analytics-278408.Draft_Data_Model.9012__product_earned_engagement\n",
            "Step : 48 -- Writing info for : advanced-analytics-278408.Draft_Data_Model.9013__product_owned_engagement\n",
            "Step : 49 -- Writing info for : advanced-analytics-278408.Draft_Data_Model.9014__product_mentions\n"
          ]
        }
      ]
    },
    {
      "cell_type": "code",
      "source": [
        "#evolutives cells\n",
        "#compute field info and join to the other table\n",
        "\n",
        "query1 = '''\n",
        "create or replace table `advanced-analytics-278408.user__rubini_riccardo.9899_column_info` as (\n",
        "SELECT \n",
        "concat(t1.table_catalog,'.',t1.table_schema,'.',t1.table_name) as full_table_id , array_agg(struct(t2.ordinal_position,t1.column_name,t1.data_type,t1.description)) as fields\n",
        "FROM `advanced-analytics-278408.data__1st_layer.INFORMATION_SCHEMA.COLUMN_FIELD_PATHS` as t1\n",
        "INNER JOIN \n",
        "advanced-analytics-278408.data__1st_layer.INFORMATION_SCHEMA.COLUMNS as t2\n",
        "ON (concat(t1.table_catalog,'.',t1.table_schema,'.',t1.table_name) = concat(t2.table_catalog,'.',t2.table_schema,'.',t2.table_name))\n",
        "AND (t1.column_name = t2.column_name)\n",
        "group by concat(t1.table_catalog,'.',t1.table_schema,'.',t1.table_name)\n",
        ");\n",
        "'''\n",
        "\n",
        "#join to the other table\n",
        "\n",
        "query2 = '''\n",
        "select t1.*,t2.fields\n",
        "from advanced-analytics-278408.user__rubini_riccardo.9899_big_query_test_v3 as t1\n",
        "inner join advanced-analytics-278408.user__rubini_riccardo.9899_column_info as t2\n",
        "on (t1.full_table_id = t2.full_table_id)\n",
        "'''\n",
        "\n",
        "\n",
        "#query this table to get info about labels \"advanced-analytics-278408.data__1st_layer.INFORMATION_SCHEMA.TABLE_OPTIONS\"\n",
        "\n",
        "#query to compute how many fields have the description need to join this with the final table 9899\n",
        "\n",
        "query_count = '''\n",
        "          select \n",
        "          concat(table_catalog,'.',table_schema,'.',table_name), \n",
        "          sum(case when description is not null then 1 else 0 end) as described_fields_count \n",
        "          from advanced-analytics-278408.data__1st_layer.INFORMATION_SCHEMA.COLUMN_FIELD_PATHS\n",
        "          group by concat(table_catalog,'.',table_schema,'.',table_name);\n",
        "'''"
      ],
      "metadata": {
        "id": "KhQA3vaa-Md8"
      },
      "execution_count": null,
      "outputs": []
    },
    {
      "cell_type": "code",
      "source": [
        "#join the newly created table with the metadata in the master \n",
        "#insert table into advanced-analytics-278408.data__1st_layer.9899__pipelines_target_tables_metadata\n",
        "\n",
        "final_table_id = 'advanced-analytics-278408.Draft_Data_Model.9899__pipelines_target_tables_metadata_v2'\n",
        "\n",
        "#define prefix to distinguish whether the table exist already or not\n",
        "\n",
        "insert = f'insert into {final_table_id}'\n",
        "create = f'create table {final_table_id} as  ('\n",
        "\n",
        "#define query to be run to populate the table\n",
        "\n",
        "sql_body = '''\n",
        "    select tc1.*, tc2.ddl, tc2.table_ddl_extracted_description\n",
        "\n",
        "FROM \n",
        "\n",
        "(select  t_meta_table.*, min_date, max_date, \t\n",
        "--id_distinct_count, \n",
        "t_meta_topic.day_list,\n",
        "complete_table_id, table_code, is_to_be_monitored, current_development_status, current_development_status_id, source_system_id, source_system_name, source_system_ownership_type, extraction_tool, extraction_script, extraction_is_scheduled, extraction_schedule_pattern, landing_zone, landing_zone_path, landing_zone_form, loading_tool, load_script, load_is_scheduled, load_schedule_pattern, load_form, is_dx_framework_applied, id_field, data_loop_field, data_loop_granularity, overall_documentation_URL, to_do_pending, notes \n",
        "\n",
        "from\n",
        "\n",
        "(SELECT CURRENT_DATE() AS analysis_date, CURRENT_DATETIME()AS analysis_date_time, project_id,   dataset_id,   table_id,   TIMESTAMP_MILLIS(creation_time) AS creation_datetime, TIMESTAMP_MILLIS(last_modified_time) AS last_modified_datetime,  column_count, row_count,      size_bytes, ROUND((size_bytes)/pow(10,6),2) as size_megabytes, ROUND((size_bytes)/pow(10,9),2) as size_gigabytes  , type AS table_type\n",
        "\n",
        "FROM (Select * FROM advanced-analytics-278408.Draft_Data_Model.__TABLES__ UNION ALL Select * FROM advanced-analytics-278408.data__1st_layer.__TABLES__) as t1\n",
        "\n",
        "JOIN (SELECT table_catalog,     table_schema,   table_name, max(ordinal_position) as column_count\n",
        "FROM  (Select * FROM `advanced-analytics-278408.Draft_Data_Model.INFORMATION_SCHEMA.COLUMNS` UNION ALL Select * FROM `advanced-analytics-278408.data__1st_layer.INFORMATION_SCHEMA.COLUMNS`) \n",
        "\n",
        "group by table_catalog,     table_schema,   table_name) as t2\n",
        "\n",
        "on t1.table_id = t2.table_name) as t_meta_table\n",
        "\n",
        "\n",
        "JOIN (SELECT * from advanced-analytics-278408.user__rubini_riccardo.9899_big_query_test_v3 ) as t_meta_topic\n",
        "\n",
        "on CONCAT(t_meta_table.project_id,\".\", \tt_meta_table.dataset_id,\".\",t_meta_table.table_id) = t_meta_topic.full_table_id\n",
        "\n",
        "\n",
        "order by table_id) as tc1 LEFT JOIN\n",
        "\n",
        "\n",
        "(SELECT CONCAT(table_catalog,\".\", table_schema,\".\", table_name) as unique_table_id, creation_time, ddl, CASE WHEN ddl like CONCAT(\"%)\",\"\",\"OPTIONS(\",\"\",\"  description=%\") THEN\n",
        "SPLIT(ddl, CONCAT(\")\",\"\",\"OPTIONS(\",\"\",\"  description=\"))[SAFE_OFFSET(ARRAY_LENGTH(SPLIT(ddl, CONCAT(\")\",\"\",\"OPTIONS(\",\"\",\"  description=\"))) - 1)]\n",
        "  ELSE \"Description not yet available\"\n",
        "  END AS table_ddl_extracted_description FROM `advanced-analytics-278408.data__1st_layer.INFORMATION_SCHEMA.TABLES`\n",
        "\n",
        "  union all\n",
        "  \n",
        "SELECT CONCAT(table_catalog,\".\", table_schema,\".\", table_name) as unique_table_id, creation_time, ddl, CASE WHEN ddl like CONCAT(\"%)\",\"\",\"OPTIONS(\",\"\",\"  description=%\") THEN\n",
        "SPLIT(ddl, CONCAT(\")\",\"\",\"OPTIONS(\",\"\",\"  description=\"))[SAFE_OFFSET(ARRAY_LENGTH(SPLIT(ddl, CONCAT(\")\",\"\",\"OPTIONS(\",\"\",\"  description=\"))) - 1)]\n",
        "  ELSE \"Description not yet available\"\n",
        "  END AS table_ddl_extracted_description FROM `advanced-analytics-278408.Draft_Data_Model.INFORMATION_SCHEMA.TABLES`) as tc2\n",
        "  \n",
        "  ON tc1.complete_table_id = tc2.unique_table_id    \n",
        "'''\n",
        "\n",
        "#check if table exsist, if not create one else insert data in the new table\n",
        "\n",
        "try:\n",
        "  client.get_table(final_table_id)  # Make an API request.\n",
        "  print(\"Table {} already exists, insert new rows....\".format(final_table_id))\n",
        "\n",
        "  #build query_string\n",
        "  query_string = insert + sql_body + ';'\n",
        "\n",
        "  job = client.query(query_string)\n",
        "  res = job.result()\n",
        "\n",
        "except NotFound:\n",
        "  print(\"Table {} is not found, creating it....\".format(final_table_id))\n",
        "  \n",
        "  #build query_string\n",
        "  query_string = create + sql_body + ');'\n",
        "\n",
        "  job = client.query(query_string)\n",
        "  res = job.result()\n",
        "\n"
      ],
      "metadata": {
        "colab": {
          "base_uri": "https://localhost:8080/"
        },
        "id": "vlAn1DnUD2Bm",
        "outputId": "e4575b51-00c8-4bad-c7bf-9b0a4cf9c0bd"
      },
      "execution_count": 59,
      "outputs": [
        {
          "output_type": "stream",
          "name": "stdout",
          "text": [
            "Table advanced-analytics-278408.Draft_Data_Model.9899__pipelines_target_tables_metadata_v2 already exists, insert new rows....\n"
          ]
        }
      ]
    }
  ]
}