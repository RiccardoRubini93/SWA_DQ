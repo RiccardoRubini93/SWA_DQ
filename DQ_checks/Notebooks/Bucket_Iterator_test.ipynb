{
  "nbformat": 4,
  "nbformat_minor": 0,
  "metadata": {
    "colab": {
      "provenance": []
    },
    "kernelspec": {
      "name": "python3",
      "display_name": "Python 3"
    },
    "language_info": {
      "name": "python"
    }
  },
  "cells": [
    {
      "cell_type": "code",
      "execution_count": 1,
      "metadata": {
        "id": "80R4dnrRFSM5"
      },
      "outputs": [],
      "source": [
        "from google.api_core import page_iterator\n",
        "from google.cloud import storage"
      ]
    },
    {
      "cell_type": "code",
      "source": [
        "from google.colab import auth\n",
        "auth.authenticate_user()\n",
        "print('Authenticated')"
      ],
      "metadata": {
        "colab": {
          "base_uri": "https://localhost:8080/"
        },
        "id": "9Rv3mSdVJ55o",
        "outputId": "5a1623f3-2536-4e1c-8016-5a59e205a6e6"
      },
      "execution_count": 4,
      "outputs": [
        {
          "output_type": "stream",
          "name": "stdout",
          "text": [
            "Authenticated\n"
          ]
        }
      ]
    },
    {
      "cell_type": "code",
      "source": [
        "def _item_to_value(iterator, item):\n",
        "    return item\n",
        "\n",
        "def list_directories(bucket_name, prefix):\n",
        "    if prefix and not prefix.endswith('/'):\n",
        "        prefix += '/'\n",
        "\n",
        "    extra_params = {\n",
        "        \"projection\": \"noAcl\",\n",
        "        \"prefix\": prefix,\n",
        "        \"delimiter\": '/'\n",
        "    }\n",
        "\n",
        "    gcs = storage.Client()\n",
        "\n",
        "    path = \"/b/\" + bucket_name + \"/o\"\n",
        "\n",
        "    iterator = page_iterator.HTTPIterator(\n",
        "        client=gcs,\n",
        "        api_request=gcs._connection.api_request,\n",
        "        path=path,\n",
        "        items_key='prefixes',\n",
        "        item_to_value=_item_to_value,\n",
        "        extra_params=extra_params,\n",
        "    )\n",
        "\n",
        "    return [x for x in iterator]"
      ],
      "metadata": {
        "id": "dbCXTx5pJWh8"
      },
      "execution_count": 5,
      "outputs": []
    },
    {
      "cell_type": "code",
      "source": [
        "#prefix = 'raw/18_qudini/1801'\n",
        "#test with adyen that I know to be wrong \n",
        "prefix = 'raw/50_adyen/5004__ad_payment'\n",
        "\n",
        "dir_list = list_directories('swarovski-advanced-analytics-data-ingestion-prod', prefix)\n",
        "dir_list"
      ],
      "metadata": {
        "colab": {
          "base_uri": "https://localhost:8080/"
        },
        "id": "RJ4WFHMJJivH",
        "outputId": "9752f514-7945-4598-d8fb-49c6c46cc6d3"
      },
      "execution_count": 13,
      "outputs": [
        {
          "output_type": "execute_result",
          "data": {
            "text/plain": [
              "['raw/50_adyen/5004__ad_payment/5004/',\n",
              " 'raw/50_adyen/5004__ad_payment/v1/',\n",
              " 'raw/50_adyen/5004__ad_payment/v2/',\n",
              " 'raw/50_adyen/5004__ad_payment/v2_backfill/']"
            ]
          },
          "metadata": {},
          "execution_count": 13
        }
      ]
    },
    {
      "cell_type": "code",
      "source": [
        "for item in dir_list:\n",
        "  dir_list_v2 = list_directories('swarovski-advanced-analytics-data-ingestion-prod',item)\n",
        "  print(dir_list_v2)"
      ],
      "metadata": {
        "colab": {
          "base_uri": "https://localhost:8080/"
        },
        "id": "tEkY19fKKLV2",
        "outputId": "3e2537f7-d025-4c87-e885-9f558cc29aca"
      },
      "execution_count": 14,
      "outputs": [
        {
          "output_type": "stream",
          "name": "stdout",
          "text": [
            "['raw/50_adyen/5004__ad_payment/5004/v1/']\n",
            "['raw/50_adyen/5004__ad_payment/v1/2021/', 'raw/50_adyen/5004__ad_payment/v1/2022/', 'raw/50_adyen/5004__ad_payment/v1/v1/']\n",
            "['raw/50_adyen/5004__ad_payment/v2/2022/']\n",
            "['raw/50_adyen/5004__ad_payment/v2_backfill/2022/', 'raw/50_adyen/5004__ad_payment/v2_backfill/202205/', 'raw/50_adyen/5004__ad_payment/v2_backfill/202206/', 'raw/50_adyen/5004__ad_payment/v2_backfill/202207/', 'raw/50_adyen/5004__ad_payment/v2_backfill/202208/', 'raw/50_adyen/5004__ad_payment/v2_backfill/202209/']\n"
          ]
        }
      ]
    },
    {
      "cell_type": "code",
      "source": [
        "#the function works, we can now implement the check that for each string checks whether the correct path is present \n",
        "#the expected path for each subfolder is the following \n",
        "# data_type/source_system/pipeline_code/version/year\n",
        "\n",
        "#first we define bucket and pipeline to check\n",
        "\n",
        "bucket = 'swarovski-advanced-analytics-data-ingestion-prod'\n",
        "prefix = 'raw/50_adyen/5004__ad_payment/v1/' \n",
        "\n",
        "dir_list = list_directories(bucket,prefix)\n",
        "dir_list"
      ],
      "metadata": {
        "colab": {
          "base_uri": "https://localhost:8080/"
        },
        "id": "ioIDg5yaS48I",
        "outputId": "401d2dd2-eef5-44dc-fc3a-81c3e5e4fd59"
      },
      "execution_count": 28,
      "outputs": [
        {
          "output_type": "execute_result",
          "data": {
            "text/plain": [
              "['raw/50_adyen/5004__ad_payment/v1/2021/',\n",
              " 'raw/50_adyen/5004__ad_payment/v1/2022/',\n",
              " 'raw/50_adyen/5004__ad_payment/v1/v1/']"
            ]
          },
          "metadata": {},
          "execution_count": 28
        }
      ]
    },
    {
      "cell_type": "code",
      "source": [
        "for dir_ in dir_list: \n",
        "\n",
        "  dir_split = dir_.split('/')\n",
        "  print(dir_split[-2])\n",
        "  if dir_split[-2] in ('2020','2021','2022'):\n",
        "    is_policy_respected = True\n",
        "  else: is_policy_respected = False\n",
        "  print(is_policy_respected)"
      ],
      "metadata": {
        "colab": {
          "base_uri": "https://localhost:8080/"
        },
        "id": "zIsc0mn1UCcy",
        "outputId": "8aef89c1-cfc6-425d-dc9c-9161a211dde4"
      },
      "execution_count": 32,
      "outputs": [
        {
          "output_type": "stream",
          "name": "stdout",
          "text": [
            "2021\n",
            "True\n",
            "2022\n",
            "True\n",
            "v1\n",
            "False\n"
          ]
        }
      ]
    },
    {
      "cell_type": "code",
      "source": [],
      "metadata": {
        "id": "SdMrGHSfXd5U"
      },
      "execution_count": null,
      "outputs": []
    }
  ]
}