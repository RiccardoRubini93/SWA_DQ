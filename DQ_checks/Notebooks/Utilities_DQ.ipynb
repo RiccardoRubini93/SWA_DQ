{
  "nbformat": 4,
  "nbformat_minor": 0,
  "metadata": {
    "colab": {
      "provenance": []
    },
    "kernelspec": {
      "name": "python3",
      "display_name": "Python 3"
    },
    "language_info": {
      "name": "python"
    }
  },
  "cells": [
    {
      "cell_type": "code",
      "execution_count": 1,
      "metadata": {
        "id": "uRzkyecOIxnh"
      },
      "outputs": [],
      "source": [
        "import os\n",
        "import pandas as pd \n",
        "from google.cloud import bigquery"
      ]
    },
    {
      "cell_type": "code",
      "source": [
        "from google.cloud import storage\n",
        "import json\n",
        "\n",
        "def bucket_metadata(bucket_name,project_id):\n",
        "    \"\"\"Prints out a bucket's metadata.\"\"\"\n",
        "  \n",
        "    storage_client = storage.Client(project_id)\n",
        "    bucket = storage_client.get_bucket(bucket_name)\n",
        "\n",
        "    print(f\"ID: {bucket.id}\")\n",
        "    print(f\"Name: {bucket.name}\")\n",
        "    print(f\"Storage Class: {bucket.storage_class}\")\n",
        "    print(f\"Location: {bucket.location}\")\n",
        "    print(f\"Location Type: {bucket.location_type}\")\n",
        "\n",
        "    data                  = {}\n",
        "    data['bucket_id']     = bucket.id\n",
        "    data['Name']          = bucket.name\n",
        "    data['Storage Class'] = bucket.storage_class\n",
        "    data['Location']      = bucket.location\n",
        "    data['Location Type'] = bucket.location_type\n",
        "    #json_data = json.dumps(data)\n",
        "\n",
        "    return data\n",
        "\n",
        "    #print(f\"Cors: {bucket.cors}\")\n",
        "    #print(f\"Default Event Based Hold: {bucket.default_event_based_hold}\")\n",
        "    #print(f\"Default KMS Key Name: {bucket.default_kms_key_name}\")\n",
        "    #print(f\"Metageneration: {bucket.metageneration}\")\n",
        "    #print(f\"Public Access Prevention: {bucket.iam_configuration.public_access_prevention}\")\n",
        "    #print(f\"Retention Effective Time: {bucket.retention_policy_effective_time}\")\n",
        "    #print(f\"Retention Period: {bucket.retention_period}\")\n",
        "    #print(f\"Retention Policy Locked: {bucket.retention_policy_locked}\")\n",
        "    #print(f\"Requester Pays: {bucket.requester_pays}\")\n",
        "    #print(f\"Self Link: {bucket.self_link}\")\n",
        "    #print(f\"Time Created: {bucket.time_created}\")\n",
        "    #print(f\"Versioning Enabled: {bucket.versioning_enabled}\")\n",
        "    #print(f\"Labels: {bucket.labels}\")"
      ],
      "metadata": {
        "id": "IFVrBqq1Mjoc"
      },
      "execution_count": 2,
      "outputs": []
    },
    {
      "cell_type": "code",
      "source": [
        "from google.colab import auth\n",
        "auth.authenticate_user()\n",
        "print('Authenticated')"
      ],
      "metadata": {
        "colab": {
          "base_uri": "https://localhost:8080/"
        },
        "id": "0gO-m493JItL",
        "outputId": "b163e56c-0a2e-4f2a-951b-16217122f4f6"
      },
      "execution_count": 3,
      "outputs": [
        {
          "output_type": "stream",
          "name": "stdout",
          "text": [
            "Authenticated\n"
          ]
        }
      ]
    },
    {
      "cell_type": "code",
      "source": [
        "project_id = 'advanced-analytics-278408'\n",
        "client = bigquery.Client(project=project_id)\n",
        "\n",
        "query = '''\n",
        "SELECT\n",
        "*\n",
        "FROM `advanced-analytics-278408.data__1st_layer.9891__monitoring_information_and_params`\n",
        "WHERE is_to_be_monitored = true\n",
        "and landing_zone = 'GCS';\n",
        "'''\n",
        "\n",
        "df = client.query(query).to_dataframe()"
      ],
      "metadata": {
        "id": "dkmSyWMbJHJC"
      },
      "execution_count": null,
      "outputs": []
    },
    {
      "cell_type": "code",
      "source": [
        "df.head(20)"
      ],
      "metadata": {
        "colab": {
          "base_uri": "https://localhost:8080/",
          "height": 1232
        },
        "id": "JJJ-OlddJZ5M",
        "outputId": "9d655bcd-66b6-4afd-fdfe-80e4c3753ee3"
      },
      "execution_count": null,
      "outputs": [
        {
          "output_type": "execute_result",
          "data": {
            "text/plain": [
              "                   project_id        dataset_id  \\\n",
              "0   advanced-analytics-278408  Draft_Data_Model   \n",
              "1   advanced-analytics-278408  Draft_Data_Model   \n",
              "2   advanced-analytics-278408  Draft_Data_Model   \n",
              "3   advanced-analytics-278408  Draft_Data_Model   \n",
              "4   advanced-analytics-278408  Draft_Data_Model   \n",
              "5   advanced-analytics-278408  Draft_Data_Model   \n",
              "6   advanced-analytics-278408  Draft_Data_Model   \n",
              "7   advanced-analytics-278408  Draft_Data_Model   \n",
              "8   advanced-analytics-278408  Draft_Data_Model   \n",
              "9   advanced-analytics-278408  Draft_Data_Model   \n",
              "10  advanced-analytics-278408  Draft_Data_Model   \n",
              "11  advanced-analytics-278408  Draft_Data_Model   \n",
              "12  advanced-analytics-278408  Draft_Data_Model   \n",
              "13  advanced-analytics-278408  Draft_Data_Model   \n",
              "14  advanced-analytics-278408  Draft_Data_Model   \n",
              "15  advanced-analytics-278408  Draft_Data_Model   \n",
              "16  advanced-analytics-278408  Draft_Data_Model   \n",
              "17  advanced-analytics-278408  Draft_Data_Model   \n",
              "18  advanced-analytics-278408  Draft_Data_Model   \n",
              "19  advanced-analytics-278408  Draft_Data_Model   \n",
              "\n",
              "                                table_id  \\\n",
              "0      0004__v3__traffic_transaction_adj   \n",
              "1                             0006__cogs   \n",
              "2                         0019__cogs_csl   \n",
              "3                 0003__v4__store_master   \n",
              "4                          0015__returns   \n",
              "5                          0014__repairs   \n",
              "6                0005__online_sales_hist   \n",
              "7                      0016__hr_learning   \n",
              "8               0017__retail_profit_loss   \n",
              "9                            0018__capex   \n",
              "10                0021__esri_transaction   \n",
              "11               7201__daily_visit_count   \n",
              "12         7202__common_evening_location   \n",
              "13             7203__common_day_location   \n",
              "14                  0002__product_master   \n",
              "15                    0001__transactions   \n",
              "16                0028__net_sales_report   \n",
              "17         0032__profit_and_loss_fr_hier   \n",
              "18  0032__proift_and_loss_fr_exploration   \n",
              "19                        0201__crm_main   \n",
              "\n",
              "                                    complete_table_id table_code  \\\n",
              "0   advanced-analytics-278408.Draft_Data_Model.000...       0004   \n",
              "1   advanced-analytics-278408.Draft_Data_Model.000...       0006   \n",
              "2   advanced-analytics-278408.Draft_Data_Model.001...       0019   \n",
              "3   advanced-analytics-278408.Draft_Data_Model.000...       0003   \n",
              "4   advanced-analytics-278408.Draft_Data_Model.001...       0015   \n",
              "5   advanced-analytics-278408.Draft_Data_Model.001...       0014   \n",
              "6   advanced-analytics-278408.Draft_Data_Model.000...       0005   \n",
              "7   advanced-analytics-278408.Draft_Data_Model.001...       0016   \n",
              "8   advanced-analytics-278408.Draft_Data_Model.001...       0017   \n",
              "9   advanced-analytics-278408.Draft_Data_Model.001...       0018   \n",
              "10  advanced-analytics-278408.Draft_Data_Model.002...       0021   \n",
              "11  advanced-analytics-278408.Draft_Data_Model.720...       7201   \n",
              "12  advanced-analytics-278408.Draft_Data_Model.720...       7202   \n",
              "13  advanced-analytics-278408.Draft_Data_Model.720...       7203   \n",
              "14  advanced-analytics-278408.Draft_Data_Model.000...       0002   \n",
              "15  advanced-analytics-278408.Draft_Data_Model.000...       0001   \n",
              "16  advanced-analytics-278408.Draft_Data_Model.002...       0028   \n",
              "17  advanced-analytics-278408.Draft_Data_Model.003...       0032   \n",
              "18  advanced-analytics-278408.Draft_Data_Model.003...       0032   \n",
              "19  advanced-analytics-278408.Draft_Data_Model.020...       0201   \n",
              "\n",
              "    is_to_be_monitored   current_development_status  \\\n",
              "0                 True                Lab Developed   \n",
              "1                 True                Lab Developed   \n",
              "2                 True                Lab Developed   \n",
              "3                 True                Lab Developed   \n",
              "4                 True                Lab Developed   \n",
              "5                 True                Lab Developed   \n",
              "6                 True                Lab Developed   \n",
              "7                 True                Lab Developed   \n",
              "8                 True                Lab Developed   \n",
              "9                 True                Lab Developed   \n",
              "10                True                Lab Developed   \n",
              "11                True                Lab Developed   \n",
              "12                True                Lab Developed   \n",
              "13                True                Lab Developed   \n",
              "14                True  Lab Developed and Scheduled   \n",
              "15                True  Lab Developed and Scheduled   \n",
              "16                True  Lab Developed and Scheduled   \n",
              "17                True  Lab Developed and Scheduled   \n",
              "18                True  Lab Developed and Scheduled   \n",
              "19                True  Lab Developed and Scheduled   \n",
              "\n",
              "   current_development_status_id source_system_id  source_system_name  ...  \\\n",
              "0                              4               00  SAP P30 (BW query)  ...   \n",
              "1                              4               00  SAP P30 (BW query)  ...   \n",
              "2                              4               00  SAP P30 (BW query)  ...   \n",
              "3                              4               00  SAP P30 (BW query)  ...   \n",
              "4                              4               00  SAP P30 (BW query)  ...   \n",
              "5                              4               00  SAP P30 (BW query)  ...   \n",
              "6                              4               00  SAP P30 (BW query)  ...   \n",
              "7                              4               00  SAP P30 (BW query)  ...   \n",
              "8                              4               00  SAP P30 (BW query)  ...   \n",
              "9                              4               00  SAP P30 (BW query)  ...   \n",
              "10                             4               00  SAP P30 (BW query)  ...   \n",
              "11                             4               72           Ubermedia  ...   \n",
              "12                             4               72           Ubermedia  ...   \n",
              "13                             4               72           Ubermedia  ...   \n",
              "14                             5               00  SAP P30 (BW query)  ...   \n",
              "15                             5               00  SAP P30 (BW query)  ...   \n",
              "16                             5               00  SAP P30 (BW query)  ...   \n",
              "17                             5               00  SAP P30 (BW query)  ...   \n",
              "18                             5               00  SAP P30 (BW query)  ...   \n",
              "19                             5               02         SAP P60 CRM  ...   \n",
              "\n",
              "   load_is_scheduled load_schedule_pattern  \\\n",
              "0              False                         \n",
              "1              False                         \n",
              "2              False                         \n",
              "3              False                         \n",
              "4              False                         \n",
              "5              False                         \n",
              "6              False                         \n",
              "7              False                         \n",
              "8              False                         \n",
              "9              False                         \n",
              "10             False                         \n",
              "11              True                         \n",
              "12              True                         \n",
              "13              True                         \n",
              "14              True                         \n",
              "15              True             0 8 * * *   \n",
              "16              True                         \n",
              "17              True                         \n",
              "18              True                         \n",
              "19              True                         \n",
              "\n",
              "                                            load_form  \\\n",
              "0   BQ-Uncleansed-No-Common-Naming-Type-No-Descrip...   \n",
              "1   BQ-Uncleansed-No-Common-Naming-Type-No-Descrip...   \n",
              "2   BQ-Uncleansed-No-Common-Naming-Type-No-Descrip...   \n",
              "3   BQ-Uncleansed-No-Common-Naming-Type-No-Descrip...   \n",
              "4   BQ-Uncleansed-No-Common-Naming-Type-No-Descrip...   \n",
              "5   BQ-Uncleansed-No-Common-Naming-Type-No-Descrip...   \n",
              "6   BQ-Uncleansed-No-Common-Naming-Type-No-Descrip...   \n",
              "7   BQ-Uncleansed-No-Common-Naming-Type-No-Descrip...   \n",
              "8   BQ-Uncleansed-No-Common-Naming-Type-No-Descrip...   \n",
              "9   BQ-Uncleansed-No-Common-Naming-Type-No-Descrip...   \n",
              "10  BQ-Uncleansed-No-Common-Naming-Type-No-Descrip...   \n",
              "11  BQ-Uncleansed-No-Common-Naming-Type-No-Descrip...   \n",
              "12  BQ-Uncleansed-No-Common-Naming-Type-No-Descrip...   \n",
              "13  BQ-Uncleansed-No-Common-Naming-Type-No-Descrip...   \n",
              "14  BQ-Uncleansed-No-Common-Naming-Type-No-Descrip...   \n",
              "15  BQ-Uncleansed-No-Common-Naming-Type-No-Descrip...   \n",
              "16  BQ-Uncleansed-No-Common-Naming-Type-No-Descrip...   \n",
              "17  BQ-Uncleansed-No-Common-Naming-Type-No-Descrip...   \n",
              "18  BQ-Uncleansed-No-Common-Naming-Type-No-Descrip...   \n",
              "19  BQ-Uncleansed-No-Common-Naming-Type-No-Descrip...   \n",
              "\n",
              "    is_dx_framework_applied                       id_field   data_loop_field  \\\n",
              "0                     False                           DATE              DATE   \n",
              "1                     False                           DATE              DATE   \n",
              "2                     False                           DATE              DATE   \n",
              "3                     False                        CUSTNUM              DATE   \n",
              "4                     False  UNIQUE_KEY_RETAIL_TRANSACTION              DATE   \n",
              "5                     False             column_0CRM_OBJ_ID          ZC_ENTRY   \n",
              "6                     False         UNIQUE_KEY_TRANSACTION        ORDER_DATE   \n",
              "7                     False               Period_first_day  Period_first_day   \n",
              "8                     False               Period_first_day  Period_first_day   \n",
              "9                     False               Period_first_day  Period_first_day   \n",
              "10                    False                           DATE              DATE   \n",
              "11                    False                           Date              Date   \n",
              "12                    False            Hashed_Ubermedia_Id        Visit_Date   \n",
              "13                    False            Hashed_Ubermedia_Id        Visit_Date   \n",
              "14                    False                         MATNUM              DATE   \n",
              "15                    False   UNIQUE_RETAIL_ID_TRANSACTION              DATE   \n",
              "16                    False                   Calendar_Day      Calendar_Day   \n",
              "17                    False                   HIERARCHY_ID   EXTRACTION_DATE   \n",
              "18                    False                EXTRACTION_DATE   EXTRACTION_DATE   \n",
              "19                    False                          idnum   date_extraction   \n",
              "\n",
              "   data_loop_granularity overall_documentation_URL  \\\n",
              "0                    DAY                   missing   \n",
              "1                    DAY                   missing   \n",
              "2                    DAY                   missing   \n",
              "3                    DAY                   missing   \n",
              "4                    DAY                   missing   \n",
              "5                    DAY                   missing   \n",
              "6                    DAY                   missing   \n",
              "7                  MONTH                   missing   \n",
              "8                  MONTH                   missing   \n",
              "9                  MONTH                   missing   \n",
              "10                   DAY                   missing   \n",
              "11                   DAY                   missing   \n",
              "12                   DAY                   missing   \n",
              "13                   DAY                   missing   \n",
              "14                   DAY                   missing   \n",
              "15                   DAY                   missing   \n",
              "16                   DAY                   missing   \n",
              "17                   DAY                   missing   \n",
              "18                   DAY                   missing   \n",
              "19                   DAY                   missing   \n",
              "\n",
              "                                        to_do_pending notes  \n",
              "0                                                            \n",
              "1                                                            \n",
              "2                                                            \n",
              "3                                                            \n",
              "4                                                            \n",
              "5                                                            \n",
              "6                                                            \n",
              "7                                                            \n",
              "8                                                            \n",
              "9                                                            \n",
              "10                                                           \n",
              "11  Need automation from the landing zone where th...        \n",
              "12  Need automation from the landing zone where th...        \n",
              "13  Need automation from the landing zone where th...        \n",
              "14                                                           \n",
              "15                                                           \n",
              "16                                                           \n",
              "17                                                           \n",
              "18                                                           \n",
              "19                                                           \n",
              "\n",
              "[20 rows x 30 columns]"
            ],
            "text/html": [
              "\n",
              "  <div id=\"df-931bee28-005a-428f-b77b-f4f38d88f94b\">\n",
              "    <div class=\"colab-df-container\">\n",
              "      <div>\n",
              "<style scoped>\n",
              "    .dataframe tbody tr th:only-of-type {\n",
              "        vertical-align: middle;\n",
              "    }\n",
              "\n",
              "    .dataframe tbody tr th {\n",
              "        vertical-align: top;\n",
              "    }\n",
              "\n",
              "    .dataframe thead th {\n",
              "        text-align: right;\n",
              "    }\n",
              "</style>\n",
              "<table border=\"1\" class=\"dataframe\">\n",
              "  <thead>\n",
              "    <tr style=\"text-align: right;\">\n",
              "      <th></th>\n",
              "      <th>project_id</th>\n",
              "      <th>dataset_id</th>\n",
              "      <th>table_id</th>\n",
              "      <th>complete_table_id</th>\n",
              "      <th>table_code</th>\n",
              "      <th>is_to_be_monitored</th>\n",
              "      <th>current_development_status</th>\n",
              "      <th>current_development_status_id</th>\n",
              "      <th>source_system_id</th>\n",
              "      <th>source_system_name</th>\n",
              "      <th>...</th>\n",
              "      <th>load_is_scheduled</th>\n",
              "      <th>load_schedule_pattern</th>\n",
              "      <th>load_form</th>\n",
              "      <th>is_dx_framework_applied</th>\n",
              "      <th>id_field</th>\n",
              "      <th>data_loop_field</th>\n",
              "      <th>data_loop_granularity</th>\n",
              "      <th>overall_documentation_URL</th>\n",
              "      <th>to_do_pending</th>\n",
              "      <th>notes</th>\n",
              "    </tr>\n",
              "  </thead>\n",
              "  <tbody>\n",
              "    <tr>\n",
              "      <th>0</th>\n",
              "      <td>advanced-analytics-278408</td>\n",
              "      <td>Draft_Data_Model</td>\n",
              "      <td>0004__v3__traffic_transaction_adj</td>\n",
              "      <td>advanced-analytics-278408.Draft_Data_Model.000...</td>\n",
              "      <td>0004</td>\n",
              "      <td>True</td>\n",
              "      <td>Lab Developed</td>\n",
              "      <td>4</td>\n",
              "      <td>00</td>\n",
              "      <td>SAP P30 (BW query)</td>\n",
              "      <td>...</td>\n",
              "      <td>False</td>\n",
              "      <td></td>\n",
              "      <td>BQ-Uncleansed-No-Common-Naming-Type-No-Descrip...</td>\n",
              "      <td>False</td>\n",
              "      <td>DATE</td>\n",
              "      <td>DATE</td>\n",
              "      <td>DAY</td>\n",
              "      <td>missing</td>\n",
              "      <td></td>\n",
              "      <td></td>\n",
              "    </tr>\n",
              "    <tr>\n",
              "      <th>1</th>\n",
              "      <td>advanced-analytics-278408</td>\n",
              "      <td>Draft_Data_Model</td>\n",
              "      <td>0006__cogs</td>\n",
              "      <td>advanced-analytics-278408.Draft_Data_Model.000...</td>\n",
              "      <td>0006</td>\n",
              "      <td>True</td>\n",
              "      <td>Lab Developed</td>\n",
              "      <td>4</td>\n",
              "      <td>00</td>\n",
              "      <td>SAP P30 (BW query)</td>\n",
              "      <td>...</td>\n",
              "      <td>False</td>\n",
              "      <td></td>\n",
              "      <td>BQ-Uncleansed-No-Common-Naming-Type-No-Descrip...</td>\n",
              "      <td>False</td>\n",
              "      <td>DATE</td>\n",
              "      <td>DATE</td>\n",
              "      <td>DAY</td>\n",
              "      <td>missing</td>\n",
              "      <td></td>\n",
              "      <td></td>\n",
              "    </tr>\n",
              "    <tr>\n",
              "      <th>2</th>\n",
              "      <td>advanced-analytics-278408</td>\n",
              "      <td>Draft_Data_Model</td>\n",
              "      <td>0019__cogs_csl</td>\n",
              "      <td>advanced-analytics-278408.Draft_Data_Model.001...</td>\n",
              "      <td>0019</td>\n",
              "      <td>True</td>\n",
              "      <td>Lab Developed</td>\n",
              "      <td>4</td>\n",
              "      <td>00</td>\n",
              "      <td>SAP P30 (BW query)</td>\n",
              "      <td>...</td>\n",
              "      <td>False</td>\n",
              "      <td></td>\n",
              "      <td>BQ-Uncleansed-No-Common-Naming-Type-No-Descrip...</td>\n",
              "      <td>False</td>\n",
              "      <td>DATE</td>\n",
              "      <td>DATE</td>\n",
              "      <td>DAY</td>\n",
              "      <td>missing</td>\n",
              "      <td></td>\n",
              "      <td></td>\n",
              "    </tr>\n",
              "    <tr>\n",
              "      <th>3</th>\n",
              "      <td>advanced-analytics-278408</td>\n",
              "      <td>Draft_Data_Model</td>\n",
              "      <td>0003__v4__store_master</td>\n",
              "      <td>advanced-analytics-278408.Draft_Data_Model.000...</td>\n",
              "      <td>0003</td>\n",
              "      <td>True</td>\n",
              "      <td>Lab Developed</td>\n",
              "      <td>4</td>\n",
              "      <td>00</td>\n",
              "      <td>SAP P30 (BW query)</td>\n",
              "      <td>...</td>\n",
              "      <td>False</td>\n",
              "      <td></td>\n",
              "      <td>BQ-Uncleansed-No-Common-Naming-Type-No-Descrip...</td>\n",
              "      <td>False</td>\n",
              "      <td>CUSTNUM</td>\n",
              "      <td>DATE</td>\n",
              "      <td>DAY</td>\n",
              "      <td>missing</td>\n",
              "      <td></td>\n",
              "      <td></td>\n",
              "    </tr>\n",
              "    <tr>\n",
              "      <th>4</th>\n",
              "      <td>advanced-analytics-278408</td>\n",
              "      <td>Draft_Data_Model</td>\n",
              "      <td>0015__returns</td>\n",
              "      <td>advanced-analytics-278408.Draft_Data_Model.001...</td>\n",
              "      <td>0015</td>\n",
              "      <td>True</td>\n",
              "      <td>Lab Developed</td>\n",
              "      <td>4</td>\n",
              "      <td>00</td>\n",
              "      <td>SAP P30 (BW query)</td>\n",
              "      <td>...</td>\n",
              "      <td>False</td>\n",
              "      <td></td>\n",
              "      <td>BQ-Uncleansed-No-Common-Naming-Type-No-Descrip...</td>\n",
              "      <td>False</td>\n",
              "      <td>UNIQUE_KEY_RETAIL_TRANSACTION</td>\n",
              "      <td>DATE</td>\n",
              "      <td>DAY</td>\n",
              "      <td>missing</td>\n",
              "      <td></td>\n",
              "      <td></td>\n",
              "    </tr>\n",
              "    <tr>\n",
              "      <th>5</th>\n",
              "      <td>advanced-analytics-278408</td>\n",
              "      <td>Draft_Data_Model</td>\n",
              "      <td>0014__repairs</td>\n",
              "      <td>advanced-analytics-278408.Draft_Data_Model.001...</td>\n",
              "      <td>0014</td>\n",
              "      <td>True</td>\n",
              "      <td>Lab Developed</td>\n",
              "      <td>4</td>\n",
              "      <td>00</td>\n",
              "      <td>SAP P30 (BW query)</td>\n",
              "      <td>...</td>\n",
              "      <td>False</td>\n",
              "      <td></td>\n",
              "      <td>BQ-Uncleansed-No-Common-Naming-Type-No-Descrip...</td>\n",
              "      <td>False</td>\n",
              "      <td>column_0CRM_OBJ_ID</td>\n",
              "      <td>ZC_ENTRY</td>\n",
              "      <td>DAY</td>\n",
              "      <td>missing</td>\n",
              "      <td></td>\n",
              "      <td></td>\n",
              "    </tr>\n",
              "    <tr>\n",
              "      <th>6</th>\n",
              "      <td>advanced-analytics-278408</td>\n",
              "      <td>Draft_Data_Model</td>\n",
              "      <td>0005__online_sales_hist</td>\n",
              "      <td>advanced-analytics-278408.Draft_Data_Model.000...</td>\n",
              "      <td>0005</td>\n",
              "      <td>True</td>\n",
              "      <td>Lab Developed</td>\n",
              "      <td>4</td>\n",
              "      <td>00</td>\n",
              "      <td>SAP P30 (BW query)</td>\n",
              "      <td>...</td>\n",
              "      <td>False</td>\n",
              "      <td></td>\n",
              "      <td>BQ-Uncleansed-No-Common-Naming-Type-No-Descrip...</td>\n",
              "      <td>False</td>\n",
              "      <td>UNIQUE_KEY_TRANSACTION</td>\n",
              "      <td>ORDER_DATE</td>\n",
              "      <td>DAY</td>\n",
              "      <td>missing</td>\n",
              "      <td></td>\n",
              "      <td></td>\n",
              "    </tr>\n",
              "    <tr>\n",
              "      <th>7</th>\n",
              "      <td>advanced-analytics-278408</td>\n",
              "      <td>Draft_Data_Model</td>\n",
              "      <td>0016__hr_learning</td>\n",
              "      <td>advanced-analytics-278408.Draft_Data_Model.001...</td>\n",
              "      <td>0016</td>\n",
              "      <td>True</td>\n",
              "      <td>Lab Developed</td>\n",
              "      <td>4</td>\n",
              "      <td>00</td>\n",
              "      <td>SAP P30 (BW query)</td>\n",
              "      <td>...</td>\n",
              "      <td>False</td>\n",
              "      <td></td>\n",
              "      <td>BQ-Uncleansed-No-Common-Naming-Type-No-Descrip...</td>\n",
              "      <td>False</td>\n",
              "      <td>Period_first_day</td>\n",
              "      <td>Period_first_day</td>\n",
              "      <td>MONTH</td>\n",
              "      <td>missing</td>\n",
              "      <td></td>\n",
              "      <td></td>\n",
              "    </tr>\n",
              "    <tr>\n",
              "      <th>8</th>\n",
              "      <td>advanced-analytics-278408</td>\n",
              "      <td>Draft_Data_Model</td>\n",
              "      <td>0017__retail_profit_loss</td>\n",
              "      <td>advanced-analytics-278408.Draft_Data_Model.001...</td>\n",
              "      <td>0017</td>\n",
              "      <td>True</td>\n",
              "      <td>Lab Developed</td>\n",
              "      <td>4</td>\n",
              "      <td>00</td>\n",
              "      <td>SAP P30 (BW query)</td>\n",
              "      <td>...</td>\n",
              "      <td>False</td>\n",
              "      <td></td>\n",
              "      <td>BQ-Uncleansed-No-Common-Naming-Type-No-Descrip...</td>\n",
              "      <td>False</td>\n",
              "      <td>Period_first_day</td>\n",
              "      <td>Period_first_day</td>\n",
              "      <td>MONTH</td>\n",
              "      <td>missing</td>\n",
              "      <td></td>\n",
              "      <td></td>\n",
              "    </tr>\n",
              "    <tr>\n",
              "      <th>9</th>\n",
              "      <td>advanced-analytics-278408</td>\n",
              "      <td>Draft_Data_Model</td>\n",
              "      <td>0018__capex</td>\n",
              "      <td>advanced-analytics-278408.Draft_Data_Model.001...</td>\n",
              "      <td>0018</td>\n",
              "      <td>True</td>\n",
              "      <td>Lab Developed</td>\n",
              "      <td>4</td>\n",
              "      <td>00</td>\n",
              "      <td>SAP P30 (BW query)</td>\n",
              "      <td>...</td>\n",
              "      <td>False</td>\n",
              "      <td></td>\n",
              "      <td>BQ-Uncleansed-No-Common-Naming-Type-No-Descrip...</td>\n",
              "      <td>False</td>\n",
              "      <td>Period_first_day</td>\n",
              "      <td>Period_first_day</td>\n",
              "      <td>MONTH</td>\n",
              "      <td>missing</td>\n",
              "      <td></td>\n",
              "      <td></td>\n",
              "    </tr>\n",
              "    <tr>\n",
              "      <th>10</th>\n",
              "      <td>advanced-analytics-278408</td>\n",
              "      <td>Draft_Data_Model</td>\n",
              "      <td>0021__esri_transaction</td>\n",
              "      <td>advanced-analytics-278408.Draft_Data_Model.002...</td>\n",
              "      <td>0021</td>\n",
              "      <td>True</td>\n",
              "      <td>Lab Developed</td>\n",
              "      <td>4</td>\n",
              "      <td>00</td>\n",
              "      <td>SAP P30 (BW query)</td>\n",
              "      <td>...</td>\n",
              "      <td>False</td>\n",
              "      <td></td>\n",
              "      <td>BQ-Uncleansed-No-Common-Naming-Type-No-Descrip...</td>\n",
              "      <td>False</td>\n",
              "      <td>DATE</td>\n",
              "      <td>DATE</td>\n",
              "      <td>DAY</td>\n",
              "      <td>missing</td>\n",
              "      <td></td>\n",
              "      <td></td>\n",
              "    </tr>\n",
              "    <tr>\n",
              "      <th>11</th>\n",
              "      <td>advanced-analytics-278408</td>\n",
              "      <td>Draft_Data_Model</td>\n",
              "      <td>7201__daily_visit_count</td>\n",
              "      <td>advanced-analytics-278408.Draft_Data_Model.720...</td>\n",
              "      <td>7201</td>\n",
              "      <td>True</td>\n",
              "      <td>Lab Developed</td>\n",
              "      <td>4</td>\n",
              "      <td>72</td>\n",
              "      <td>Ubermedia</td>\n",
              "      <td>...</td>\n",
              "      <td>True</td>\n",
              "      <td></td>\n",
              "      <td>BQ-Uncleansed-No-Common-Naming-Type-No-Descrip...</td>\n",
              "      <td>False</td>\n",
              "      <td>Date</td>\n",
              "      <td>Date</td>\n",
              "      <td>DAY</td>\n",
              "      <td>missing</td>\n",
              "      <td>Need automation from the landing zone where th...</td>\n",
              "      <td></td>\n",
              "    </tr>\n",
              "    <tr>\n",
              "      <th>12</th>\n",
              "      <td>advanced-analytics-278408</td>\n",
              "      <td>Draft_Data_Model</td>\n",
              "      <td>7202__common_evening_location</td>\n",
              "      <td>advanced-analytics-278408.Draft_Data_Model.720...</td>\n",
              "      <td>7202</td>\n",
              "      <td>True</td>\n",
              "      <td>Lab Developed</td>\n",
              "      <td>4</td>\n",
              "      <td>72</td>\n",
              "      <td>Ubermedia</td>\n",
              "      <td>...</td>\n",
              "      <td>True</td>\n",
              "      <td></td>\n",
              "      <td>BQ-Uncleansed-No-Common-Naming-Type-No-Descrip...</td>\n",
              "      <td>False</td>\n",
              "      <td>Hashed_Ubermedia_Id</td>\n",
              "      <td>Visit_Date</td>\n",
              "      <td>DAY</td>\n",
              "      <td>missing</td>\n",
              "      <td>Need automation from the landing zone where th...</td>\n",
              "      <td></td>\n",
              "    </tr>\n",
              "    <tr>\n",
              "      <th>13</th>\n",
              "      <td>advanced-analytics-278408</td>\n",
              "      <td>Draft_Data_Model</td>\n",
              "      <td>7203__common_day_location</td>\n",
              "      <td>advanced-analytics-278408.Draft_Data_Model.720...</td>\n",
              "      <td>7203</td>\n",
              "      <td>True</td>\n",
              "      <td>Lab Developed</td>\n",
              "      <td>4</td>\n",
              "      <td>72</td>\n",
              "      <td>Ubermedia</td>\n",
              "      <td>...</td>\n",
              "      <td>True</td>\n",
              "      <td></td>\n",
              "      <td>BQ-Uncleansed-No-Common-Naming-Type-No-Descrip...</td>\n",
              "      <td>False</td>\n",
              "      <td>Hashed_Ubermedia_Id</td>\n",
              "      <td>Visit_Date</td>\n",
              "      <td>DAY</td>\n",
              "      <td>missing</td>\n",
              "      <td>Need automation from the landing zone where th...</td>\n",
              "      <td></td>\n",
              "    </tr>\n",
              "    <tr>\n",
              "      <th>14</th>\n",
              "      <td>advanced-analytics-278408</td>\n",
              "      <td>Draft_Data_Model</td>\n",
              "      <td>0002__product_master</td>\n",
              "      <td>advanced-analytics-278408.Draft_Data_Model.000...</td>\n",
              "      <td>0002</td>\n",
              "      <td>True</td>\n",
              "      <td>Lab Developed and Scheduled</td>\n",
              "      <td>5</td>\n",
              "      <td>00</td>\n",
              "      <td>SAP P30 (BW query)</td>\n",
              "      <td>...</td>\n",
              "      <td>True</td>\n",
              "      <td></td>\n",
              "      <td>BQ-Uncleansed-No-Common-Naming-Type-No-Descrip...</td>\n",
              "      <td>False</td>\n",
              "      <td>MATNUM</td>\n",
              "      <td>DATE</td>\n",
              "      <td>DAY</td>\n",
              "      <td>missing</td>\n",
              "      <td></td>\n",
              "      <td></td>\n",
              "    </tr>\n",
              "    <tr>\n",
              "      <th>15</th>\n",
              "      <td>advanced-analytics-278408</td>\n",
              "      <td>Draft_Data_Model</td>\n",
              "      <td>0001__transactions</td>\n",
              "      <td>advanced-analytics-278408.Draft_Data_Model.000...</td>\n",
              "      <td>0001</td>\n",
              "      <td>True</td>\n",
              "      <td>Lab Developed and Scheduled</td>\n",
              "      <td>5</td>\n",
              "      <td>00</td>\n",
              "      <td>SAP P30 (BW query)</td>\n",
              "      <td>...</td>\n",
              "      <td>True</td>\n",
              "      <td>0 8 * * *</td>\n",
              "      <td>BQ-Uncleansed-No-Common-Naming-Type-No-Descrip...</td>\n",
              "      <td>False</td>\n",
              "      <td>UNIQUE_RETAIL_ID_TRANSACTION</td>\n",
              "      <td>DATE</td>\n",
              "      <td>DAY</td>\n",
              "      <td>missing</td>\n",
              "      <td></td>\n",
              "      <td></td>\n",
              "    </tr>\n",
              "    <tr>\n",
              "      <th>16</th>\n",
              "      <td>advanced-analytics-278408</td>\n",
              "      <td>Draft_Data_Model</td>\n",
              "      <td>0028__net_sales_report</td>\n",
              "      <td>advanced-analytics-278408.Draft_Data_Model.002...</td>\n",
              "      <td>0028</td>\n",
              "      <td>True</td>\n",
              "      <td>Lab Developed and Scheduled</td>\n",
              "      <td>5</td>\n",
              "      <td>00</td>\n",
              "      <td>SAP P30 (BW query)</td>\n",
              "      <td>...</td>\n",
              "      <td>True</td>\n",
              "      <td></td>\n",
              "      <td>BQ-Uncleansed-No-Common-Naming-Type-No-Descrip...</td>\n",
              "      <td>False</td>\n",
              "      <td>Calendar_Day</td>\n",
              "      <td>Calendar_Day</td>\n",
              "      <td>DAY</td>\n",
              "      <td>missing</td>\n",
              "      <td></td>\n",
              "      <td></td>\n",
              "    </tr>\n",
              "    <tr>\n",
              "      <th>17</th>\n",
              "      <td>advanced-analytics-278408</td>\n",
              "      <td>Draft_Data_Model</td>\n",
              "      <td>0032__profit_and_loss_fr_hier</td>\n",
              "      <td>advanced-analytics-278408.Draft_Data_Model.003...</td>\n",
              "      <td>0032</td>\n",
              "      <td>True</td>\n",
              "      <td>Lab Developed and Scheduled</td>\n",
              "      <td>5</td>\n",
              "      <td>00</td>\n",
              "      <td>SAP P30 (BW query)</td>\n",
              "      <td>...</td>\n",
              "      <td>True</td>\n",
              "      <td></td>\n",
              "      <td>BQ-Uncleansed-No-Common-Naming-Type-No-Descrip...</td>\n",
              "      <td>False</td>\n",
              "      <td>HIERARCHY_ID</td>\n",
              "      <td>EXTRACTION_DATE</td>\n",
              "      <td>DAY</td>\n",
              "      <td>missing</td>\n",
              "      <td></td>\n",
              "      <td></td>\n",
              "    </tr>\n",
              "    <tr>\n",
              "      <th>18</th>\n",
              "      <td>advanced-analytics-278408</td>\n",
              "      <td>Draft_Data_Model</td>\n",
              "      <td>0032__proift_and_loss_fr_exploration</td>\n",
              "      <td>advanced-analytics-278408.Draft_Data_Model.003...</td>\n",
              "      <td>0032</td>\n",
              "      <td>True</td>\n",
              "      <td>Lab Developed and Scheduled</td>\n",
              "      <td>5</td>\n",
              "      <td>00</td>\n",
              "      <td>SAP P30 (BW query)</td>\n",
              "      <td>...</td>\n",
              "      <td>True</td>\n",
              "      <td></td>\n",
              "      <td>BQ-Uncleansed-No-Common-Naming-Type-No-Descrip...</td>\n",
              "      <td>False</td>\n",
              "      <td>EXTRACTION_DATE</td>\n",
              "      <td>EXTRACTION_DATE</td>\n",
              "      <td>DAY</td>\n",
              "      <td>missing</td>\n",
              "      <td></td>\n",
              "      <td></td>\n",
              "    </tr>\n",
              "    <tr>\n",
              "      <th>19</th>\n",
              "      <td>advanced-analytics-278408</td>\n",
              "      <td>Draft_Data_Model</td>\n",
              "      <td>0201__crm_main</td>\n",
              "      <td>advanced-analytics-278408.Draft_Data_Model.020...</td>\n",
              "      <td>0201</td>\n",
              "      <td>True</td>\n",
              "      <td>Lab Developed and Scheduled</td>\n",
              "      <td>5</td>\n",
              "      <td>02</td>\n",
              "      <td>SAP P60 CRM</td>\n",
              "      <td>...</td>\n",
              "      <td>True</td>\n",
              "      <td></td>\n",
              "      <td>BQ-Uncleansed-No-Common-Naming-Type-No-Descrip...</td>\n",
              "      <td>False</td>\n",
              "      <td>idnum</td>\n",
              "      <td>date_extraction</td>\n",
              "      <td>DAY</td>\n",
              "      <td>missing</td>\n",
              "      <td></td>\n",
              "      <td></td>\n",
              "    </tr>\n",
              "  </tbody>\n",
              "</table>\n",
              "<p>20 rows × 30 columns</p>\n",
              "</div>\n",
              "      <button class=\"colab-df-convert\" onclick=\"convertToInteractive('df-931bee28-005a-428f-b77b-f4f38d88f94b')\"\n",
              "              title=\"Convert this dataframe to an interactive table.\"\n",
              "              style=\"display:none;\">\n",
              "        \n",
              "  <svg xmlns=\"http://www.w3.org/2000/svg\" height=\"24px\"viewBox=\"0 0 24 24\"\n",
              "       width=\"24px\">\n",
              "    <path d=\"M0 0h24v24H0V0z\" fill=\"none\"/>\n",
              "    <path d=\"M18.56 5.44l.94 2.06.94-2.06 2.06-.94-2.06-.94-.94-2.06-.94 2.06-2.06.94zm-11 1L8.5 8.5l.94-2.06 2.06-.94-2.06-.94L8.5 2.5l-.94 2.06-2.06.94zm10 10l.94 2.06.94-2.06 2.06-.94-2.06-.94-.94-2.06-.94 2.06-2.06.94z\"/><path d=\"M17.41 7.96l-1.37-1.37c-.4-.4-.92-.59-1.43-.59-.52 0-1.04.2-1.43.59L10.3 9.45l-7.72 7.72c-.78.78-.78 2.05 0 2.83L4 21.41c.39.39.9.59 1.41.59.51 0 1.02-.2 1.41-.59l7.78-7.78 2.81-2.81c.8-.78.8-2.07 0-2.86zM5.41 20L4 18.59l7.72-7.72 1.47 1.35L5.41 20z\"/>\n",
              "  </svg>\n",
              "      </button>\n",
              "      \n",
              "  <style>\n",
              "    .colab-df-container {\n",
              "      display:flex;\n",
              "      flex-wrap:wrap;\n",
              "      gap: 12px;\n",
              "    }\n",
              "\n",
              "    .colab-df-convert {\n",
              "      background-color: #E8F0FE;\n",
              "      border: none;\n",
              "      border-radius: 50%;\n",
              "      cursor: pointer;\n",
              "      display: none;\n",
              "      fill: #1967D2;\n",
              "      height: 32px;\n",
              "      padding: 0 0 0 0;\n",
              "      width: 32px;\n",
              "    }\n",
              "\n",
              "    .colab-df-convert:hover {\n",
              "      background-color: #E2EBFA;\n",
              "      box-shadow: 0px 1px 2px rgba(60, 64, 67, 0.3), 0px 1px 3px 1px rgba(60, 64, 67, 0.15);\n",
              "      fill: #174EA6;\n",
              "    }\n",
              "\n",
              "    [theme=dark] .colab-df-convert {\n",
              "      background-color: #3B4455;\n",
              "      fill: #D2E3FC;\n",
              "    }\n",
              "\n",
              "    [theme=dark] .colab-df-convert:hover {\n",
              "      background-color: #434B5C;\n",
              "      box-shadow: 0px 1px 3px 1px rgba(0, 0, 0, 0.15);\n",
              "      filter: drop-shadow(0px 1px 2px rgba(0, 0, 0, 0.3));\n",
              "      fill: #FFFFFF;\n",
              "    }\n",
              "  </style>\n",
              "\n",
              "      <script>\n",
              "        const buttonEl =\n",
              "          document.querySelector('#df-931bee28-005a-428f-b77b-f4f38d88f94b button.colab-df-convert');\n",
              "        buttonEl.style.display =\n",
              "          google.colab.kernel.accessAllowed ? 'block' : 'none';\n",
              "\n",
              "        async function convertToInteractive(key) {\n",
              "          const element = document.querySelector('#df-931bee28-005a-428f-b77b-f4f38d88f94b');\n",
              "          const dataTable =\n",
              "            await google.colab.kernel.invokeFunction('convertToInteractive',\n",
              "                                                     [key], {});\n",
              "          if (!dataTable) return;\n",
              "\n",
              "          const docLinkHtml = 'Like what you see? Visit the ' +\n",
              "            '<a target=\"_blank\" href=https://colab.research.google.com/notebooks/data_table.ipynb>data table notebook</a>'\n",
              "            + ' to learn more about interactive tables.';\n",
              "          element.innerHTML = '';\n",
              "          dataTable['output_type'] = 'display_data';\n",
              "          await google.colab.output.renderOutput(dataTable, element);\n",
              "          const docLink = document.createElement('div');\n",
              "          docLink.innerHTML = docLinkHtml;\n",
              "          element.appendChild(docLink);\n",
              "        }\n",
              "      </script>\n",
              "    </div>\n",
              "  </div>\n",
              "  "
            ]
          },
          "metadata": {},
          "execution_count": 43
        },
        {
          "output_type": "stream",
          "name": "stdout",
          "text": [
            "Warning: Total number of columns (30) exceeds max_columns (20) limiting to first (20) columns.\n"
          ]
        }
      ]
    },
    {
      "cell_type": "code",
      "source": [
        "#loop over the rows of the dataframe to get the object path\n",
        "\n",
        "for index, row in df.iterrows():\n",
        "    if index == 1 :\n",
        "      #print(row['table_id'], row['landing_zone_path'])\n",
        "      #get bucket name\n",
        "      bucket = row['landing_zone_path'].split('/')\n",
        "      print(bucket)\n",
        "      print(len(bucket[2:-1]))"
      ],
      "metadata": {
        "colab": {
          "base_uri": "https://localhost:8080/"
        },
        "id": "q57UFwhVJbQV",
        "outputId": "af94e83e-7ac0-4e9b-95a2-0a467d4aa976"
      },
      "execution_count": null,
      "outputs": [
        {
          "output_type": "stream",
          "name": "stdout",
          "text": [
            "['gs:', '', 'swarovski-advanced-analytics-data-ingestion-test', 'clean', '00_SAP_P30', '0006', 'v2', '']\n",
            "5\n"
          ]
        }
      ]
    },
    {
      "cell_type": "code",
      "source": [
        "#get bucket metadata\n",
        "\n",
        "data = bucket_metadata(bucket,project_id)\n",
        "data"
      ],
      "metadata": {
        "colab": {
          "base_uri": "https://localhost:8080/"
        },
        "id": "Q4Yfxk4bMRab",
        "outputId": "38d559c2-277c-4251-97c8-b37948b355b4"
      },
      "execution_count": null,
      "outputs": [
        {
          "output_type": "stream",
          "name": "stdout",
          "text": [
            "ID: swarovski-advanced-analytics-data-ingestion-test\n",
            "Name: swarovski-advanced-analytics-data-ingestion-test\n",
            "Storage Class: STANDARD\n",
            "Location: EU\n",
            "Location Type: multi-region\n"
          ]
        },
        {
          "output_type": "execute_result",
          "data": {
            "text/plain": [
              "{'bucket_id': 'swarovski-advanced-analytics-data-ingestion-test',\n",
              " 'Name': 'swarovski-advanced-analytics-data-ingestion-test',\n",
              " 'Storage Class': 'STANDARD',\n",
              " 'Location': 'EU',\n",
              " 'Location Type': 'multi-region'}"
            ]
          },
          "metadata": {},
          "execution_count": 35
        }
      ]
    },
    {
      "cell_type": "code",
      "source": [
        "def file_path_policy_respected_check(file_path):\n",
        "    #function that checks whether the path policy of a certain bucket is respected or not\n",
        "    #each path should be in the following format \n",
        "    path_chuncks = file_path.split('/')[2:-1]\n",
        "\n",
        "    if path_chuncks == 5 : policy_respected = True\n",
        "    else : policy_respected = False\n",
        "\n",
        "    return policy_respected"
      ],
      "metadata": {
        "id": "P-5l9xPCMSOG"
      },
      "execution_count": null,
      "outputs": []
    },
    {
      "cell_type": "code",
      "source": [
        "def file_path_split_up(file_path):\n",
        "    #function that splits up the file path into all its components\n",
        "\n",
        "    data = {}\n",
        "    data['file_path_source_system']\n",
        "    data['file_path_pipeline_code']\n",
        "    return data"
      ],
      "metadata": {
        "id": "4i65R-OXkahY"
      },
      "execution_count": null,
      "outputs": []
    },
    {
      "cell_type": "code",
      "source": [
        "from google.cloud import storage\n",
        "\n",
        "project_id = 'advanced-analytics-278408'\n",
        "client = storage.Client(project_id)\n",
        "\n",
        "file_path = 'gs://swarovski-advanced-analytics-data-ingestion-prod/raw/50_adyen/5004__ad_payment'\n",
        "\n"
      ],
      "metadata": {
        "id": "0NzcZ0X4otiY"
      },
      "execution_count": null,
      "outputs": []
    },
    {
      "cell_type": "code",
      "source": [
        "import os \n",
        "\n",
        "#string for manual chec\n",
        "path_ori = \"gs://swarovski-advanced-analytics-data-ingestion-prod/raw/18_qudini/1801\"\n",
        "\n",
        "#tmp = os.popen('gsutil ls -l gs://swarovski-advanced-analytics-data-ingestion-prod/raw/50_adyen/5004__ad_payment').read().split()\n",
        "tmp = os.popen('gsutil stat ' + str(path_ori)).read() #.split()\n",
        "tmp"
      ],
      "metadata": {
        "id": "b2mInIfzvmL-",
        "colab": {
          "base_uri": "https://localhost:8080/",
          "height": 35
        },
        "outputId": "831cf7a1-62cb-4824-b6a4-aee38e492f9c"
      },
      "execution_count": 33,
      "outputs": [
        {
          "output_type": "execute_result",
          "data": {
            "text/plain": [
              "''"
            ],
            "application/vnd.google.colaboratory.intrinsic+json": {
              "type": "string"
            }
          },
          "metadata": {},
          "execution_count": 33
        }
      ]
    },
    {
      "cell_type": "code",
      "source": [
        "tmp2 = \n"
      ],
      "metadata": {
        "id": "sZwckdp7rzDQ",
        "colab": {
          "base_uri": "https://localhost:8080/"
        },
        "outputId": "c9fb8211-b99c-492e-a0a8-59c13f05483c"
      },
      "execution_count": 30,
      "outputs": [
        {
          "output_type": "execute_result",
          "data": {
            "text/plain": [
              "['0',\n",
              " '2021-11-22T13:28:47Z',\n",
              " 'gs://swarovski-advanced-analytics-data-ingestion-prod/raw/18_qudini/1801/',\n",
              " 'gs://swarovski-advanced-analytics-data-ingestion-prod/raw/18_qudini/1801/v0/',\n",
              " 'gs://swarovski-advanced-analytics-data-ingestion-prod/raw/18_qudini/1801/v1/',\n",
              " 'gs://swarovski-advanced-analytics-data-ingestion-prod/raw/18_qudini/1801/v2/',\n",
              " 'gs://swarovski-advanced-analytics-data-ingestion-prod/raw/18_qudini/1801/v3/',\n",
              " 'TOTAL:',\n",
              " '1',\n",
              " 'objects,',\n",
              " '0',\n",
              " 'bytes',\n",
              " '(0',\n",
              " 'B)']"
            ]
          },
          "metadata": {},
          "execution_count": 30
        }
      ]
    },
    {
      "cell_type": "code",
      "source": [
        "tmp[0].split('/')"
      ],
      "metadata": {
        "colab": {
          "base_uri": "https://localhost:8080/"
        },
        "id": "p5IktIq0r3Cb",
        "outputId": "9d9cd122-32db-41ee-df6b-0ce6a545537e"
      },
      "execution_count": 26,
      "outputs": [
        {
          "output_type": "execute_result",
          "data": {
            "text/plain": [
              "['0']"
            ]
          },
          "metadata": {},
          "execution_count": 26
        }
      ]
    },
    {
      "cell_type": "code",
      "source": [
        "#extract disk usage for each subfolder in the bucket \n",
        "\n",
        "cnt = 0\n",
        "\n",
        "for i in range(len(path)):\n",
        "  print(path[i])\n",
        "\n",
        "  #count objects \n",
        "\n",
        "  cnt = os.popen(\"gsutil ls -l \"+str(path[i]) + \"*  | wc -l\").read()\n",
        "  print(cnt)"
      ],
      "metadata": {
        "id": "AK2ur-fSzDKn"
      },
      "execution_count": null,
      "outputs": []
    },
    {
      "cell_type": "code",
      "source": [
        "#function that counts the within each folder\n",
        "#it takes the path from the previous step \n",
        "\n",
        "cnt  = 0\n",
        "size = 0\n",
        "\n",
        "for i in range(len(path)):\n",
        "\n",
        "  path_ = path[i].split('/')\n",
        "  prefix = path_[3]+'/'+path_[4]+'/'+path_[5]  +'/'+path_[6]\n",
        "  print(path[i])\n",
        "\n",
        "  for blob in client.list_blobs(path_[2],prefix=prefix):\n",
        "      cnt += 1\n",
        "\n",
        "  print(\"Number of objects : \" + str(cnt))\n",
        " \n",
        "  size = os.popen(\"gsutil du -s \" + str(path[i])).read().split()\n",
        "  print(\"Size : \" + str(size[0]))\n"
      ],
      "metadata": {
        "colab": {
          "base_uri": "https://localhost:8080/"
        },
        "id": "VpSROordwKb-",
        "outputId": "bc7b7988-77d2-4471-9ecf-daf03ad195a0"
      },
      "execution_count": null,
      "outputs": [
        {
          "output_type": "stream",
          "name": "stdout",
          "text": [
            "gs://swarovski-advanced-analytics-data-ingestion-prod/raw/50_adyen/5004__ad_payment/5004/\n",
            "Number of objects : 11782\n",
            "Size : 286119896\n",
            "gs://swarovski-advanced-analytics-data-ingestion-prod/raw/50_adyen/5004__ad_payment/v1/\n",
            "Number of objects : 157069\n",
            "Size : 3417370015\n",
            "gs://swarovski-advanced-analytics-data-ingestion-prod/raw/50_adyen/5004__ad_payment/v2/\n",
            "Number of objects : 744854\n",
            "Size : 613543572\n",
            "gs://swarovski-advanced-analytics-data-ingestion-prod/raw/50_adyen/5004__ad_payment/v2_backfill/\n",
            "Number of objects : 1005076\n",
            "Size : 672161374\n"
          ]
        }
      ]
    },
    {
      "cell_type": "code",
      "source": [
        "#extract file usage for each path \n",
        "\n",
        "out = os.popen(\"gsutil du -s gs://swarovski-advanced-analytics-data-ingestion-prod/raw/50_adyen/5004__ad_payment/v1/\").read()"
      ],
      "metadata": {
        "id": "3Yi2FD0H1KFP"
      },
      "execution_count": null,
      "outputs": []
    },
    {
      "cell_type": "code",
      "source": [
        "out.split()"
      ],
      "metadata": {
        "colab": {
          "base_uri": "https://localhost:8080/"
        },
        "id": "zxzHGAurUUMA",
        "outputId": "5518d56b-57c8-49d3-c954-5412b3c731e7"
      },
      "execution_count": null,
      "outputs": [
        {
          "output_type": "execute_result",
          "data": {
            "text/plain": [
              "['3417370015',\n",
              " 'gs://swarovski-advanced-analytics-data-ingestion-prod/raw/50_adyen/5004__ad_payment/v1']"
            ]
          },
          "metadata": {},
          "execution_count": 64
        }
      ]
    },
    {
      "cell_type": "code",
      "source": [
        "#function to check whether the file policy name is respected or not\n",
        "\n",
        "project_id = 'advanced-analytics-278408'\n",
        "client = storage.Client(project_id)\n",
        "\n",
        "#function #test path swarovski-advanced-analytics-data-ingestion-prod/raw/18_qudini/1801/v1/2022\n",
        "\n",
        "\n",
        "for blob in client.list_blobs('swarovski-advanced-analytics-data-ingestion-prod',prefix='raw/18_qudini/1801/v1/2022'):\n",
        "\n",
        "   \n",
        "    #print(k,blob.name)\n",
        "  print(len((blob.name.split('/')[-1]).split('__')))\n",
        "  print((blob.name.split('/')[-1]).split('__'))\n",
        "  if len((blob.name.split('/')[-1]).split('__')) != 4 : \n",
        "    print(\"Found not conformal file\")\n",
        "    break\n",
        "\n",
        "  \n",
        "\n",
        " "
      ],
      "metadata": {
        "colab": {
          "base_uri": "https://localhost:8080/"
        },
        "id": "lVAav9JGUUyX",
        "outputId": "fe4e3d21-9152-4a79-d31b-aac3c2c3fc7a"
      },
      "execution_count": 23,
      "outputs": [
        {
          "output_type": "stream",
          "name": "stdout",
          "text": [
            "4\n",
            "['1801', 'qudini_appointment_au', 'fl', '20220110_20220117.csv']\n",
            "4\n",
            "['1801', 'qudini_appointment_au', 'fl', '20220117_20220124.csv']\n",
            "4\n",
            "['1801', 'qudini_appointment_au', 'fl', '20220124_20220131.csv']\n",
            "4\n",
            "['1801', 'qudini_appointment_au', 'fl', '20220131_20220207.csv']\n",
            "4\n",
            "['1801', 'qudini_appointment_au', 'fl', '20220207_20220214.csv']\n",
            "4\n",
            "['1801', 'qudini_appointment_au', 'fl', '20220214_20220221.csv']\n",
            "4\n",
            "['1801', 'qudini_appointment_au', 'fl', '20220221_20220228.csv']\n",
            "4\n",
            "['1801', 'qudini_appointment_au', 'fl', '20220228_20220307.csv']\n",
            "4\n",
            "['1801', 'qudini_appointment_au', 'fl', '20220307_20220314.csv']\n",
            "4\n",
            "['1801', 'qudini_appointment_au', 'fl', '20220314_20220321.csv']\n",
            "4\n",
            "['1801', 'qudini_appointment_au', 'fl', '20220321_20220328.csv']\n",
            "4\n",
            "['1801', 'qudini_appointment_au', 'fl', '20220328_20220404.csv']\n",
            "4\n",
            "['1801', 'qudini_appointment_au', 'fl', '20220404_20220411.csv']\n",
            "4\n",
            "['1801', 'qudini_appointment_eu', 'fl', '20220103_20220110.csv']\n",
            "4\n",
            "['1801', 'qudini_appointment_eu', 'fl', '20220110_20220117.csv']\n",
            "4\n",
            "['1801', 'qudini_appointment_eu', 'fl', '20220117_20220124.csv']\n",
            "4\n",
            "['1801', 'qudini_appointment_eu', 'fl', '20220124_20220131.csv']\n",
            "4\n",
            "['1801', 'qudini_appointment_eu', 'fl', '20220131_20220207.csv']\n",
            "4\n",
            "['1801', 'qudini_appointment_eu', 'fl', '20220207_20220214.csv']\n",
            "4\n",
            "['1801', 'qudini_appointment_eu', 'fl', '20220214_20220221.csv']\n",
            "4\n",
            "['1801', 'qudini_appointment_eu', 'fl', '20220221_20220228.csv']\n",
            "4\n",
            "['1801', 'qudini_appointment_eu', 'fl', '20220228_20220307.csv']\n",
            "4\n",
            "['1801', 'qudini_appointment_eu', 'fl', '20220307_20220314.csv']\n",
            "4\n",
            "['1801', 'qudini_appointment_eu', 'fl', '20220314_20220321.csv']\n",
            "4\n",
            "['1801', 'qudini_appointment_eu', 'fl', '20220321_20220328.csv']\n",
            "4\n",
            "['1801', 'qudini_appointment_eu', 'fl', '20220328_20220404.csv']\n",
            "4\n",
            "['1801', 'qudini_appointment_eu', 'fl', '20220404_20220411.csv']\n",
            "4\n",
            "['1801', 'qudini_appointment_us', 'fl', '20220103_20220110.csv']\n",
            "4\n",
            "['1801', 'qudini_appointment_us', 'fl', '20220110_20220117.csv']\n",
            "4\n",
            "['1801', 'qudini_appointment_us', 'fl', '20220117_20220124.csv']\n",
            "4\n",
            "['1801', 'qudini_appointment_us', 'fl', '20220124_20220131.csv']\n",
            "4\n",
            "['1801', 'qudini_appointment_us', 'fl', '20220131_20220207.csv']\n",
            "4\n",
            "['1801', 'qudini_appointment_us', 'fl', '20220207_20220214.csv']\n",
            "4\n",
            "['1801', 'qudini_appointment_us', 'fl', '20220214_20220221.csv']\n",
            "4\n",
            "['1801', 'qudini_appointment_us', 'fl', '20220221_20220228.csv']\n",
            "4\n",
            "['1801', 'qudini_appointment_us', 'fl', '20220228_20220307.csv']\n",
            "4\n",
            "['1801', 'qudini_appointment_us', 'fl', '20220307_20220314.csv']\n",
            "4\n",
            "['1801', 'qudini_appointment_us', 'fl', '20220314_20220321.csv']\n",
            "4\n",
            "['1801', 'qudini_appointment_us', 'fl', '20220321_20220328.csv']\n",
            "4\n",
            "['1801', 'qudini_appointment_us', 'fl', '20220328_20220404.csv']\n",
            "4\n",
            "['1801', 'qudini_appointment_us', 'fl', '20220404_20220411.csv']\n"
          ]
        }
      ]
    },
    {
      "cell_type": "code",
      "source": [
        "#function to get the last updated file in the bucket \n",
        "\n",
        "# get  blobs\n",
        "bucket_name = 'swarovski-advanced-analytics-data-ingestion-prod'\n",
        "prefix = 'raw/18_qudini/1801/v1/2022'\n",
        "\n",
        "#generate a list of blobs\n",
        "\n",
        "blobs = [(blob, blob.updated) for blob in client.list_blobs(\n",
        "    bucket_name,\n",
        "    prefix = prefix,\n",
        ")]\n"
      ],
      "metadata": {
        "id": "Od5EvG3SIjVE"
      },
      "execution_count": 6,
      "outputs": []
    },
    {
      "cell_type": "code",
      "source": [
        "#sort blobs by update date\n",
        "latest       = sorted(blobs, key=lambda tup: tup[1])[-1] #ok funziona\n",
        "first        = sorted(blobs, key=lambda tup: tup[1])[0]"
      ],
      "metadata": {
        "id": "6vCyuQqDPjey"
      },
      "execution_count": 7,
      "outputs": []
    },
    {
      "cell_type": "code",
      "source": [
        "def extract_info_from_filename(filename):\n",
        "\n",
        "  out = {}\n",
        "  out['pipeline_code_info'] = filename.split('__')[0]\n",
        "  out['pipeline_name_info'] = filename.split('__')[1]\n",
        "  out['pipeline_windowframe_info'] = filename.split('__')[2]\n",
        "  return out\n"
      ],
      "metadata": {
        "id": "_hXwuk3LTsX4"
      },
      "execution_count": 8,
      "outputs": []
    },
    {
      "cell_type": "code",
      "source": [
        "def convert_datetime_to_string(data):\n",
        "  return data.strftime('%Y-%d-%m | %H:%M:%S')"
      ],
      "metadata": {
        "id": "QS5q2BNlTDEA"
      },
      "execution_count": 9,
      "outputs": []
    },
    {
      "cell_type": "code",
      "source": [
        "print(convert_datetime_to_string(latest[1]))\n",
        "print(convert_datetime_to_string(first[1]))"
      ],
      "metadata": {
        "colab": {
          "base_uri": "https://localhost:8080/"
        },
        "id": "6LZ-HUSGPkPU",
        "outputId": "c6e42f72-dcc6-4261-f740-a7812959b118"
      },
      "execution_count": 10,
      "outputs": [
        {
          "output_type": "stream",
          "name": "stdout",
          "text": [
            "2022-11-04 | 08:00:58\n",
            "2022-29-03 | 08:42:36\n"
          ]
        }
      ]
    },
    {
      "cell_type": "code",
      "source": [
        "from datetime import datetime, date, timedelta\n",
        "#files period covered\n",
        "\n",
        "#generate list from the first and last day \n",
        "def generate_list(start,end):\n",
        "\n",
        "    delta = end - start   # returns timedelta\n",
        "    day_list = []\n",
        "\n",
        "    for i in range(delta.days + 1):\n",
        "        day = start + timedelta(days=i)\n",
        "        day_list.append(day.strftime('%Y%m%d'))  # NB restore day_list.append(day.strftime('%Y-%m-%d')) \n",
        "    \n",
        "    return day_list\n",
        "\n",
        "list_day = generate_list(first[1],latest[1])\n",
        "\n",
        "#check that in the bucket \n",
        "\n",
        "list_day"
      ],
      "metadata": {
        "colab": {
          "base_uri": "https://localhost:8080/"
        },
        "id": "qUhAXalgQbhU",
        "outputId": "e4801482-6793-4d12-f1c8-79f9c38bb466"
      },
      "execution_count": 11,
      "outputs": [
        {
          "output_type": "execute_result",
          "data": {
            "text/plain": [
              "['20220329',\n",
              " '20220330',\n",
              " '20220331',\n",
              " '20220401',\n",
              " '20220402',\n",
              " '20220403',\n",
              " '20220404',\n",
              " '20220405',\n",
              " '20220406',\n",
              " '20220407',\n",
              " '20220408',\n",
              " '20220409',\n",
              " '20220410']"
            ]
          },
          "metadata": {},
          "execution_count": 11
        }
      ]
    },
    {
      "cell_type": "code",
      "source": [
        "blobs_check = [[blob.name, blob.updated.strftime('%Y%m%d')] for blob in client.list_blobs(\n",
        "    bucket_name,\n",
        "    prefix = prefix,\n",
        ")]"
      ],
      "metadata": {
        "id": "QX7jAeL_bxbg"
      },
      "execution_count": 12,
      "outputs": []
    },
    {
      "cell_type": "code",
      "source": [
        "import numpy as np\n",
        "\n",
        "blobs_array = np.asmatrix(blobs_check)"
      ],
      "metadata": {
        "id": "LjTeR7nubyfC"
      },
      "execution_count": 13,
      "outputs": []
    },
    {
      "cell_type": "code",
      "source": [
        "list2 = blobs_array[:,1]\n",
        "list2"
      ],
      "metadata": {
        "id": "LoWEDBgIjhQ8",
        "colab": {
          "base_uri": "https://localhost:8080/"
        },
        "outputId": "76bde45a-71d1-4657-a1d7-8af314f88699"
      },
      "execution_count": 14,
      "outputs": [
        {
          "output_type": "execute_result",
          "data": {
            "text/plain": [
              "matrix([['20220329'],\n",
              "        ['20220329'],\n",
              "        ['20220329'],\n",
              "        ['20220329'],\n",
              "        ['20220329'],\n",
              "        ['20220329'],\n",
              "        ['20220329'],\n",
              "        ['20220329'],\n",
              "        ['20220329'],\n",
              "        ['20220329'],\n",
              "        ['20220329'],\n",
              "        ['20220403'],\n",
              "        ['20220410'],\n",
              "        ['20220329'],\n",
              "        ['20220329'],\n",
              "        ['20220329'],\n",
              "        ['20220329'],\n",
              "        ['20220329'],\n",
              "        ['20220329'],\n",
              "        ['20220329'],\n",
              "        ['20220329'],\n",
              "        ['20220329'],\n",
              "        ['20220329'],\n",
              "        ['20220329'],\n",
              "        ['20220329'],\n",
              "        ['20220404'],\n",
              "        ['20220411'],\n",
              "        ['20220329'],\n",
              "        ['20220329'],\n",
              "        ['20220329'],\n",
              "        ['20220329'],\n",
              "        ['20220329'],\n",
              "        ['20220329'],\n",
              "        ['20220329'],\n",
              "        ['20220329'],\n",
              "        ['20220329'],\n",
              "        ['20220329'],\n",
              "        ['20220329'],\n",
              "        ['20220329'],\n",
              "        ['20220404'],\n",
              "        ['20220411']], dtype='<U81')"
            ]
          },
          "metadata": {},
          "execution_count": 14
        }
      ]
    },
    {
      "cell_type": "code",
      "source": [
        "check = all(item in list_day for item in list2)"
      ],
      "metadata": {
        "id": "6AG5llrRkaQO"
      },
      "execution_count": 15,
      "outputs": []
    },
    {
      "cell_type": "code",
      "source": [
        "check"
      ],
      "metadata": {
        "colab": {
          "base_uri": "https://localhost:8080/"
        },
        "id": "pGePIxNVqmMN",
        "outputId": "c4c62aa1-8d57-415b-a555-918367b6e6a8"
      },
      "execution_count": 16,
      "outputs": [
        {
          "output_type": "execute_result",
          "data": {
            "text/plain": [
              "False"
            ]
          },
          "metadata": {},
          "execution_count": 16
        }
      ]
    },
    {
      "cell_type": "code",
      "source": [
        "#write small function to check if all the element in list 1 are contained in list2\n",
        "\n",
        "def check_missing_days(list1,list2):\n",
        "  #function that checks if all days are present \n",
        "  #list1 contains the set that needs to be checked\n",
        "  #list2 contains the whole list\n",
        "\n",
        "  missings = []\n",
        "\n",
        "  for item in list2:\n",
        "\n",
        "    if item in list1:\n",
        "      pass\n",
        "    else:\n",
        "      missings.append(item)\n",
        "\n",
        "  return missings\n"
      ],
      "metadata": {
        "id": "ZKwm58C-qobm"
      },
      "execution_count": 17,
      "outputs": []
    },
    {
      "cell_type": "code",
      "source": [
        "missings = check_missing_days(blobs_array[:,1],list_day)\n",
        "\n",
        "if len(missings) == 0 : is_list_empty = True\n",
        "else: is_list_empty = False"
      ],
      "metadata": {
        "id": "2w1ACTw2r_zk"
      },
      "execution_count": 18,
      "outputs": []
    },
    {
      "cell_type": "code",
      "source": [
        "is_list_empty"
      ],
      "metadata": {
        "colab": {
          "base_uri": "https://localhost:8080/"
        },
        "id": "cUQrdqAzsD0L",
        "outputId": "eff4d121-4573-45c8-b280-c10679a78ace"
      },
      "execution_count": 19,
      "outputs": [
        {
          "output_type": "execute_result",
          "data": {
            "text/plain": [
              "False"
            ]
          },
          "metadata": {},
          "execution_count": 19
        }
      ]
    },
    {
      "cell_type": "code",
      "source": [
        "missings"
      ],
      "metadata": {
        "id": "xCUQd4wIvZvX",
        "colab": {
          "base_uri": "https://localhost:8080/"
        },
        "outputId": "8f7a8690-96e3-44a2-ed00-aa0d947900b6"
      },
      "execution_count": 21,
      "outputs": [
        {
          "output_type": "execute_result",
          "data": {
            "text/plain": [
              "['20220330',\n",
              " '20220331',\n",
              " '20220401',\n",
              " '20220402',\n",
              " '20220405',\n",
              " '20220406',\n",
              " '20220407',\n",
              " '20220408',\n",
              " '20220409']"
            ]
          },
          "metadata": {},
          "execution_count": 21
        }
      ]
    },
    {
      "cell_type": "code",
      "source": [],
      "metadata": {
        "id": "hjwvLAxTaSTD"
      },
      "execution_count": null,
      "outputs": []
    }
  ]
}